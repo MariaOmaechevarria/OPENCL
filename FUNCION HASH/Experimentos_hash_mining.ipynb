{
 "cells": [
  {
   "cell_type": "markdown",
   "metadata": {},
   "source": [
    "INSTALAR PYOPENCL"
   ]
  },
  {
   "cell_type": "code",
   "execution_count": 1,
   "metadata": {},
   "outputs": [
    {
     "name": "stdout",
     "output_type": "stream",
     "text": [
      "Defaulting to user installation because normal site-packages is not writeable\n",
      "Requirement already satisfied: pyopencl in c:\\users\\maria\\appdata\\local\\packages\\pythonsoftwarefoundation.python.3.12_qbz5n2kfra8p0\\localcache\\local-packages\\python312\\site-packages (2024.3)\n",
      "Requirement already satisfied: numpy in c:\\users\\maria\\appdata\\local\\packages\\pythonsoftwarefoundation.python.3.12_qbz5n2kfra8p0\\localcache\\local-packages\\python312\\site-packages (from pyopencl) (2.1.2)\n",
      "Requirement already satisfied: platformdirs>=2.2 in c:\\users\\maria\\appdata\\local\\packages\\pythonsoftwarefoundation.python.3.12_qbz5n2kfra8p0\\localcache\\local-packages\\python312\\site-packages (from pyopencl) (4.3.6)\n",
      "Requirement already satisfied: pytools>=2024.1.5 in c:\\users\\maria\\appdata\\local\\packages\\pythonsoftwarefoundation.python.3.12_qbz5n2kfra8p0\\localcache\\local-packages\\python312\\site-packages (from pyopencl) (2024.1.14)\n",
      "Requirement already satisfied: typing-extensions>=4 in c:\\users\\maria\\appdata\\local\\packages\\pythonsoftwarefoundation.python.3.12_qbz5n2kfra8p0\\localcache\\local-packages\\python312\\site-packages (from pytools>=2024.1.5->pyopencl) (4.12.2)\n",
      "Note: you may need to restart the kernel to use updated packages.\n"
     ]
    },
    {
     "name": "stderr",
     "output_type": "stream",
     "text": [
      "\n",
      "[notice] A new release of pip is available: 24.2 -> 24.3.1\n",
      "[notice] To update, run: C:\\Users\\maria\\AppData\\Local\\Microsoft\\WindowsApps\\PythonSoftwareFoundation.Python.3.12_qbz5n2kfra8p0\\python.exe -m pip install --upgrade pip\n"
     ]
    }
   ],
   "source": [
    "pip install pyopencl"
   ]
  },
  {
   "cell_type": "markdown",
   "metadata": {},
   "source": [
    "LIBRERIAS Y ARCHIVOS PARA IMPORTAR"
   ]
  },
  {
   "cell_type": "code",
   "execution_count": 2,
   "metadata": {},
   "outputs": [],
   "source": [
    "import pyopencl as cl\n",
    "import numpy as np\n",
    "import os\n",
    "import pandas as pd\n",
    "import struct\n",
    "from Mineria_GPU_def import kernel_mining,mining_GPU,validate_nonce\n",
    "import os\n",
    "import matplotlib.pyplot as plt\n",
    "import struct\n",
    "import Experimento_mining as ex"
   ]
  },
  {
   "cell_type": "markdown",
   "metadata": {},
   "source": [
    "VALORES IMPORTANTES A MODIFICAR"
   ]
  },
  {
   "cell_type": "code",
   "execution_count": null,
   "metadata": {},
   "outputs": [
    {
     "data": {
      "text/plain": [
       "'\\n\\npath=\"C:/Users/Eevee\"\\n# Datos GPU\\ncompute_units = 82   #Adaptar según la GPU\\nprocessing_elements = 128\\n\\n'"
      ]
     },
     "execution_count": 3,
     "metadata": {},
     "output_type": "execute_result"
    }
   ],
   "source": [
    "'''\n",
    " # Datos GPU\n",
    "compute_units = 96\n",
    "processing_elements = 8\n",
    "\n",
    "#RUTA DE ARCHIVOS\n",
    "path=path=\"C:/Users/maria/OneDrive/OPENCL/RESULTADOS_PORTATIL\" \n",
    "\n",
    "\n",
    "'''\n",
    "\n",
    "path=\"C:/Users/Eevee\"\n",
    "# Datos GPU\n",
    "compute_units = 82   #Adaptar según la GPU\n",
    "processing_elements = 128\n",
    "\n",
    "\n"
   ]
  },
  {
   "cell_type": "markdown",
   "metadata": {},
   "source": [
    "EJECUTAR EXPERIMENTOS"
   ]
  },
  {
   "cell_type": "code",
   "execution_count": null,
   "metadata": {},
   "outputs": [],
   "source": [
    "# TARGET SENCILLO:\n",
    "# Este objetivo (target) tiene una dificultad baja, lo que significa que es más probable encontrar un hash válido.\n",
    "# La dificultad se establece con los primeros bytes menos restrictivos (0x00FFFFFF) y el resto llenos de 0xFFFFFFFF.\n",
    "target = np.array([0x00FFFFFF] + [0xFFFFFFFF] * 7, dtype=np.uint32)\n",
    "target_name = 'target_facil'  # Nombre para identificar este experimento\n",
    "ex.experimento_global_sizes(path, target, target_name)  # Ejecuta el experimento con este target\n",
    "\n",
    "# TARGET MÁS COMPLICADO:\n",
    "# Este objetivo (target) tiene una mayor dificultad en comparación con el anterior.\n",
    "# Los primeros bytes (0x000000FF) hacen que sea mucho menos probable encontrar un hash válido.\n",
    "target_name = 'target_medio'  # Nombre para identificar este experimento\n",
    "target = np.array([0x000000FF] + [0xFFFFFFFF] * 7, dtype=np.uint32)\n",
    "ex.experimento_global_sizes(path, target, target_name)  # Ejecuta el experimento con este target\n",
    "\n",
    "# COMPARAR MUCHOS TIPOS DISTINTOS DE TARGETS:\n",
    "# Esta función realiza un análisis comparativo entre diferentes niveles de dificultad.\n",
    "# Incluye varios targets que van desde dificultad mínima hasta dificultad máxima.\n",
    "# Genera gráficos y tablas comparativas para evaluar cómo afecta el target al tiempo de ejecución.\n",
    "ex.comparacion_targets(path)\n"
   ]
  }
 ],
 "metadata": {
  "kernelspec": {
   "display_name": "Python 3",
   "language": "python",
   "name": "python3"
  },
  "language_info": {
   "codemirror_mode": {
    "name": "ipython",
    "version": 3
   },
   "file_extension": ".py",
   "mimetype": "text/x-python",
   "name": "python",
   "nbconvert_exporter": "python",
   "pygments_lexer": "ipython3",
   "version": "3.12.8"
  }
 },
 "nbformat": 4,
 "nbformat_minor": 2
}
