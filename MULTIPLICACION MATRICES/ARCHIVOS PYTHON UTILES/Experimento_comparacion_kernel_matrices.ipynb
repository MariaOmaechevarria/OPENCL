{
 "cells": [
  {
   "cell_type": "markdown",
   "metadata": {},
   "source": [
    "ARCHIVO PARA COMPARAR KERNELS.\n",
    "SE ESTAN APLICANDO : KERNEL BASICO, KERNEL MEMORIA LOCAL A, KERNEL MULTIPLICACION TILES\n",
    "OBJETIVO: VER QUE KERNEL FUNCIONA MEJOR\n",
    "OUTPUTS: TABLA CON VALORES DE LOS 3 KERNELS PARA UN LOCAL SIZE FIJADO Y DISTINTAS DIMENSIONES MATRICES, GRAFICO\n",
    "DONDE: SE ENCUENTRAN LOS RESULTADOS EN RESULTADOS/COMPARACION KERNELS"
   ]
  },
  {
   "cell_type": "markdown",
   "metadata": {},
   "source": [
    "INSTALAR PYOPENCL"
   ]
  },
  {
   "cell_type": "code",
   "execution_count": null,
   "metadata": {},
   "outputs": [],
   "source": [
    "pip install pyopencl"
   ]
  },
  {
   "cell_type": "code",
   "execution_count": null,
   "metadata": {},
   "outputs": [],
   "source": [
    "IMPORTAR FUNCIONES Y LIBRERIAS"
   ]
  },
  {
   "cell_type": "code",
   "execution_count": 2,
   "metadata": {},
   "outputs": [],
   "source": [
    "import funciones_matrices as fm\n",
    "import kernels_matrices as km\n",
    "import numpy as np\n",
    "import pyopencl as cl\n",
    "import pandas as pd\n",
    "import matplotlib as plt\n",
    "import os\n",
    "import experimento_matrices as em\n",
    "import matplotlib.pyplot as plt"
   ]
  },
  {
   "cell_type": "markdown",
   "metadata": {},
   "source": [
    "CODIGO A EJECUTAR: EXPERIMENTO"
   ]
  },
  {
   "cell_type": "code",
   "execution_count": null,
   "metadata": {},
   "outputs": [],
   "source": [
    "def prueba():\n",
    "    # Datos GPU\n",
    "    compute_units = 82\n",
    "    processing_elements = 128\n",
    "\n",
    "    # Datos DEVICE\n",
    "    device_type = cl.device_type.GPU \n",
    "\n",
    "    #Lista kernels\n",
    "    kernel_codes=[km.MatrixMul_kernel1,km.MatrixMul_kernel_localA_coallesced,km.MatrixMul_Local_Memory]\n",
    "    kernel_names=[\"MatrixMul_kernel1\",\"MatrixMul_kernel_localA_coallesced\",\"MatrixMul_Local_Memory\"]\n",
    "    aplicar_funcs=[fm.mult_mat_basica,fm.mult_mat_local,fm.mult_mat_local_tiles]\n",
    "\n",
    "    # Directorio base para guardar los gráficos\n",
    "    base_save_dir = \"C:/Users/Eevee/Documents/OPENCL TFG IMP/MULTIPLICACION MATRICES/RESULTADOS/Comparacion kernels\"\n",
    "\n",
    "    #Local size \n",
    "    local_size=(8,8)\n",
    "\n",
    "    # Ejecutar los experimentos\n",
    "    em.experimento_kernels( kernel_codes, kernel_names, aplicar_funcs, device_type, local_size, base_save_dir)\n",
    "\n",
    "prueba()"
   ]
  }
 ],
 "metadata": {
  "kernelspec": {
   "display_name": "Python 3",
   "language": "python",
   "name": "python3"
  },
  "language_info": {
   "codemirror_mode": {
    "name": "ipython",
    "version": 3
   },
   "file_extension": ".py",
   "mimetype": "text/x-python",
   "name": "python",
   "nbconvert_exporter": "python",
   "pygments_lexer": "ipython3",
   "version": "3.11.0"
  }
 },
 "nbformat": 4,
 "nbformat_minor": 2
}
