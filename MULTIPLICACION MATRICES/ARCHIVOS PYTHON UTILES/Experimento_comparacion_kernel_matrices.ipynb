{
 "cells": [
  {
   "cell_type": "code",
   "execution_count": 1,
   "metadata": {},
   "outputs": [
    {
     "name": "stdout",
     "output_type": "stream",
     "text": [
      "Defaulting to user installation because normal site-packages is not writeable\n",
      "Requirement already satisfied: pyopencl in c:\\users\\eevee\\appdata\\roaming\\python\\python311\\site-packages (2024.2.7)\n",
      "Requirement already satisfied: numpy in c:\\program files\\python311\\lib\\site-packages (from pyopencl) (1.23.4)\n",
      "Requirement already satisfied: platformdirs>=2.2.0 in c:\\users\\eevee\\appdata\\roaming\\python\\python311\\site-packages (from pyopencl) (4.3.6)\n",
      "Requirement already satisfied: pytools>=2024.1.5 in c:\\users\\eevee\\appdata\\roaming\\python\\python311\\site-packages (from pyopencl) (2024.1.14)\n",
      "Requirement already satisfied: typing-extensions>=4 in c:\\users\\eevee\\appdata\\roaming\\python\\python311\\site-packages (from pytools>=2024.1.5->pyopencl) (4.12.2)\n",
      "Note: you may need to restart the kernel to use updated packages.\n"
     ]
    }
   ],
   "source": [
    "pip install pyopencl"
   ]
  },
  {
   "cell_type": "code",
   "execution_count": 2,
   "metadata": {},
   "outputs": [],
   "source": [
    "import funciones_matrices as fm\n",
    "import kernels_matrices as km\n",
    "import numpy as np\n",
    "import pyopencl as cl\n",
    "import pandas as pd\n",
    "import matplotlib as plt\n",
    "import os\n",
    "import experimento_matrices as em\n",
    "import matplotlib.pyplot as plt"
   ]
  },
  {
   "cell_type": "code",
   "execution_count": 3,
   "metadata": {},
   "outputs": [
    {
     "name": "stdout",
     "output_type": "stream",
     "text": [
      "DataFrames guardados y formateados en Excel en C:/Users/Eevee/Documents/OPENCL TFG IMP/MULTIPLICACION MATRICES/RESULTADOS/Comparacion kernels\\MatrixMul_Local_Memory_resultados.xlsx\\resultados.xlsx\n",
      "            MatrixMul_kernel1  MatrixMul_kernel_localA_coallesced  \\\n",
      "Dim Matrix                                                          \n",
      "8                    0.000005                            0.000004   \n",
      "16                   0.000005                            0.000004   \n",
      "32                   0.000005                            0.000005   \n",
      "64                   0.000006                            0.000004   \n",
      "128                  0.000010                            0.000006   \n",
      "256                  0.000041                            0.000022   \n",
      "512                  0.000288                            0.000127   \n",
      "1024                 0.003100                            0.000965   \n",
      "2048                 0.019094                            0.008570   \n",
      "4096                 0.145699                            0.100810   \n",
      "8192                 1.016837                            1.197450   \n",
      "\n",
      "            MatrixMul_Local_Memory  \n",
      "Dim Matrix                          \n",
      "8                         0.000005  \n",
      "16                        0.000004  \n",
      "32                        0.000005  \n",
      "64                        0.000005  \n",
      "128                       0.000009  \n",
      "256                       0.000027  \n",
      "512                       0.000157  \n",
      "1024                      0.001146  \n",
      "2048                      0.009153  \n",
      "4096                      0.090848  \n",
      "8192                      0.793033  \n",
      "Gráfico guardado en C:/Users/Eevee/Documents/OPENCL TFG IMP/MULTIPLICACION MATRICES/RESULTADOS/Comparacion kernels\\KERNELS_tiempos_ejecucion.png\n"
     ]
    }
   ],
   "source": [
    "def prueba():\n",
    "    # Datos GPU\n",
    "    compute_units = 82\n",
    "    processing_elements = 128\n",
    "\n",
    "    # Datos DEVICE\n",
    "    device_type = cl.device_type.GPU \n",
    "\n",
    "    #Lista kernels\n",
    "    kernel_codes=[km.MatrixMul_kernel1,km.MatrixMul_kernel_localA_coallesced,km.MatrixMul_Local_Memory]\n",
    "    kernel_names=[\"MatrixMul_kernel1\",\"MatrixMul_kernel_localA_coallesced\",\"MatrixMul_Local_Memory\"]\n",
    "    aplicar_funcs=[fm.mult_mat_basica,fm.mult_mat_local,fm.mult_mat_local_tiles]\n",
    "\n",
    "    # Directorio base para guardar los gráficos\n",
    "    base_save_dir = \"C:/Users/Eevee/Documents/OPENCL TFG IMP/MULTIPLICACION MATRICES/RESULTADOS/Comparacion kernels\"\n",
    "\n",
    "    #Local size \n",
    "    local_size=(8,8)\n",
    "\n",
    "    # Ejecutar los experimentos\n",
    "    em.experimento_kernels( kernel_codes, kernel_names, aplicar_funcs, device_type, local_size, base_save_dir)\n",
    "\n",
    "prueba()"
   ]
  }
 ],
 "metadata": {
  "kernelspec": {
   "display_name": "Python 3",
   "language": "python",
   "name": "python3"
  },
  "language_info": {
   "codemirror_mode": {
    "name": "ipython",
    "version": 3
   },
   "file_extension": ".py",
   "mimetype": "text/x-python",
   "name": "python",
   "nbconvert_exporter": "python",
   "pygments_lexer": "ipython3",
   "version": "3.11.0"
  }
 },
 "nbformat": 4,
 "nbformat_minor": 2
}
