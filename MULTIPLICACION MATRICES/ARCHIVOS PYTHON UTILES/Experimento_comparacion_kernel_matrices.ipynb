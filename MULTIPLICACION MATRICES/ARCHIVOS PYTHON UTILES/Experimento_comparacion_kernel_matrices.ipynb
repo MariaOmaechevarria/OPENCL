{
 "cells": [
  {
   "cell_type": "markdown",
   "metadata": {},
   "source": [
    "EXPERIMENTO: Archivo para comparar kernels.\n",
    "\n",
    "KERNELS: kernel básico, kernel memoria local A, kernel multiplicación tiles.\n",
    "\n",
    "Objetivo: ver qué kernel funciona mejor.\n",
    "\n",
    "Outputs: tabla con valores de los 3 kernels para un local size fijado y distintas dimensiones de matrices, gráfico.\n",
    "\n",
    "Donde: se encuentran los resultados en RESULTADOS/COMPARACION KERNELS."
   ]
  },
  {
   "cell_type": "markdown",
   "metadata": {},
   "source": [
    "INSTALAR PYOPENCL"
   ]
  },
  {
   "cell_type": "code",
   "execution_count": 1,
   "metadata": {},
   "outputs": [
    {
     "name": "stdout",
     "output_type": "stream",
     "text": [
      "Defaulting to user installation because normal site-packages is not writeable\n",
      "Requirement already satisfied: pyopencl in c:\\users\\maria\\appdata\\local\\packages\\pythonsoftwarefoundation.python.3.12_qbz5n2kfra8p0\\localcache\\local-packages\\python312\\site-packages (2024.3)\n",
      "Requirement already satisfied: numpy in c:\\users\\maria\\appdata\\local\\packages\\pythonsoftwarefoundation.python.3.12_qbz5n2kfra8p0\\localcache\\local-packages\\python312\\site-packages (from pyopencl) (2.1.2)\n",
      "Requirement already satisfied: platformdirs>=2.2 in c:\\users\\maria\\appdata\\local\\packages\\pythonsoftwarefoundation.python.3.12_qbz5n2kfra8p0\\localcache\\local-packages\\python312\\site-packages (from pyopencl) (4.3.6)\n",
      "Requirement already satisfied: pytools>=2024.1.5 in c:\\users\\maria\\appdata\\local\\packages\\pythonsoftwarefoundation.python.3.12_qbz5n2kfra8p0\\localcache\\local-packages\\python312\\site-packages (from pyopencl) (2024.1.14)\n",
      "Requirement already satisfied: typing-extensions>=4 in c:\\users\\maria\\appdata\\local\\packages\\pythonsoftwarefoundation.python.3.12_qbz5n2kfra8p0\\localcache\\local-packages\\python312\\site-packages (from pytools>=2024.1.5->pyopencl) (4.12.2)\n",
      "Note: you may need to restart the kernel to use updated packages.\n"
     ]
    },
    {
     "name": "stderr",
     "output_type": "stream",
     "text": [
      "\n",
      "[notice] A new release of pip is available: 24.2 -> 24.3.1\n",
      "[notice] To update, run: C:\\Users\\maria\\AppData\\Local\\Microsoft\\WindowsApps\\PythonSoftwareFoundation.Python.3.12_qbz5n2kfra8p0\\python.exe -m pip install --upgrade pip\n"
     ]
    }
   ],
   "source": [
    "pip install pyopencl"
   ]
  },
  {
   "cell_type": "markdown",
   "metadata": {},
   "source": [
    "IMPORTAR FUNCIONES Y LIBRERIAS"
   ]
  },
  {
   "cell_type": "code",
   "execution_count": 2,
   "metadata": {},
   "outputs": [],
   "source": [
    "import funciones_matrices as fm\n",
    "import kernels_matrices as km\n",
    "import numpy as np\n",
    "import pyopencl as cl\n",
    "import pandas as pd\n",
    "import matplotlib as plt\n",
    "import os\n",
    "import experimento_matrices as em\n",
    "import matplotlib.pyplot as plt"
   ]
  },
  {
   "cell_type": "markdown",
   "metadata": {},
   "source": [
    "VALORES IMPORTANTES MODIFICAR SEGUN ORDENADOR"
   ]
  },
  {
   "cell_type": "code",
   "execution_count": 3,
   "metadata": {},
   "outputs": [],
   "source": [
    "path=\"C:/Users/maria/OneDrive/OPENCL/RESULTADOS_PORTATIL\"  #Adaptar ruta correspondiente\n"
   ]
  },
  {
   "cell_type": "markdown",
   "metadata": {},
   "source": [
    "CODIGO A EJECUTAR: EXPERIMENTO"
   ]
  },
  {
   "cell_type": "code",
   "execution_count": null,
   "metadata": {},
   "outputs": [
    {
     "name": "stdout",
     "output_type": "stream",
     "text": [
      "DataFrames guardados y formateados en Excel en C:/Users/maria/OneDrive/OPENCL/RESULTADOS_PORTATIL\\OPENCL/MULTIPLICACION MATRICES/RESULTADOS/Comparacion kernels\\MatrixMul_Local_Memory_resultados.xlsx\\resultados.xlsx\n",
      "Gráfico guardado en C:/Users/maria/OneDrive/OPENCL/RESULTADOS_PORTATIL\\OPENCL/MULTIPLICACION MATRICES/RESULTADOS/Comparacion kernels\\KERNELS_tiempos_ejecucion.png\n"
     ]
    },
    {
     "data": {
      "text/html": [
       "<div>\n",
       "<style scoped>\n",
       "    .dataframe tbody tr th:only-of-type {\n",
       "        vertical-align: middle;\n",
       "    }\n",
       "\n",
       "    .dataframe tbody tr th {\n",
       "        vertical-align: top;\n",
       "    }\n",
       "\n",
       "    .dataframe thead th {\n",
       "        text-align: right;\n",
       "    }\n",
       "</style>\n",
       "<table border=\"1\" class=\"dataframe\">\n",
       "  <thead>\n",
       "    <tr style=\"text-align: right;\">\n",
       "      <th></th>\n",
       "      <th>MatrixMul_kernel1</th>\n",
       "      <th>MatrixMul_kernel_localA_coallesced</th>\n",
       "      <th>MatrixMul_Local_Memory</th>\n",
       "    </tr>\n",
       "    <tr>\n",
       "      <th>Dim Matrix</th>\n",
       "      <th></th>\n",
       "      <th></th>\n",
       "      <th></th>\n",
       "    </tr>\n",
       "  </thead>\n",
       "  <tbody>\n",
       "    <tr>\n",
       "      <th>8</th>\n",
       "      <td>0.000031</td>\n",
       "      <td>0.000024</td>\n",
       "      <td>0.000059</td>\n",
       "    </tr>\n",
       "    <tr>\n",
       "      <th>16</th>\n",
       "      <td>0.000071</td>\n",
       "      <td>0.000011</td>\n",
       "      <td>0.000092</td>\n",
       "    </tr>\n",
       "    <tr>\n",
       "      <th>32</th>\n",
       "      <td>0.000021</td>\n",
       "      <td>0.000030</td>\n",
       "      <td>0.000134</td>\n",
       "    </tr>\n",
       "    <tr>\n",
       "      <th>64</th>\n",
       "      <td>0.000043</td>\n",
       "      <td>0.000034</td>\n",
       "      <td>0.000024</td>\n",
       "    </tr>\n",
       "    <tr>\n",
       "      <th>128</th>\n",
       "      <td>0.000259</td>\n",
       "      <td>0.000151</td>\n",
       "      <td>0.000586</td>\n",
       "    </tr>\n",
       "    <tr>\n",
       "      <th>256</th>\n",
       "      <td>0.001733</td>\n",
       "      <td>0.000352</td>\n",
       "      <td>0.000345</td>\n",
       "    </tr>\n",
       "    <tr>\n",
       "      <th>512</th>\n",
       "      <td>0.012968</td>\n",
       "      <td>0.002156</td>\n",
       "      <td>0.002343</td>\n",
       "    </tr>\n",
       "    <tr>\n",
       "      <th>1024</th>\n",
       "      <td>0.106342</td>\n",
       "      <td>0.032925</td>\n",
       "      <td>0.018103</td>\n",
       "    </tr>\n",
       "    <tr>\n",
       "      <th>2048</th>\n",
       "      <td>0.871126</td>\n",
       "      <td>0.657137</td>\n",
       "      <td>0.162886</td>\n",
       "    </tr>\n",
       "    <tr>\n",
       "      <th>4096</th>\n",
       "      <td>7.252743</td>\n",
       "      <td>11.955427</td>\n",
       "      <td>1.764040</td>\n",
       "    </tr>\n",
       "    <tr>\n",
       "      <th>8192</th>\n",
       "      <td>65.926375</td>\n",
       "      <td>219.496724</td>\n",
       "      <td>11.523701</td>\n",
       "    </tr>\n",
       "  </tbody>\n",
       "</table>\n",
       "</div>"
      ],
      "text/plain": [
       "            MatrixMul_kernel1  MatrixMul_kernel_localA_coallesced  \\\n",
       "Dim Matrix                                                          \n",
       "8                    0.000031                            0.000024   \n",
       "16                   0.000071                            0.000011   \n",
       "32                   0.000021                            0.000030   \n",
       "64                   0.000043                            0.000034   \n",
       "128                  0.000259                            0.000151   \n",
       "256                  0.001733                            0.000352   \n",
       "512                  0.012968                            0.002156   \n",
       "1024                 0.106342                            0.032925   \n",
       "2048                 0.871126                            0.657137   \n",
       "4096                 7.252743                           11.955427   \n",
       "8192                65.926375                          219.496724   \n",
       "\n",
       "            MatrixMul_Local_Memory  \n",
       "Dim Matrix                          \n",
       "8                         0.000059  \n",
       "16                        0.000092  \n",
       "32                        0.000134  \n",
       "64                        0.000024  \n",
       "128                       0.000586  \n",
       "256                       0.000345  \n",
       "512                       0.002343  \n",
       "1024                      0.018103  \n",
       "2048                      0.162886  \n",
       "4096                      1.764040  \n",
       "8192                     11.523701  "
      ]
     },
     "execution_count": 4,
     "metadata": {},
     "output_type": "execute_result"
    }
   ],
   "source": [
    "\n",
    "\n",
    "# Datos DEVICE\n",
    "device_type = cl.device_type.GPU \n",
    "\n",
    "#Lista kernels\n",
    "kernel_codes=[km.MatrixMul_kernel,km.MatrixMul_kernel_local_A,km.MatrixMul_Local_Tiles]\n",
    "kernel_names=[\"MatrixMul_kernel\",\"MatrixMul_kernel_local_A\",\"MatrixMul_Local_Tiles\"]\n",
    "aplicar_funcs=[fm.mult_mat_basica,fm.mult_mat_local,fm.mult_mat_local_tiles]\n",
    "\n",
    "    # Directorio base para guardar los gráficos\n",
    "    #base_save_dir = \"C:/Users/Eevee/Documents/OPENCL TFG IMP/MULTIPLICACION MATRICES/RESULTADOS/Comparacion kernels\"\n",
    "base_save_dir = os.path.join(path, \"OPENCL/MULTIPLICACION MATRICES/RESULTADOS/Comparacion kernels\")\n",
    "os.makedirs(base_save_dir, exist_ok=True)\n",
    "\n",
    "#Local size \n",
    "local_size=(8,8)\n",
    "\n",
    "# Ejecutar los experimentos\n",
    "em.experimento_kernels( kernel_codes, kernel_names, aplicar_funcs, device_type, local_size, base_save_dir)\n",
    "\n"
   ]
  }
 ],
 "metadata": {
  "kernelspec": {
   "display_name": "Python 3",
   "language": "python",
   "name": "python3"
  },
  "language_info": {
   "codemirror_mode": {
    "name": "ipython",
    "version": 3
   },
   "file_extension": ".py",
   "mimetype": "text/x-python",
   "name": "python",
   "nbconvert_exporter": "python",
   "pygments_lexer": "ipython3",
   "version": "3.12.8"
  }
 },
 "nbformat": 4,
 "nbformat_minor": 2
}
