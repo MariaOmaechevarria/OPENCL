{
 "cells": [
  {
   "cell_type": "markdown",
   "metadata": {},
   "source": [
    "Experimento: Distintas local sizes para distintos kernels\n",
    "\n",
    "OBJETIVO: Determinar para cada kernel, la mejor local size\n",
    "\n",
    "KERNELS: KERNEL BASICO, KERNEL MEMORIA LOCAL A, KERNEL TILES\n",
    "\n",
    "OUTPUT: PARA CADA KERNEL 2 TABLAS: TODOS LOS RESULTADOS, MEJOR RESULTADO PARA CADA DIMENSION. ADEMAS 3 GRAFICOS CON DISTINTOS LOCAL SIZES\n",
    "\n",
    "DONDE: EN RESULTADOS EN LAS TRES CARPETAS CON LOS NOMBRES DE LOS KERNELS"
   ]
  },
  {
   "cell_type": "markdown",
   "metadata": {},
   "source": [
    "INTALAR PYOPENCL"
   ]
  },
  {
   "cell_type": "code",
   "execution_count": 1,
   "metadata": {},
   "outputs": [
    {
     "name": "stdout",
     "output_type": "stream",
     "text": [
      "Requirement already satisfied: pyopencl in c:\\users\\eevee\\anaconda3\\lib\\site-packages (2024.2.7)\n",
      "Requirement already satisfied: numpy in c:\\users\\eevee\\anaconda3\\lib\\site-packages (from pyopencl) (1.26.4)\n",
      "Requirement already satisfied: platformdirs>=2.2.0 in c:\\users\\eevee\\anaconda3\\lib\\site-packages (from pyopencl) (3.10.0)\n",
      "Requirement already satisfied: pytools>=2024.1.5 in c:\\users\\eevee\\anaconda3\\lib\\site-packages (from pyopencl) (2024.1.14)\n",
      "Requirement already satisfied: typing-extensions>=4 in c:\\users\\eevee\\anaconda3\\lib\\site-packages (from pytools>=2024.1.5->pyopencl) (4.11.0)\n",
      "Requirement already satisfied: xlsxwriter in c:\\users\\eevee\\anaconda3\\lib\\site-packages (3.2.0)\n"
     ]
    }
   ],
   "source": [
    "!pip install pyopencl\n",
    "!pip install xlsxwriter\n"
   ]
  },
  {
   "cell_type": "markdown",
   "metadata": {},
   "source": [
    "IMPORTAR LIBRERIAS Y FUNCIONES"
   ]
  },
  {
   "cell_type": "code",
   "execution_count": 2,
   "metadata": {},
   "outputs": [
    {
     "name": "stderr",
     "output_type": "stream",
     "text": [
      "c:\\Users\\Eevee\\anaconda3\\Lib\\site-packages\\pytools\\persistent_dict.py:63: RecommendedHashNotFoundWarning: Unable to import recommended hash 'siphash24.siphash13', falling back to 'hashlib.sha256'. Run 'python3 -m pip install siphash24' to install the recommended hash.\n",
      "  warn(\"Unable to import recommended hash 'siphash24.siphash13', \"\n"
     ]
    }
   ],
   "source": [
    "\n",
    "import numpy as np\n",
    "import pyopencl as cl\n",
    "import pandas as pd\n",
    "import matplotlib as plt\n",
    "import os\n",
    "\n",
    "\n",
    "import experimento_matrices as em\n",
    "import determinar_mejor_local_size as mejor\n",
    "import funciones_matrices as fm\n",
    "import kernels_matrices as km"
   ]
  },
  {
   "cell_type": "markdown",
   "metadata": {},
   "source": [
    "VALORES IMPORTANTES A CAMBIAR DEPENDIENDO DEL ORDENADOR"
   ]
  },
  {
   "cell_type": "code",
   "execution_count": 3,
   "metadata": {},
   "outputs": [],
   "source": [
    "'''\n",
    "path=\"C:/Users/maria/OneDrive/OPENCL/RESULTADOS_PORTATIL\"  #Adaptar ruta correspondiente\n",
    "compute_units=96\n",
    "processing_elements=8\n",
    "'''\n",
    "\n",
    "\n",
    "\n",
    "\n",
    "path=\"C:/Users/Eevee\"\n",
    "# Datos GPU\n",
    "compute_units = 82   #Adaptar según la GPU\n",
    "processing_elements = 128\n",
    "\n",
    "\n",
    "\n",
    "\n",
    "\n"
   ]
  },
  {
   "cell_type": "markdown",
   "metadata": {},
   "source": [
    "EJECUTAR EL EXPERIMENTO"
   ]
  },
  {
   "cell_type": "code",
   "execution_count": null,
   "metadata": {},
   "outputs": [
    {
     "name": "stdout",
     "output_type": "stream",
     "text": [
      "Ejecutando experimento con MatrixMul_kernel1\n",
      "Error al procesar con tamaño local (1, 128): clEnqueueNDRangeKernel failed: INVALID_WORK_GROUP_SIZE\n",
      "Error al procesar con tamaño local (1, 128): clEnqueueNDRangeKernel failed: INVALID_WORK_GROUP_SIZE\n",
      "Error al procesar con tamaño local (1, 128): clEnqueueNDRangeKernel failed: INVALID_WORK_GROUP_SIZE\n",
      "Error al procesar con tamaño local (1, 128): clEnqueueNDRangeKernel failed: INVALID_WORK_GROUP_SIZE\n",
      "Error al procesar con tamaño local (1, 128): clEnqueueNDRangeKernel failed: INVALID_WORK_GROUP_SIZE\n",
      "Error al procesar con tamaño local (1, 128): clEnqueueNDRangeKernel failed: INVALID_WORK_GROUP_SIZE\n",
      "Error al procesar con tamaño local (128, 1): clEnqueueNDRangeKernel failed: INVALID_WORK_GROUP_SIZE\n",
      "Error al procesar con tamaño local (128, 1): clEnqueueNDRangeKernel failed: INVALID_WORK_GROUP_SIZE\n",
      "Error al procesar con tamaño local (128, 1): clEnqueueNDRangeKernel failed: INVALID_WORK_GROUP_SIZE\n",
      "Error al procesar con tamaño local (128, 1): clEnqueueNDRangeKernel failed: INVALID_WORK_GROUP_SIZE\n",
      "Error al procesar con tamaño local (128, 1): clEnqueueNDRangeKernel failed: INVALID_WORK_GROUP_SIZE\n",
      "Error al procesar con tamaño local (128, 1): clEnqueueNDRangeKernel failed: INVALID_WORK_GROUP_SIZE\n",
      "Error al procesar con tamaño local (2, 64): clEnqueueNDRangeKernel failed: INVALID_WORK_GROUP_SIZE\n",
      "Error al procesar con tamaño local (2, 64): clEnqueueNDRangeKernel failed: INVALID_WORK_GROUP_SIZE\n",
      "Error al procesar con tamaño local (2, 64): clEnqueueNDRangeKernel failed: INVALID_WORK_GROUP_SIZE\n",
      "Error al procesar con tamaño local (2, 64): clEnqueueNDRangeKernel failed: INVALID_WORK_GROUP_SIZE\n",
      "Error al procesar con tamaño local (2, 64): clEnqueueNDRangeKernel failed: INVALID_WORK_GROUP_SIZE\n",
      "Error al procesar con tamaño local (64, 2): clEnqueueNDRangeKernel failed: INVALID_WORK_GROUP_SIZE\n",
      "Error al procesar con tamaño local (64, 2): clEnqueueNDRangeKernel failed: INVALID_WORK_GROUP_SIZE\n",
      "Error al procesar con tamaño local (64, 2): clEnqueueNDRangeKernel failed: INVALID_WORK_GROUP_SIZE\n",
      "Error al procesar con tamaño local (64, 2): clEnqueueNDRangeKernel failed: INVALID_WORK_GROUP_SIZE\n",
      "Error al procesar con tamaño local (64, 2): clEnqueueNDRangeKernel failed: INVALID_WORK_GROUP_SIZE\n",
      "Error al procesar con tamaño local (4, 32): clEnqueueNDRangeKernel failed: INVALID_WORK_GROUP_SIZE\n",
      "Error al procesar con tamaño local (4, 32): clEnqueueNDRangeKernel failed: INVALID_WORK_GROUP_SIZE\n",
      "Error al procesar con tamaño local (4, 32): clEnqueueNDRangeKernel failed: INVALID_WORK_GROUP_SIZE\n",
      "Error al procesar con tamaño local (4, 32): clEnqueueNDRangeKernel failed: INVALID_WORK_GROUP_SIZE\n",
      "Error al procesar con tamaño local (32, 4): clEnqueueNDRangeKernel failed: INVALID_WORK_GROUP_SIZE\n",
      "Error al procesar con tamaño local (32, 4): clEnqueueNDRangeKernel failed: INVALID_WORK_GROUP_SIZE\n",
      "Error al procesar con tamaño local (32, 4): clEnqueueNDRangeKernel failed: INVALID_WORK_GROUP_SIZE\n",
      "Error al procesar con tamaño local (32, 4): clEnqueueNDRangeKernel failed: INVALID_WORK_GROUP_SIZE\n",
      "Error al procesar con tamaño local (8, 16): clEnqueueNDRangeKernel failed: INVALID_WORK_GROUP_SIZE\n",
      "Error al procesar con tamaño local (8, 16): clEnqueueNDRangeKernel failed: INVALID_WORK_GROUP_SIZE\n",
      "Error al procesar con tamaño local (8, 16): clEnqueueNDRangeKernel failed: INVALID_WORK_GROUP_SIZE\n",
      "Error al procesar con tamaño local (16, 8): clEnqueueNDRangeKernel failed: INVALID_WORK_GROUP_SIZE\n",
      "Error al procesar con tamaño local (16, 8): clEnqueueNDRangeKernel failed: INVALID_WORK_GROUP_SIZE\n",
      "Error al procesar con tamaño local (16, 8): clEnqueueNDRangeKernel failed: INVALID_WORK_GROUP_SIZE\n",
      "DataFrames guardados y formateados en Excel en C:/Users/Eevee\\OPENCL/MULTIPLICACION MATRICES/RESULTADOS/MatrixMul_kernel1\\resultados.xlsx\n",
      "Gráfico guardado en C:/Users/Eevee\\OPENCL/MULTIPLICACION MATRICES/RESULTADOS/MatrixMul_kernel1\\tiempos_ejecucion_combined.png\n",
      "Gráfico guardado en C:/Users/Eevee\\OPENCL/MULTIPLICACION MATRICES/RESULTADOS/MatrixMul_kernel1\\tiempos_ejecucion_generales.png\n",
      "Gráfico guardado en C:/Users/Eevee\\OPENCL/MULTIPLICACION MATRICES/RESULTADOS/MatrixMul_kernel1\\tiempos_ejecucion_optimos.png\n",
      "Gráfico guardado en C:/Users/Eevee\\OPENCL/MULTIPLICACION MATRICES/RESULTADOS/MatrixMul_kernel1\\tiempos_ejecucion_optimos_2.png\n",
      "Gráfico guardado en C:/Users/Eevee\\OPENCL/MULTIPLICACION MATRICES/RESULTADOS/MatrixMul_kernel1\\tiempos_ejecucion_optimos_3.png\n",
      "Ejecutando experimento con MatrixMul_kernel_localA_coallesced\n",
      "Error al procesar con tamaño local (1, 128): clEnqueueNDRangeKernel failed: INVALID_WORK_GROUP_SIZE\n",
      "Error al procesar con tamaño local (1, 128): clEnqueueNDRangeKernel failed: INVALID_WORK_GROUP_SIZE\n",
      "Error al procesar con tamaño local (1, 128): clEnqueueNDRangeKernel failed: INVALID_WORK_GROUP_SIZE\n",
      "Error al procesar con tamaño local (1, 128): clEnqueueNDRangeKernel failed: INVALID_WORK_GROUP_SIZE\n",
      "Error al procesar con tamaño local (1, 128): clEnqueueNDRangeKernel failed: INVALID_WORK_GROUP_SIZE\n",
      "Error al procesar con tamaño local (1, 128): clEnqueueNDRangeKernel failed: INVALID_WORK_GROUP_SIZE\n",
      "Error al procesar con tamaño local (128, 1): clEnqueueNDRangeKernel failed: INVALID_WORK_GROUP_SIZE\n",
      "Error al procesar con tamaño local (128, 1): clEnqueueNDRangeKernel failed: INVALID_WORK_GROUP_SIZE\n",
      "Error al procesar con tamaño local (128, 1): clEnqueueNDRangeKernel failed: INVALID_WORK_GROUP_SIZE\n",
      "Error al procesar con tamaño local (128, 1): clEnqueueNDRangeKernel failed: INVALID_WORK_GROUP_SIZE\n",
      "Error al procesar con tamaño local (128, 1): clEnqueueNDRangeKernel failed: INVALID_WORK_GROUP_SIZE\n",
      "Error al procesar con tamaño local (128, 1): clEnqueueNDRangeKernel failed: INVALID_WORK_GROUP_SIZE\n",
      "Error al procesar con tamaño local (2, 64): clEnqueueNDRangeKernel failed: INVALID_WORK_GROUP_SIZE\n",
      "Error al procesar con tamaño local (2, 64): clEnqueueNDRangeKernel failed: INVALID_WORK_GROUP_SIZE\n",
      "Error al procesar con tamaño local (2, 64): clEnqueueNDRangeKernel failed: INVALID_WORK_GROUP_SIZE\n",
      "Error al procesar con tamaño local (2, 64): clEnqueueNDRangeKernel failed: INVALID_WORK_GROUP_SIZE\n",
      "Error al procesar con tamaño local (2, 64): clEnqueueNDRangeKernel failed: INVALID_WORK_GROUP_SIZE\n",
      "Error al procesar con tamaño local (64, 2): clEnqueueNDRangeKernel failed: INVALID_WORK_GROUP_SIZE\n",
      "Error al procesar con tamaño local (64, 2): clEnqueueNDRangeKernel failed: INVALID_WORK_GROUP_SIZE\n",
      "Error al procesar con tamaño local (64, 2): clEnqueueNDRangeKernel failed: INVALID_WORK_GROUP_SIZE\n",
      "Error al procesar con tamaño local (64, 2): clEnqueueNDRangeKernel failed: INVALID_WORK_GROUP_SIZE\n",
      "Error al procesar con tamaño local (64, 2): clEnqueueNDRangeKernel failed: INVALID_WORK_GROUP_SIZE\n",
      "Error al procesar con tamaño local (4, 32): clEnqueueNDRangeKernel failed: INVALID_WORK_GROUP_SIZE\n",
      "Error al procesar con tamaño local (4, 32): clEnqueueNDRangeKernel failed: INVALID_WORK_GROUP_SIZE\n",
      "Error al procesar con tamaño local (4, 32): clEnqueueNDRangeKernel failed: INVALID_WORK_GROUP_SIZE\n",
      "Error al procesar con tamaño local (4, 32): clEnqueueNDRangeKernel failed: INVALID_WORK_GROUP_SIZE\n",
      "Error al procesar con tamaño local (32, 4): clEnqueueNDRangeKernel failed: INVALID_WORK_GROUP_SIZE\n",
      "Error al procesar con tamaño local (32, 4): clEnqueueNDRangeKernel failed: INVALID_WORK_GROUP_SIZE\n",
      "Error al procesar con tamaño local (32, 4): clEnqueueNDRangeKernel failed: INVALID_WORK_GROUP_SIZE\n",
      "Error al procesar con tamaño local (32, 4): clEnqueueNDRangeKernel failed: INVALID_WORK_GROUP_SIZE\n",
      "Error al procesar con tamaño local (8, 16): clEnqueueNDRangeKernel failed: INVALID_WORK_GROUP_SIZE\n",
      "Error al procesar con tamaño local (8, 16): clEnqueueNDRangeKernel failed: INVALID_WORK_GROUP_SIZE\n",
      "Error al procesar con tamaño local (8, 16): clEnqueueNDRangeKernel failed: INVALID_WORK_GROUP_SIZE\n",
      "Error al procesar con tamaño local (16, 8): clEnqueueNDRangeKernel failed: INVALID_WORK_GROUP_SIZE\n",
      "Error al procesar con tamaño local (16, 8): clEnqueueNDRangeKernel failed: INVALID_WORK_GROUP_SIZE\n",
      "Error al procesar con tamaño local (16, 8): clEnqueueNDRangeKernel failed: INVALID_WORK_GROUP_SIZE\n",
      "DataFrames guardados y formateados en Excel en C:/Users/Eevee\\OPENCL/MULTIPLICACION MATRICES/RESULTADOS/MatrixMul_kernel_localA_coallesced\\resultados.xlsx\n",
      "Gráfico guardado en C:/Users/Eevee\\OPENCL/MULTIPLICACION MATRICES/RESULTADOS/MatrixMul_kernel_localA_coallesced\\tiempos_ejecucion_combined.png\n",
      "Gráfico guardado en C:/Users/Eevee\\OPENCL/MULTIPLICACION MATRICES/RESULTADOS/MatrixMul_kernel_localA_coallesced\\tiempos_ejecucion_generales.png\n",
      "Gráfico guardado en C:/Users/Eevee\\OPENCL/MULTIPLICACION MATRICES/RESULTADOS/MatrixMul_kernel_localA_coallesced\\tiempos_ejecucion_optimos.png\n",
      "Gráfico guardado en C:/Users/Eevee\\OPENCL/MULTIPLICACION MATRICES/RESULTADOS/MatrixMul_kernel_localA_coallesced\\tiempos_ejecucion_optimos_2.png\n",
      "Gráfico guardado en C:/Users/Eevee\\OPENCL/MULTIPLICACION MATRICES/RESULTADOS/MatrixMul_kernel_localA_coallesced\\tiempos_ejecucion_optimos_3.png\n",
      "Ejecutando experimento con MatrixMul_Local_Memory\n",
      "DataFrames guardados y formateados en Excel en C:/Users/Eevee\\OPENCL/MULTIPLICACION MATRICES/RESULTADOS/MatrixMul_Local_Memory\\resultados.xlsx\n",
      "Gráfico guardado en C:/Users/Eevee\\OPENCL/MULTIPLICACION MATRICES/RESULTADOS/MatrixMul_Local_Memory\\tiempos_ejecucion_combined.png\n",
      "Gráfico guardado en C:/Users/Eevee\\OPENCL/MULTIPLICACION MATRICES/RESULTADOS/MatrixMul_Local_Memory\\tiempos_ejecucion_generales.png\n",
      "Gráfico guardado en C:/Users/Eevee\\OPENCL/MULTIPLICACION MATRICES/RESULTADOS/MatrixMul_Local_Memory\\tiempos_ejecucion_optimos.png\n",
      "Gráfico guardado en C:/Users/Eevee\\OPENCL/MULTIPLICACION MATRICES/RESULTADOS/MatrixMul_Local_Memory\\tiempos_ejecucion_optimos_2.png\n",
      "Gráfico guardado en C:/Users/Eevee\\OPENCL/MULTIPLICACION MATRICES/RESULTADOS/MatrixMul_Local_Memory\\tiempos_ejecucion_optimos_3.png\n"
     ]
    }
   ],
   "source": [
    "\n",
    "\n",
    "# Datos DEVICE\n",
    "device_type = cl.device_type.GPU \n",
    "\n",
    "#Lista kernels\n",
    "kernel_codes=[km.MatrixMul_kernel,km.MatrixMul_kernel_local_A,km.MatrixMul_Local_Tiles]\n",
    "kernel_names=[\"MatrixMul_kernel\",\"MatrixMul_kernel_local_A\",\"MatrixMul_Local_Tiles\"]\n",
    "aplicar_funcs=[fm.mult_mat_basica,fm.mult_mat_local,fm.mult_mat_local_tiles]\n",
    "\n",
    "base_save_dir = os.path.join(path, \"OPENCL/MULTIPLICACION MATRICES/RESULTADOS/\")\n",
    "os.makedirs(base_save_dir, exist_ok=True)\n",
    "\n",
    "# Ejecutar los experimentos\n",
    "em.ejecutar_experimentos(aplicar_funcs, kernel_codes, kernel_names, device_type, compute_units, processing_elements, base_save_dir)"
   ]
  }
 ],
 "metadata": {
  "kernelspec": {
   "display_name": "base",
   "language": "python",
   "name": "python3"
  },
  "language_info": {
   "codemirror_mode": {
    "name": "ipython",
    "version": 3
   },
   "file_extension": ".py",
   "mimetype": "text/x-python",
   "name": "python",
   "nbconvert_exporter": "python",
   "pygments_lexer": "ipython3",
   "version": "3.12.4"
  }
 },
 "nbformat": 4,
 "nbformat_minor": 2
}
