{
 "cells": [
  {
   "cell_type": "markdown",
   "metadata": {},
   "source": [
    "Experimento: Distintas local sizes para distintos kernels\n",
    "\n",
    "OBJETIVO: Determinar para cada kernel, la mejor local size\n",
    "\n",
    "KERNELS: KERNEL BASICO, KERNEL MEMORIA LOCAL A, KERNEL TILES\n",
    "\n",
    "OUTPUT: PARA CADA KERNEL 2 TABLAS: TODOS LOS RESULTADOS, MEJOR RESULTADO PARA CADA DIMENSION. ADEMAS 3 GRAFICOS CON DISTINTOS LOCAL SIZES\n",
    "\n",
    "DONDE: EN RESULTADOS EN LAS TRES CARPETAS CON LOS NOMBRES DE LOS KERNELS"
   ]
  },
  {
   "cell_type": "markdown",
   "metadata": {},
   "source": [
    "INTALAR PYOPENCL"
   ]
  },
  {
   "cell_type": "code",
   "execution_count": 1,
   "metadata": {},
   "outputs": [
    {
     "name": "stdout",
     "output_type": "stream",
     "text": [
      "Defaulting to user installation because normal site-packages is not writeable\n",
      "Requirement already satisfied: pyopencl in c:\\users\\maria\\appdata\\local\\packages\\pythonsoftwarefoundation.python.3.12_qbz5n2kfra8p0\\localcache\\local-packages\\python312\\site-packages (2024.3)\n",
      "Requirement already satisfied: numpy in c:\\users\\maria\\appdata\\local\\packages\\pythonsoftwarefoundation.python.3.12_qbz5n2kfra8p0\\localcache\\local-packages\\python312\\site-packages (from pyopencl) (2.1.2)\n",
      "Requirement already satisfied: platformdirs>=2.2 in c:\\users\\maria\\appdata\\local\\packages\\pythonsoftwarefoundation.python.3.12_qbz5n2kfra8p0\\localcache\\local-packages\\python312\\site-packages (from pyopencl) (4.3.6)\n",
      "Requirement already satisfied: pytools>=2024.1.5 in c:\\users\\maria\\appdata\\local\\packages\\pythonsoftwarefoundation.python.3.12_qbz5n2kfra8p0\\localcache\\local-packages\\python312\\site-packages (from pyopencl) (2024.1.14)\n",
      "Requirement already satisfied: typing-extensions>=4 in c:\\users\\maria\\appdata\\local\\packages\\pythonsoftwarefoundation.python.3.12_qbz5n2kfra8p0\\localcache\\local-packages\\python312\\site-packages (from pytools>=2024.1.5->pyopencl) (4.12.2)\n",
      "Note: you may need to restart the kernel to use updated packages.\n"
     ]
    },
    {
     "name": "stderr",
     "output_type": "stream",
     "text": [
      "\n",
      "[notice] A new release of pip is available: 24.2 -> 24.3.1\n",
      "[notice] To update, run: C:\\Users\\maria\\AppData\\Local\\Microsoft\\WindowsApps\\PythonSoftwareFoundation.Python.3.12_qbz5n2kfra8p0\\python.exe -m pip install --upgrade pip\n"
     ]
    }
   ],
   "source": [
    "pip install pyopencl"
   ]
  },
  {
   "cell_type": "markdown",
   "metadata": {},
   "source": [
    "IMPORTAR LIBRERIAS Y FUNCIONES"
   ]
  },
  {
   "cell_type": "code",
   "execution_count": 2,
   "metadata": {},
   "outputs": [],
   "source": [
    "import funciones_matrices as fm\n",
    "import kernels_matrices as km\n",
    "import numpy as np\n",
    "import pyopencl as cl\n",
    "import pandas as pd\n",
    "import matplotlib as plt\n",
    "import os\n",
    "import experimento_matrices as em\n",
    "import funciones_matrices as fm\n",
    "import kernels_matrices as km\n",
    "\n",
    "\n",
    "import determinar_mejor_local_size as mejor\n"
   ]
  },
  {
   "cell_type": "markdown",
   "metadata": {},
   "source": [
    "VALORES IMPORTANTES A CAMBIAR DEPENDIENDO DEL ORDENADOR"
   ]
  },
  {
   "cell_type": "code",
   "execution_count": 3,
   "metadata": {},
   "outputs": [
    {
     "data": {
      "text/plain": [
       "'\\npath=\"C:/Users/Eevee\"\\n# Datos GPU\\ncompute_units = 82   #Adaptar según la GPU\\nprocessing_elements = 128\\n\\n'"
      ]
     },
     "execution_count": 3,
     "metadata": {},
     "output_type": "execute_result"
    }
   ],
   "source": [
    "path=\"C:/Users/maria/OneDrive/OPENCL/RESULTADOS_PORTATIL\"  #Adaptar ruta correspondiente\n",
    "compute_units=96\n",
    "processing_elements=8\n",
    "\n",
    "\n",
    "\n",
    "\n",
    "\n",
    "'''\n",
    "path=\"C:/Users/Eevee\"\n",
    "# Datos GPU\n",
    "compute_units = 82   #Adaptar según la GPU\n",
    "processing_elements = 128\n",
    "\n",
    "'''\n",
    "\n",
    "\n",
    "\n",
    "\n"
   ]
  },
  {
   "cell_type": "markdown",
   "metadata": {},
   "source": [
    "EJECUTAR EL EXPERIMENTO"
   ]
  },
  {
   "cell_type": "code",
   "execution_count": null,
   "metadata": {},
   "outputs": [
    {
     "name": "stdout",
     "output_type": "stream",
     "text": [
      "Ejecutando experimento con MatrixMul_kernel1\n",
      "Error al procesar con tamaño local (1, 8): clEnqueueNDRangeKernel failed: INVALID_WORK_GROUP_SIZE\n",
      "Error al procesar con tamaño local (1, 8): clEnqueueNDRangeKernel failed: INVALID_WORK_GROUP_SIZE\n",
      "Error al procesar con tamaño local (8, 1): clEnqueueNDRangeKernel failed: INVALID_WORK_GROUP_SIZE\n",
      "Error al procesar con tamaño local (8, 1): clEnqueueNDRangeKernel failed: INVALID_WORK_GROUP_SIZE\n",
      "Error al procesar con tamaño local (2, 4): clEnqueueNDRangeKernel failed: INVALID_WORK_GROUP_SIZE\n",
      "Error al procesar con tamaño local (4, 2): clEnqueueNDRangeKernel failed: INVALID_WORK_GROUP_SIZE\n",
      "DataFrames guardados y formateados en Excel en C:/Users/maria/OneDrive/OPENCL/RESULTADOS_PORTATIL\\OPENCL/MULTIPLICACION MATRICES/RESULTADOS/MatrixMul_kernel1\\resultados.xlsx\n",
      "Gráfico guardado en C:/Users/maria/OneDrive/OPENCL/RESULTADOS_PORTATIL\\OPENCL/MULTIPLICACION MATRICES/RESULTADOS/MatrixMul_kernel1\\tiempos_ejecucion_combined.png\n",
      "Gráfico guardado en C:/Users/maria/OneDrive/OPENCL/RESULTADOS_PORTATIL\\OPENCL/MULTIPLICACION MATRICES/RESULTADOS/MatrixMul_kernel1\\tiempos_ejecucion_generales.png\n",
      "Gráfico guardado en C:/Users/maria/OneDrive/OPENCL/RESULTADOS_PORTATIL\\OPENCL/MULTIPLICACION MATRICES/RESULTADOS/MatrixMul_kernel1\\tiempos_ejecucion_optimos.png\n",
      "Ejecutando experimento con MatrixMul_kernel_localA_coallesced\n"
     ]
    }
   ],
   "source": [
    "\n",
    "\n",
    "# Datos DEVICE\n",
    "device_type = cl.device_type.GPU \n",
    "\n",
    "#Lista kernels\n",
    "kernel_codes=[km.MatrixMul_kernel1,km.MatrixMul_kernel_localA_coallesced,km.MatrixMul_Local_Memory]\n",
    "kernel_names=[\"MatrixMul_kernel1\",\"MatrixMul_kernel_localA_coallesced\",\"MatrixMul_Local_Memory\"]\n",
    "aplicar_funcs=[fm.mult_mat_basica,fm.mult_mat_local,fm.mult_mat_local_tiles]\n",
    "\n",
    "# Directorio base para guardar los gráficos\n",
    "#base_save_dir = \"C:/Users/Eevee/Documents/OPENCL TFG IMP/MULTIPLICACION MATRICES/RESULTADOS/\"\n",
    "\n",
    "base_save_dir = os.path.join(path, \"OPENCL/MULTIPLICACION MATRICES/RESULTADOS/\")\n",
    "os.makedirs(base_save_dir, exist_ok=True)\n",
    "\n",
    "# Ejecutar los experimentos\n",
    "em.ejecutar_experimentos(aplicar_funcs, kernel_codes, kernel_names, device_type, compute_units, processing_elements, base_save_dir)"
   ]
  }
 ],
 "metadata": {
  "kernelspec": {
   "display_name": "Python 3",
   "language": "python",
   "name": "python3"
  },
  "language_info": {
   "codemirror_mode": {
    "name": "ipython",
    "version": 3
   },
   "file_extension": ".py",
   "mimetype": "text/x-python",
   "name": "python",
   "nbconvert_exporter": "python",
   "pygments_lexer": "ipython3",
   "version": "3.12.7"
  }
 },
 "nbformat": 4,
 "nbformat_minor": 2
}
