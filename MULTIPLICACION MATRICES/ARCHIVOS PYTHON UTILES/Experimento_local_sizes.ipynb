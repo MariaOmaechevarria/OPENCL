{
 "cells": [
  {
   "cell_type": "markdown",
   "metadata": {},
   "source": [
    "Experimento: Distintas local sizes para distintos kernels\n",
    "\n",
    "OBJETIVO: Determinar para cada kernel, la mejor local size\n",
    "\n",
    "KERNELS: KERNEL BASICO, KERNEL MEMORIA LOCAL A, KERNEL TILES\n",
    "\n",
    "OUTPUT: PARA CADA KERNEL 2 TABLAS: TODOS LOS RESULTADOS, MEJOR RESULTADO PARA CADA DIMENSION. ADEMAS 3 GRAFICOS CON DISTINTOS LOCAL SIZES\n",
    "\n",
    "DONDE: EN RESULTADOS EN LAS TRES CARPETAS CON LOS NOMBRES DE LOS KERNELS"
   ]
  },
  {
   "cell_type": "markdown",
   "metadata": {},
   "source": [
    "INTALAR PYOPENCL"
   ]
  },
  {
   "cell_type": "code",
   "execution_count": 1,
   "metadata": {},
   "outputs": [
    {
     "name": "stdout",
     "output_type": "stream",
     "text": [
      "Defaulting to user installation because normal site-packages is not writeable\n",
      "Requirement already satisfied: pyopencl in c:\\users\\maria\\appdata\\local\\packages\\pythonsoftwarefoundation.python.3.12_qbz5n2kfra8p0\\localcache\\local-packages\\python312\\site-packages (2024.3)\n",
      "Requirement already satisfied: numpy in c:\\users\\maria\\appdata\\local\\packages\\pythonsoftwarefoundation.python.3.12_qbz5n2kfra8p0\\localcache\\local-packages\\python312\\site-packages (from pyopencl) (2.1.2)\n",
      "Requirement already satisfied: platformdirs>=2.2 in c:\\users\\maria\\appdata\\local\\packages\\pythonsoftwarefoundation.python.3.12_qbz5n2kfra8p0\\localcache\\local-packages\\python312\\site-packages (from pyopencl) (4.3.6)\n",
      "Requirement already satisfied: pytools>=2024.1.5 in c:\\users\\maria\\appdata\\local\\packages\\pythonsoftwarefoundation.python.3.12_qbz5n2kfra8p0\\localcache\\local-packages\\python312\\site-packages (from pyopencl) (2024.1.14)\n",
      "Requirement already satisfied: typing-extensions>=4 in c:\\users\\maria\\appdata\\local\\packages\\pythonsoftwarefoundation.python.3.12_qbz5n2kfra8p0\\localcache\\local-packages\\python312\\site-packages (from pytools>=2024.1.5->pyopencl) (4.12.2)\n",
      "Note: you may need to restart the kernel to use updated packages.\n"
     ]
    },
    {
     "name": "stderr",
     "output_type": "stream",
     "text": [
      "\n",
      "[notice] A new release of pip is available: 24.2 -> 24.3.1\n",
      "[notice] To update, run: C:\\Users\\maria\\AppData\\Local\\Microsoft\\WindowsApps\\PythonSoftwareFoundation.Python.3.12_qbz5n2kfra8p0\\python.exe -m pip install --upgrade pip\n"
     ]
    }
   ],
   "source": [
    "pip install pyopencl"
   ]
  },
  {
   "cell_type": "markdown",
   "metadata": {},
   "source": [
    "IMPORTAR LIBRERIAS Y FUNCIONES"
   ]
  },
  {
   "cell_type": "code",
   "execution_count": 2,
   "metadata": {},
   "outputs": [],
   "source": [
    "import funciones_matrices as fm\n",
    "import kernels_matrices as km\n",
    "import numpy as np\n",
    "import pyopencl as cl\n",
    "import pandas as pd\n",
    "import matplotlib as plt\n",
    "import os\n",
    "import experimento_matrices as em\n",
    "import funciones_matrices as fm\n",
    "import kernels_matrices as km\n",
    "\n",
    "\n",
    "import determinar_mejor_local_size as mejor\n"
   ]
  },
  {
   "cell_type": "markdown",
   "metadata": {},
   "source": [
    "VALORES IMPORTANTES A CAMBIAR DEPENDIENDO DEL ORDENADOR"
   ]
  },
  {
   "cell_type": "code",
   "execution_count": 3,
   "metadata": {},
   "outputs": [],
   "source": [
    "path=\"C:/Users/maria/OneDrive/OPENCL/RESULTADOS_PORTATIL\"  #Adaptar ruta correspondiente\n",
    "\n",
    "# Datos GPU\n",
    "compute_units = 96   #Adaptar según la GPU\n",
    "processing_elements = 8"
   ]
  },
  {
   "cell_type": "markdown",
   "metadata": {},
   "source": [
    "EJECUTAR EL EXPERIMENTO"
   ]
  },
  {
   "cell_type": "code",
   "execution_count": 4,
   "metadata": {},
   "outputs": [
    {
     "name": "stdout",
     "output_type": "stream",
     "text": [
      "Ejecutando experimento con MatrixMul_kernel1\n"
     ]
    },
    {
     "ename": "LogicError",
     "evalue": "clEnqueueNDRangeKernel failed: INVALID_WORK_GROUP_SIZE",
     "output_type": "error",
     "traceback": [
      "\u001b[1;31m---------------------------------------------------------------------------\u001b[0m",
      "\u001b[1;31mLogicError\u001b[0m                                Traceback (most recent call last)",
      "Cell \u001b[1;32mIn[4], line 16\u001b[0m\n\u001b[0;32m     13\u001b[0m os\u001b[38;5;241m.\u001b[39mmakedirs(base_save_dir, exist_ok\u001b[38;5;241m=\u001b[39m\u001b[38;5;28;01mTrue\u001b[39;00m)\n\u001b[0;32m     15\u001b[0m \u001b[38;5;66;03m# Ejecutar los experimentos\u001b[39;00m\n\u001b[1;32m---> 16\u001b[0m \u001b[43mem\u001b[49m\u001b[38;5;241;43m.\u001b[39;49m\u001b[43mejecutar_experimentos\u001b[49m\u001b[43m(\u001b[49m\u001b[43maplicar_funcs\u001b[49m\u001b[43m,\u001b[49m\u001b[43m \u001b[49m\u001b[43mkernel_codes\u001b[49m\u001b[43m,\u001b[49m\u001b[43m \u001b[49m\u001b[43mkernel_names\u001b[49m\u001b[43m,\u001b[49m\u001b[43m \u001b[49m\u001b[43mdevice_type\u001b[49m\u001b[43m,\u001b[49m\u001b[43m \u001b[49m\u001b[43mcompute_units\u001b[49m\u001b[43m,\u001b[49m\u001b[43m \u001b[49m\u001b[43mprocessing_elements\u001b[49m\u001b[43m,\u001b[49m\u001b[43m \u001b[49m\u001b[43mbase_save_dir\u001b[49m\u001b[43m)\u001b[49m\n",
      "File \u001b[1;32mc:\\Users\\maria\\OneDrive\\OPENCL\\MULTIPLICACION MATRICES\\ARCHIVOS PYTHON UTILES\\experimento_matrices.py:218\u001b[0m, in \u001b[0;36mejecutar_experimentos\u001b[1;34m(aplicar_funcs, kernel_codes, kernel_names, device_type, compute_units, processing_elements, base_save_dir)\u001b[0m\n\u001b[0;32m    216\u001b[0m \u001b[38;5;28;01mfor\u001b[39;00m funcion_aplicar, kernel_code, kernel_name \u001b[38;5;129;01min\u001b[39;00m \u001b[38;5;28mzip\u001b[39m(aplicar_funcs, kernel_codes, kernel_names):\n\u001b[0;32m    217\u001b[0m     \u001b[38;5;28mprint\u001b[39m(\u001b[38;5;124mf\u001b[39m\u001b[38;5;124m\"\u001b[39m\u001b[38;5;124mEjecutando experimento con \u001b[39m\u001b[38;5;132;01m{\u001b[39;00mkernel_name\u001b[38;5;132;01m}\u001b[39;00m\u001b[38;5;124m\"\u001b[39m)\n\u001b[1;32m--> 218\u001b[0m     \u001b[43mexperimento_matrices\u001b[49m\u001b[43m(\u001b[49m\u001b[43mfuncion_aplicar\u001b[49m\u001b[43m,\u001b[49m\u001b[43m \u001b[49m\u001b[43mkernel_code\u001b[49m\u001b[43m,\u001b[49m\u001b[43m \u001b[49m\u001b[43mkernel_name\u001b[49m\u001b[43m,\u001b[49m\u001b[43m \u001b[49m\u001b[43mdevice_type\u001b[49m\u001b[43m,\u001b[49m\u001b[43m \u001b[49m\u001b[43mcompute_units\u001b[49m\u001b[43m,\u001b[49m\u001b[43m \u001b[49m\n\u001b[0;32m    219\u001b[0m \u001b[43m                         \u001b[49m\u001b[43mprocessing_elements\u001b[49m\u001b[43m,\u001b[49m\u001b[43m \u001b[49m\u001b[43mkernel_name\u001b[49m\u001b[43m,\u001b[49m\u001b[43m \u001b[49m\u001b[43mbase_save_dir\u001b[49m\u001b[43m)\u001b[49m\n",
      "File \u001b[1;32mc:\\Users\\maria\\OneDrive\\OPENCL\\MULTIPLICACION MATRICES\\ARCHIVOS PYTHON UTILES\\experimento_matrices.py:177\u001b[0m, in \u001b[0;36mexperimento_matrices\u001b[1;34m(funcion_aplicar, kernel_code, kernel_name, device_type, compute_units, processing_elements, funcion_nombre, base_save_dir)\u001b[0m\n\u001b[0;32m    161\u001b[0m \u001b[38;5;28;01mdef\u001b[39;00m \u001b[38;5;21mexperimento_matrices\u001b[39m(funcion_aplicar, kernel_code: \u001b[38;5;28mstr\u001b[39m, kernel_name: \u001b[38;5;28mstr\u001b[39m, device_type: cl\u001b[38;5;241m.\u001b[39mdevice_type, \n\u001b[0;32m    162\u001b[0m                          compute_units: \u001b[38;5;28mint\u001b[39m, processing_elements: \u001b[38;5;28mint\u001b[39m, funcion_nombre: \u001b[38;5;28mstr\u001b[39m, \n\u001b[0;32m    163\u001b[0m                          base_save_dir: \u001b[38;5;28mstr\u001b[39m \u001b[38;5;241m=\u001b[39m \u001b[38;5;124m'\u001b[39m\u001b[38;5;124mgraficos\u001b[39m\u001b[38;5;124m'\u001b[39m) \u001b[38;5;241m-\u001b[39m\u001b[38;5;241m>\u001b[39m \u001b[38;5;28mtuple\u001b[39m[pd\u001b[38;5;241m.\u001b[39mDataFrame, pd\u001b[38;5;241m.\u001b[39mDataFrame]:\n\u001b[0;32m    164\u001b[0m \u001b[38;5;250m    \u001b[39m\u001b[38;5;124;03m\"\"\"\u001b[39;00m\n\u001b[0;32m    165\u001b[0m \u001b[38;5;124;03m    Realiza un experimento sobre un kernel, probando diferentes local sizes y generando gráficos.\u001b[39;00m\n\u001b[0;32m    166\u001b[0m \n\u001b[1;32m   (...)\u001b[0m\n\u001b[0;32m    175\u001b[0m \u001b[38;5;124;03m    :return: Tuple con dos DataFrames: resultados combinados y mejores resultados.\u001b[39;00m\n\u001b[0;32m    176\u001b[0m \u001b[38;5;124;03m    \"\"\"\u001b[39;00m\n\u001b[1;32m--> 177\u001b[0m     results_general \u001b[38;5;241m=\u001b[39m \u001b[43maplicar_kernel_local_sizes\u001b[49m\u001b[43m(\u001b[49m\u001b[43mkernel_code\u001b[49m\u001b[43m,\u001b[49m\u001b[43m \u001b[49m\u001b[43mkernel_name\u001b[49m\u001b[43m,\u001b[49m\u001b[43m \u001b[49m\u001b[43mdevice_type\u001b[49m\u001b[43m,\u001b[49m\u001b[43m \u001b[49m\u001b[43mfuncion_aplicar\u001b[49m\u001b[43m)\u001b[49m\n\u001b[0;32m    178\u001b[0m     results_optimal \u001b[38;5;241m=\u001b[39m local_sizes_optimos(funcion_aplicar, kernel_code, kernel_name, device_type, compute_units, processing_elements)\n\u001b[0;32m    180\u001b[0m     df_combined \u001b[38;5;241m=\u001b[39m pd\u001b[38;5;241m.\u001b[39mconcat([results_general, results_optimal], axis\u001b[38;5;241m=\u001b[39m\u001b[38;5;241m0\u001b[39m)\n",
      "File \u001b[1;32mc:\\Users\\maria\\OneDrive\\OPENCL\\MULTIPLICACION MATRICES\\ARCHIVOS PYTHON UTILES\\experimento_matrices.py:77\u001b[0m, in \u001b[0;36maplicar_kernel_local_sizes\u001b[1;34m(kernel_code, kernel_name, device_type, funcion_aplicar)\u001b[0m\n\u001b[0;32m     75\u001b[0m A \u001b[38;5;241m=\u001b[39m np\u001b[38;5;241m.\u001b[39mrandom\u001b[38;5;241m.\u001b[39mrandint(\u001b[38;5;241m0\u001b[39m, \u001b[38;5;241m10\u001b[39m, size\u001b[38;5;241m=\u001b[39m(dim, dim))\u001b[38;5;241m.\u001b[39mastype(np\u001b[38;5;241m.\u001b[39mint32)\n\u001b[0;32m     76\u001b[0m B \u001b[38;5;241m=\u001b[39m np\u001b[38;5;241m.\u001b[39mrandom\u001b[38;5;241m.\u001b[39mrandint(\u001b[38;5;241m0\u001b[39m, \u001b[38;5;241m10\u001b[39m, size\u001b[38;5;241m=\u001b[39m(dim, dim))\u001b[38;5;241m.\u001b[39mastype(np\u001b[38;5;241m.\u001b[39mint32)\n\u001b[1;32m---> 77\u001b[0m exec_time, C \u001b[38;5;241m=\u001b[39m \u001b[43mfuncion_aplicar\u001b[49m\u001b[43m(\u001b[49m\u001b[43mdim\u001b[49m\u001b[43m,\u001b[49m\u001b[43m \u001b[49m\u001b[43mlocal_size\u001b[49m\u001b[43m,\u001b[49m\u001b[43m \u001b[49m\u001b[43mdevice_type\u001b[49m\u001b[43m,\u001b[49m\u001b[43m \u001b[49m\u001b[43mkernel_code\u001b[49m\u001b[43m,\u001b[49m\u001b[43m \u001b[49m\u001b[43mkernel_name\u001b[49m\u001b[43m,\u001b[49m\u001b[43m \u001b[49m\u001b[43mA\u001b[49m\u001b[43m,\u001b[49m\u001b[43m \u001b[49m\u001b[43mB\u001b[49m\u001b[43m)\u001b[49m\n\u001b[0;32m     78\u001b[0m results_df\u001b[38;5;241m.\u001b[39mloc[\u001b[38;5;124mf\u001b[39m\u001b[38;5;124m\"\u001b[39m\u001b[38;5;124m(\u001b[39m\u001b[38;5;132;01m{\u001b[39;00mi\u001b[38;5;132;01m}\u001b[39;00m\u001b[38;5;124m/\u001b[39m\u001b[38;5;132;01m{\u001b[39;00mi\u001b[38;5;132;01m}\u001b[39;00m\u001b[38;5;124m)\u001b[39m\u001b[38;5;124m\"\u001b[39m, dim] \u001b[38;5;241m=\u001b[39m exec_time \u001b[38;5;28;01mif\u001b[39;00m exec_time \u001b[38;5;129;01mis\u001b[39;00m \u001b[38;5;129;01mnot\u001b[39;00m \u001b[38;5;28;01mNone\u001b[39;00m \u001b[38;5;28;01melse\u001b[39;00m \u001b[38;5;28;01mNone\u001b[39;00m\n\u001b[0;32m     79\u001b[0m dim \u001b[38;5;241m*\u001b[39m\u001b[38;5;241m=\u001b[39m \u001b[38;5;241m2\u001b[39m\n",
      "File \u001b[1;32mc:\\Users\\maria\\OneDrive\\OPENCL\\MULTIPLICACION MATRICES\\ARCHIVOS PYTHON UTILES\\funciones_matrices.py:120\u001b[0m, in \u001b[0;36mmult_mat_basica\u001b[1;34m(dim, local_size, device_type, kernel_code, kernel_name, A, B)\u001b[0m\n\u001b[0;32m    118\u001b[0m bufA, bufB, bufC, C \u001b[38;5;241m=\u001b[39m crear_buffers_matrices(A, B, context, dim)\n\u001b[0;32m    119\u001b[0m args_kernel \u001b[38;5;241m=\u001b[39m [np\u001b[38;5;241m.\u001b[39mint32(dim), bufA, bufB, bufC]\n\u001b[1;32m--> 120\u001b[0m exec_time, C \u001b[38;5;241m=\u001b[39m \u001b[43maplicar_kernel\u001b[49m\u001b[43m(\u001b[49m\u001b[43mkernel\u001b[49m\u001b[43m,\u001b[49m\u001b[43m \u001b[49m\u001b[43margs_kernel\u001b[49m\u001b[43m,\u001b[49m\u001b[43m \u001b[49m\u001b[43mglobal_size\u001b[49m\u001b[43m,\u001b[49m\u001b[43m \u001b[49m\u001b[43mlocal_size\u001b[49m\u001b[43m,\u001b[49m\u001b[43m \u001b[49m\u001b[43mcommand_queue\u001b[49m\u001b[43m,\u001b[49m\u001b[43m \u001b[49m\u001b[43mC\u001b[49m\u001b[43m,\u001b[49m\u001b[43m \u001b[49m\u001b[43mbufC\u001b[49m\u001b[43m)\u001b[49m\n\u001b[0;32m    121\u001b[0m \u001b[38;5;28;01mreturn\u001b[39;00m exec_time, C\n",
      "File \u001b[1;32mc:\\Users\\maria\\OneDrive\\OPENCL\\MULTIPLICACION MATRICES\\ARCHIVOS PYTHON UTILES\\funciones_matrices.py:93\u001b[0m, in \u001b[0;36maplicar_kernel\u001b[1;34m(kernel, args_kernel, global_size, local_size, command_queue, C, bufC)\u001b[0m\n\u001b[0;32m     80\u001b[0m \u001b[38;5;250m\u001b[39m\u001b[38;5;124;03m\"\"\"\u001b[39;00m\n\u001b[0;32m     81\u001b[0m \u001b[38;5;124;03mAplica un kernel a los datos y devuelve los resultados.\u001b[39;00m\n\u001b[0;32m     82\u001b[0m \n\u001b[1;32m   (...)\u001b[0m\n\u001b[0;32m     90\u001b[0m \u001b[38;5;124;03m:return: Tiempo de ejecución y la matriz resultante.\u001b[39;00m\n\u001b[0;32m     91\u001b[0m \u001b[38;5;124;03m\"\"\"\u001b[39;00m\n\u001b[0;32m     92\u001b[0m establecer_args_kernel(kernel, args_kernel)\n\u001b[1;32m---> 93\u001b[0m event \u001b[38;5;241m=\u001b[39m \u001b[43mejecutar_kernel\u001b[49m\u001b[43m(\u001b[49m\u001b[43mcommand_queue\u001b[49m\u001b[43m,\u001b[49m\u001b[43m \u001b[49m\u001b[43mkernel\u001b[49m\u001b[43m,\u001b[49m\u001b[43m \u001b[49m\u001b[43mglobal_size\u001b[49m\u001b[43m,\u001b[49m\u001b[43m \u001b[49m\u001b[43mlocal_size\u001b[49m\u001b[43m)\u001b[49m\n\u001b[0;32m     94\u001b[0m cl\u001b[38;5;241m.\u001b[39menqueue_copy(command_queue, C, bufC)\u001b[38;5;241m.\u001b[39mwait()\n\u001b[0;32m     95\u001b[0m exec_time \u001b[38;5;241m=\u001b[39m \u001b[38;5;241m1e-9\u001b[39m \u001b[38;5;241m*\u001b[39m (event\u001b[38;5;241m.\u001b[39mprofile\u001b[38;5;241m.\u001b[39mend \u001b[38;5;241m-\u001b[39m event\u001b[38;5;241m.\u001b[39mprofile\u001b[38;5;241m.\u001b[39mstart)\n",
      "File \u001b[1;32mc:\\Users\\maria\\OneDrive\\OPENCL\\MULTIPLICACION MATRICES\\ARCHIVOS PYTHON UTILES\\funciones_matrices.py:55\u001b[0m, in \u001b[0;36mejecutar_kernel\u001b[1;34m(command_queue, kernel_filter, global_size, local_size)\u001b[0m\n\u001b[0;32m     45\u001b[0m \u001b[38;5;28;01mdef\u001b[39;00m \u001b[38;5;21mejecutar_kernel\u001b[39m(command_queue, kernel_filter, global_size, local_size):\n\u001b[0;32m     46\u001b[0m \u001b[38;5;250m    \u001b[39m\u001b[38;5;124;03m\"\"\"\u001b[39;00m\n\u001b[0;32m     47\u001b[0m \u001b[38;5;124;03m    Ejecuta un kernel OpenCL y mide su tiempo de ejecución.\u001b[39;00m\n\u001b[0;32m     48\u001b[0m \n\u001b[1;32m   (...)\u001b[0m\n\u001b[0;32m     53\u001b[0m \u001b[38;5;124;03m    :return: Evento OpenCL del kernel.\u001b[39;00m\n\u001b[0;32m     54\u001b[0m \u001b[38;5;124;03m    \"\"\"\u001b[39;00m\n\u001b[1;32m---> 55\u001b[0m     event \u001b[38;5;241m=\u001b[39m \u001b[43mcl\u001b[49m\u001b[38;5;241;43m.\u001b[39;49m\u001b[43menqueue_nd_range_kernel\u001b[49m\u001b[43m(\u001b[49m\u001b[43mcommand_queue\u001b[49m\u001b[43m,\u001b[49m\u001b[43m \u001b[49m\u001b[43mkernel_filter\u001b[49m\u001b[43m,\u001b[49m\u001b[43m \u001b[49m\u001b[43mglobal_size\u001b[49m\u001b[43m,\u001b[49m\u001b[43m \u001b[49m\u001b[43mlocal_size\u001b[49m\u001b[43m)\u001b[49m\n\u001b[0;32m     56\u001b[0m     event\u001b[38;5;241m.\u001b[39mwait()\n\u001b[0;32m     57\u001b[0m     \u001b[38;5;28;01mreturn\u001b[39;00m event\n",
      "\u001b[1;31mLogicError\u001b[0m: clEnqueueNDRangeKernel failed: INVALID_WORK_GROUP_SIZE"
     ]
    }
   ],
   "source": [
    "\n",
    "\n",
    "# Datos DEVICE\n",
    "device_type = cl.device_type.GPU \n",
    "\n",
    "#Lista kernels\n",
    "kernel_codes=[km.MatrixMul_kernel1,km.MatrixMul_kernel_localA_coallesced,km.MatrixMul_Local_Memory]\n",
    "kernel_names=[\"MatrixMul_kernel1\",\"MatrixMul_kernel_localA_coallesced\",\"MatrixMul_Local_Memory\"]\n",
    "aplicar_funcs=[fm.mult_mat_basica,fm.mult_mat_local,fm.mult_mat_local_tiles]\n",
    "\n",
    "# Directorio base para guardar los gráficos\n",
    "#base_save_dir = \"C:/Users/Eevee/Documents/OPENCL TFG IMP/MULTIPLICACION MATRICES/RESULTADOS/\"\n",
    "\n",
    "base_save_dir = os.path.join(path, \"OPENCL/MULTIPLICACION MATRICES/RESULTADOS/\")\n",
    "os.makedirs(base_save_dir, exist_ok=True)\n",
    "\n",
    "# Ejecutar los experimentos\n",
    "em.ejecutar_experimentos(aplicar_funcs, kernel_codes, kernel_names, device_type, compute_units, processing_elements, base_save_dir)"
   ]
  }
 ],
 "metadata": {
  "kernelspec": {
   "display_name": "Python 3",
   "language": "python",
   "name": "python3"
  },
  "language_info": {
   "codemirror_mode": {
    "name": "ipython",
    "version": 3
   },
   "file_extension": ".py",
   "mimetype": "text/x-python",
   "name": "python",
   "nbconvert_exporter": "python",
   "pygments_lexer": "ipython3",
   "version": "3.12.7"
  }
 },
 "nbformat": 4,
 "nbformat_minor": 2
}
