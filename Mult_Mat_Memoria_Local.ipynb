{
  "cells": [
    {
      "cell_type": "markdown",
      "metadata": {
        "id": "view-in-github",
        "colab_type": "text"
      },
      "source": [
        "<a href=\"https://colab.research.google.com/github/MariaOmaechevarria/OPENCL/blob/main/Mult_Mat_Memoria_Local.ipynb\" target=\"_parent\"><img src=\"https://colab.research.google.com/assets/colab-badge.svg\" alt=\"Open In Colab\"/></a>"
      ]
    },
    {
      "cell_type": "code",
      "execution_count": null,
      "metadata": {
        "collapsed": true,
        "id": "F81CIoohxE5P"
      },
      "outputs": [],
      "source": [
        "!sudo apt update\n",
        "!sudo apt purge *nvidia* -y\n",
        "!sudo apt install nvidia-driver-530 -y\n",
        "\n",
        "\n",
        "!pip install pyopencl\n",
        "!apt-get install -y pocl-opencl-icd ocl-icd-libopencl1"
      ]
    },
    {
      "cell_type": "code",
      "execution_count": null,
      "metadata": {
        "id": "rQnth8BexL5Z"
      },
      "outputs": [],
      "source": [
        "import pyopencl as cl\n",
        "import numpy as np\n",
        "import pandas as pd\n",
        "from google.colab import drive\n",
        "drive.mount('/content/drive')"
      ]
    },
    {
      "cell_type": "code",
      "execution_count": null,
      "metadata": {
        "id": "SWVNCuEjxQKL"
      },
      "outputs": [],
      "source": [
        "program_text=\"\"\"\n",
        "    __kernel void MatrixMul_kernel_localA(int dim, __global float *A, __global float *B, __global float *C, __local float *lA) {\n",
        "\n",
        "        //Get the index of the work-item\n",
        "             int iCol = get_global_id(0);\n",
        "             int iRow = get_global_id(1);\n",
        "             int localIdx = get_local_id(0);\n",
        "             int localSizex = get_local_size(0);\n",
        "\n",
        "\n",
        "             float result = 0.0f;\n",
        "             int numElements = dim/localSizex;\n",
        "\n",
        "             for(int i=0; i<numElements ; i++)\n",
        "                 {\n",
        "                  lA[localIdx*numElements + i] = A[iRow*dim + localIdx*numElements + i];\n",
        "                   }\n",
        "\n",
        "             barrier(CLK_LOCAL_MEM_FENCE);\n",
        "\n",
        "             for(int i=0;i< dim;++i)\n",
        "                   {\n",
        "                       result += lA[i]*B[i*dim + iCol];\n",
        "                     }\n",
        "             C[iRow*dim + iCol] = result;\n",
        "}\n",
        "\"\"\""
      ]
    },
    {
      "cell_type": "code",
      "execution_count": null,
      "metadata": {
        "id": "91x86Ebcxs3U"
      },
      "outputs": [],
      "source": [
        "def mult_mat_local(dim:int,local_size:tuple,device_type,program_text,A,B):\n",
        "\n",
        "  # Plataforma\n",
        "  platform = cl.get_platforms()[0]\n",
        "\n",
        "  # Dispositivo (GPU)\n",
        "  device = platform.get_devices(device_type=device_type)[0]\n",
        "\n",
        "  # Crear contexto con el dispositivo seleccionado\n",
        "  context = cl.Context([device])\n",
        "\n",
        "  # Crear una cola de comandos\n",
        "  command_queue = cl.CommandQueue(context, device=device, properties=cl.command_queue_properties.PROFILING_ENABLE)\n",
        "\n",
        "  # Crear el programa y compilarlo\n",
        "  program = cl.Program(context, program_text)\n",
        "  try:\n",
        "       program.build()\n",
        "  except Exception as e:\n",
        "    print(\"Build log:\")\n",
        "    print(program.get_build_info(device, cl.program_build_info.LOG))\n",
        "    raise e\n",
        "\n",
        "  # Crear el kernel\n",
        "  kernel = cl.Kernel(program, 'MatrixMul_kernel_localA')\n",
        "\n",
        "  # Inicializar matrices  C\n",
        "  C = np.zeros((dim, dim), dtype=np.float32)\n",
        "\n",
        "  # Crear buffers en el dispositivo\n",
        "  mf = cl.mem_flags\n",
        "  buffer_A = cl.Buffer(context, mf.READ_ONLY | mf.COPY_HOST_PTR, hostbuf=A)\n",
        "  buffer_B = cl.Buffer(context, mf.READ_ONLY | mf.COPY_HOST_PTR, hostbuf=B)\n",
        "  buffer_C = cl.Buffer(context, mf.WRITE_ONLY, C.nbytes)\n",
        "\n",
        "    # Configurar argumentos del kernel\n",
        "  local_mem_size = local_size[0] * local_size[1] * np.dtype(np.float32).itemsize\n",
        "  kernel.set_arg(0, np.int32(dim))\n",
        "  kernel.set_arg(1, buffer_A)\n",
        "  kernel.set_arg(2, buffer_B)\n",
        "  kernel.set_arg(3, buffer_C)\n",
        "  kernel.set_arg(4, cl.LocalMemory(local_mem_size))\n",
        "\n",
        "  # Definir el tamaño global y local\n",
        "  global_size = (dim, dim)\n",
        "\n",
        "  # Ejecutar el kernel\n",
        "  event = cl.enqueue_nd_range_kernel(command_queue, kernel, global_size, local_size)\n",
        "  event.wait()\n",
        "\n",
        "  # Medir tiempo de ejecución\n",
        "  start_time = event.profile.start\n",
        "  end_time = event.profile.end\n",
        "  execution_time = (end_time - start_time) * 1e-9  # Convertir a segundos\n",
        "\n",
        "  # Leer el resultado del buffer C\n",
        "  cl.enqueue_copy(command_queue, C, buffer_C).wait()\n",
        "\n",
        "  return execution_time, C\n",
        "\n",
        "\n",
        "\n",
        "\n",
        "\n",
        "\n",
        "\n"
      ]
    },
    {
      "cell_type": "code",
      "execution_count": null,
      "metadata": {
        "colab": {
          "background_save": true
        },
        "id": "KBna8u8B2Jfg"
      },
      "outputs": [],
      "source": [
        "def main():\n",
        "\n",
        "  device_type=cl.device_type.CPU\n",
        "  index = [(f\"({2 ** i}/{2 ** i})\" if i != 0 else \"(1/1)\") for i in range(0, 5)]\n",
        "  columns = [2 ** i for i in range(1, 14)]  # 2^1 a 2^13 (de 2 a 8192)\n",
        "  results_df = pd.DataFrame(index=index, columns=columns)\n",
        "\n",
        "  i=1\n",
        "  while i<=16:\n",
        "\n",
        "    local_size=(i,i)\n",
        "    dim=i\n",
        "\n",
        "    while dim<=2048:\n",
        "\n",
        "       A = np.random.randint(0, 10, size=(dim, dim)).astype(np.int32)\n",
        "       B = np.random.randint(0, 10, size=(dim, dim)).astype(np.int32)\n",
        "\n",
        "       exec_time,C=mult_mat_local(dim,local_size,device_type,program_text,A,B)\n",
        "\n",
        "       results_df.loc[f\"({i}/{i})\", dim] = exec_time if exec_time is not None else \"NP\"\n",
        "\n",
        "       dim*=2\n",
        "\n",
        "       del A,B\n",
        "\n",
        "    i*=2\n",
        "\n",
        "  #Guardar los resultados\n",
        "  results_df=results_df.drop(columns=[1])\n",
        "  results_df.to_csv('/content/drive/My Drive/Colab Notebooks/TFG_OPENCL/MULTIPLICACION DE MATRICES/Mult_Mat_Memoria_Local_CPU.csv',index=True)\n",
        "\n",
        "  return results_df\n",
        "\n",
        "\n",
        "results_df=main()\n"
      ]
    },
    {
      "cell_type": "code",
      "source": [
        "\n"
      ],
      "metadata": {
        "id": "PDp4cwG6cGui"
      },
      "execution_count": null,
      "outputs": []
    },
    {
      "cell_type": "code",
      "source": [
        "dim=4\n",
        "local_size=(2,2)\n",
        "device_type=cl.device_type.CPU\n",
        "\n",
        "\n",
        "A=[[7, 2, 0 ,2],[0, 3, 0 ,5],[1, 1 ,3, 1],[8 ,9 ,1 ,7]]\n",
        "\n",
        "B=[[2, 9 ,8 ,4],\n",
        " [2, 5, 4 ,7],\n",
        " [6 ,7 ,1 ,3],\n",
        " [9, 0 ,9 ,8]]\n",
        "A = np.array(A, dtype=np.int32)\n",
        "B = np.array(B, dtype=np.int32)\n",
        "\n",
        "exec_time,C=mult_mat_basica(dim,local_size,device_type,program_text,A,B)\n",
        "print(C)"
      ],
      "metadata": {
        "id": "7I7WYIYDgciI"
      },
      "execution_count": null,
      "outputs": []
    }
  ],
  "metadata": {
    "accelerator": "TPU",
    "colab": {
      "gpuType": "V28",
      "provenance": [],
      "include_colab_link": true
    },
    "kernelspec": {
      "display_name": "Python 3",
      "name": "python3"
    },
    "language_info": {
      "name": "python"
    }
  },
  "nbformat": 4,
  "nbformat_minor": 0
}