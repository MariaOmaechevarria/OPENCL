{
 "cells": [
  {
   "cell_type": "markdown",
   "metadata": {
    "colab_type": "text",
    "id": "view-in-github"
   },
   "source": [
    "<a href=\"https://colab.research.google.com/github/MariaOmaechevarria/OPENCL/blob/main/OBTENER_INFORMACION_DEL_DEVICE.ipynb\" target=\"_parent\"><img src=\"https://colab.research.google.com/assets/colab-badge.svg\" alt=\"Open In Colab\"/></a>"
   ]
  },
  {
   "cell_type": "code",
   "execution_count": null,
   "metadata": {
    "id": "5swmbRVZWsOp"
   },
   "outputs": [],
   "source": []
  },
  {
   "cell_type": "code",
   "execution_count": 1,
   "metadata": {
    "colab": {
     "base_uri": "https://localhost:8080/"
    },
    "collapsed": true,
    "id": "B8LqxMxOVcX6",
    "outputId": "9942498f-7de9-4237-d750-2fd8ecc5d7be"
   },
   "outputs": [
    {
     "data": {
      "text/plain": [
       "'\\n\\n!sudo apt update\\n!sudo apt purge *nvidia* -y\\n!sudo apt install nvidia-driver-530 -y\\n\\n\\n!pip install pyopencl\\n!apt-get install -y pocl-opencl-icd ocl-icd-libopencl1\\n'"
      ]
     },
     "execution_count": 1,
     "metadata": {},
     "output_type": "execute_result"
    }
   ],
   "source": [
    "'''\n",
    "\n",
    "!sudo apt update\n",
    "!sudo apt purge *nvidia* -y\n",
    "!sudo apt install nvidia-driver-530 -y\n",
    "\n",
    "\n",
    "!pip install pyopencl\n",
    "!apt-get install -y pocl-opencl-icd ocl-icd-libopencl1\n",
    "'''"
   ]
  },
  {
   "cell_type": "code",
   "execution_count": 2,
   "metadata": {
    "colab": {
     "base_uri": "https://localhost:8080/"
    },
    "collapsed": true,
    "id": "70E4qL3cWjGL",
    "outputId": "7aac2819-3972-42e9-943d-b280ea94b2d8"
   },
   "outputs": [
    {
     "name": "stdout",
     "output_type": "stream",
     "text": [
      "CL_DEVICE_TYPE_GPU\n",
      "Vendor ID: 0x8086\n",
      "Nombre del dispositivo: Intel(R) Iris(R) Xe Graphics\n",
      "Maximum Compute Units: 96\n",
      "Maximum Work Item Dimensions: 3\n",
      "Maximum Work Item Sizes: 512 x 512 x 512\n",
      "Maximum Work Group Size: 512\n",
      "Maximum Clock Frequency: 1250 MHz\n"
     ]
    }
   ],
   "source": [
    "import pyopencl as cl\n",
    "\n",
    "# Configurar contexto y seleccionar el dispositivo\n",
    "platform = cl.get_platforms()[0]  # Selecciona la primera plataforma\n",
    "device = platform.get_devices()[0]  # Selecciona el primer dispositivo\n",
    "\n",
    "# Obtener el tipo de dispositivo\n",
    "device_type = device.get_info(cl.device_info.TYPE)\n",
    "\n",
    "if device_type == cl.device_type.CPU:\n",
    "    print(\"CL_DEVICE_TYPE_CPU\")\n",
    "elif device_type == cl.device_type.GPU:\n",
    "    print(\"CL_DEVICE_TYPE_GPU\")\n",
    "elif device_type == cl.device_type.ACCELERATOR:\n",
    "    print(\"CL_DEVICE_TYPE_ACCELERATOR\")\n",
    "else:\n",
    "    print(\"Other\")\n",
    "\n",
    "# Obtener el Vendor ID del dispositivo\n",
    "vendor_id = device.get_info(cl.device_info.VENDOR_ID)\n",
    "print(f\"Vendor ID: 0x{vendor_id:04x}\")\n",
    "device_name = device.get_info(cl.device_info.NAME)\n",
    "print(f\"Nombre del dispositivo: {device_name}\")\n",
    "\n",
    "\n",
    "# Obtener el número máximo de Compute Units\n",
    "max_compute_units = device.get_info(cl.device_info.MAX_COMPUTE_UNITS)\n",
    "print(f\"Maximum Compute Units: {max_compute_units}\")\n",
    "\n",
    "# Obtener las dimensiones máximas de trabajo\n",
    "max_work_item_dimensions = device.get_info(cl.device_info.MAX_WORK_ITEM_DIMENSIONS)\n",
    "print(f\"Maximum Work Item Dimensions: {max_work_item_dimensions}\")\n",
    "\n",
    "# Obtener los tamaños máximos de trabajo\n",
    "max_work_item_sizes = device.get_info(cl.device_info.MAX_WORK_ITEM_SIZES)\n",
    "print(f\"Maximum Work Item Sizes: {max_work_item_sizes[0]} x {max_work_item_sizes[1]} x {max_work_item_sizes[2]}\")\n",
    "\n",
    "# Obtener el tamaño máximo del grupo de trabajo\n",
    "max_work_group_size = device.get_info(cl.device_info.MAX_WORK_GROUP_SIZE)\n",
    "print(f\"Maximum Work Group Size: {max_work_group_size}\")\n",
    "\n",
    "# Obtener la frecuencia máxima del reloj\n",
    "max_clock_frequency = device.get_info(cl.device_info.MAX_CLOCK_FREQUENCY)\n",
    "print(f\"Maximum Clock Frequency: {max_clock_frequency} MHz\")\n"
   ]
  },
  {
   "cell_type": "code",
   "execution_count": 3,
   "metadata": {
    "colab": {
     "base_uri": "https://localhost:8080/"
    },
    "collapsed": true,
    "id": "1m-eAotndw4I",
    "outputId": "50e4e748-ca21-4f04-cffd-10917bf424fc"
   },
   "outputs": [
    {
     "name": "stderr",
     "output_type": "stream",
     "text": [
      "\"clinfo\" no se reconoce como un comando interno o externo,\n",
      "programa o archivo por lotes ejecutable.\n"
     ]
    }
   ],
   "source": [
    "!clinfo\n"
   ]
  },
  {
   "cell_type": "code",
   "execution_count": 4,
   "metadata": {},
   "outputs": [
    {
     "name": "stdout",
     "output_type": "stream",
     "text": [
      "Tamaño máximo de work group soportado para este kernel: 512\n"
     ]
    }
   ],
   "source": [
    "import pyopencl as cl\n",
    "\n",
    "# Obtiene la primera plataforma y el primer dispositivo disponibles\n",
    "platforms = cl.get_platforms()\n",
    "if not platforms:\n",
    "    raise RuntimeError(\"No se encontraron plataformas OpenCL disponibles.\")\n",
    "platform = platforms[0]\n",
    "\n",
    "devices = platform.get_devices()\n",
    "if not devices:\n",
    "    raise RuntimeError(\"No se encontraron dispositivos OpenCL en la plataforma seleccionada.\")\n",
    "device = devices[0]\n",
    "\n",
    "# Crea un contexto y una cola de comando\n",
    "ctx = cl.Context([device])\n",
    "queue = cl.CommandQueue(ctx)\n",
    "\n",
    "# Un kernel sencillo de ejemplo (suma de dos vectores)\n",
    "program_source = \"\"\"__kernel void test_kernel(int dim, __global int* A, __global int* B, __global int* C) {\n",
    "    //Obtener IDs del work item\n",
    "    int fila = get_global_id(0);\n",
    "    int columna = get_global_id(1);\n",
    "    \n",
    "    //Inicializar resultado\n",
    "    int resultado = 0;\n",
    "    \n",
    "    //Recorrer la fila y columna correspondiente\n",
    "    for (int i = 0; i < dim; i++) {\n",
    "        resultado += A[fila * dim + i] * B[i * dim + columna];\n",
    "    }\n",
    "    \n",
    "    //Establecer resultado en C\n",
    "    C[fila * dim + columna] = resultado;\n",
    "}\n",
    "\"\"\"\n",
    "\n",
    "# Compila el programa\n",
    "program = cl.Program(ctx, program_source).build()\n",
    "\n",
    "# Crea el kernel\n",
    "kernel = cl.Kernel(program, \"test_kernel\")\n",
    "\n",
    "# Obtiene el tamaño máximo de work group soportado para este kernel en el dispositivo\n",
    "max_work_group_size = kernel.get_work_group_info(cl.kernel_work_group_info.WORK_GROUP_SIZE, device)\n",
    "\n",
    "print(\"Tamaño máximo de work group soportado para este kernel:\", max_work_group_size)\n"
   ]
  }
 ],
 "metadata": {
  "accelerator": "GPU",
  "colab": {
   "authorship_tag": "ABX9TyO6S1l77zWr/JsKXzJXR/Xe",
   "gpuType": "T4",
   "include_colab_link": true,
   "provenance": []
  },
  "kernelspec": {
   "display_name": "Python 3",
   "name": "python3"
  },
  "language_info": {
   "codemirror_mode": {
    "name": "ipython",
    "version": 3
   },
   "file_extension": ".py",
   "mimetype": "text/x-python",
   "name": "python",
   "nbconvert_exporter": "python",
   "pygments_lexer": "ipython3",
   "version": "3.12.8"
  }
 },
 "nbformat": 4,
 "nbformat_minor": 0
}
