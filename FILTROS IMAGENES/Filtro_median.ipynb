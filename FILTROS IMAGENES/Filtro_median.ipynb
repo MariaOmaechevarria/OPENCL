{
  "cells": [
    {
      "cell_type": "markdown",
      "metadata": {
        "id": "view-in-github",
        "colab_type": "text"
      },
      "source": [
        "<a href=\"https://colab.research.google.com/github/MariaOmaechevarria/OPENCL/blob/main/FILTROS%20IMAGENES/Filtro_median.ipynb\" target=\"_parent\"><img src=\"https://colab.research.google.com/assets/colab-badge.svg\" alt=\"Open In Colab\"/></a>"
      ]
    },
    {
      "cell_type": "code",
      "execution_count": null,
      "metadata": {
        "collapsed": true,
        "id": "nzPqyVLOuF-K"
      },
      "outputs": [],
      "source": [
        "!sudo apt update\n",
        "!sudo apt purge *nvidia* -y\n",
        "!sudo apt install nvidia-driver-530 -y\n",
        "\n",
        "\n",
        "!pip install pyopencl\n",
        "!apt-get install -y pocl-opencl-icd ocl-icd-libopencl1"
      ]
    },
    {
      "cell_type": "code",
      "execution_count": null,
      "metadata": {
        "id": "ObgXhS5suL9s"
      },
      "outputs": [],
      "source": [
        "import pyopencl as cl\n",
        "import numpy as np\n",
        "import pandas as pd\n",
        "from google.colab import drive\n",
        "drive.mount('/content/drive')\n",
        "\n",
        "from PIL import Image, ImageFilter"
      ]
    },
    {
      "cell_type": "code",
      "execution_count": null,
      "metadata": {
        "id": "fkJaS7kju7Gg"
      },
      "outputs": [],
      "source": [
        "kernel_median=\"\"\"\n",
        "__kernel void kernel_median(__global uchar* imagen_in, __global uchar* imagen_out, int dim, int ancho, int alto) {\n",
        "\n",
        "    int fila = get_global_id(0);\n",
        "    int columna = get_global_id(1);\n",
        "\n",
        "    int centro = (dim - 1) / 2;\n",
        "    int i, j;\n",
        "\n",
        "    // Asegurarse de que el píxel esté dentro de los límites\n",
        "    if (centro <= fila && fila < (alto - centro) && centro <= columna && columna < (ancho - centro)) {\n",
        "\n",
        "        // Variables privadas (para cada hilo) para almacenar los píxeles vecinos\n",
        "\n",
        "        uchar ventana_rojo[25]; // Asumiendo una ventana máxima de 5x5,depende de dim\n",
        "        uchar ventana_verde[25];\n",
        "        uchar ventana_azul[25];\n",
        "\n",
        "        //Numero total de elementos en la ventana\n",
        "        int count = 0;\n",
        "\n",
        "        // Recorrer la ventana de tamaño `dim x dim`\n",
        "        for (i = -centro; i <= centro; i++) {\n",
        "            for (j = -centro; j <= centro; j++) {\n",
        "\n",
        "                // Calcular el índice del píxel en la imagen de entrada\n",
        "                int idx = ((fila + i) * ancho + (columna + j)) * 3;\n",
        "\n",
        "                // Guardar los valores de los píxeles en las ventanas\n",
        "\n",
        "                ventana_rojo[count] = imagen_in[idx];\n",
        "                ventana_verde[count] = imagen_in[idx + 1];\n",
        "                ventana_azul[count] = imagen_in[idx + 2];\n",
        "                count++;\n",
        "            }\n",
        "        }\n",
        "\n",
        "        // Ordenar los valores de los píxeles en cada canal\n",
        "\n",
        "        for (int k = 0; k < count - 1; k++) {\n",
        "            for (int l = k + 1; l < count; l++) {\n",
        "\n",
        "                if (ventana_rojo[k] > ventana_rojo[l]) {\n",
        "                    uchar temp = ventana_rojo[k];\n",
        "                    ventana_rojo[k] = ventana_rojo[l];\n",
        "                    ventana_rojo[l] = temp;\n",
        "                }\n",
        "                if (ventana_verde[k] > ventana_verde[l]) {\n",
        "                    uchar temp = ventana_verde[k];\n",
        "                    ventana_verde[k] = ventana_verde[l];\n",
        "                    ventana_verde[l] = temp;\n",
        "                }\n",
        "                if (ventana_azul[k] > ventana_azul[l]) {\n",
        "                    uchar temp = ventana_azul[k];\n",
        "                    ventana_azul[k] = ventana_azul[l];\n",
        "                    ventana_azul[l] = temp;\n",
        "                }\n",
        "            }\n",
        "        }\n",
        "\n",
        "        // Asignar el valor central al píxel de salida\n",
        "\n",
        "        int idx_out = (fila * ancho + columna) * 3;\n",
        "        imagen_out[idx_out] = ventana_rojo[count / 2];\n",
        "        imagen_out[idx_out + 1] = ventana_verde[count / 2];\n",
        "        imagen_out[idx_out + 2] = ventana_azul[count / 2];\n",
        "\n",
        "    } else {\n",
        "        // Si el píxel está fuera de los límites, mantener el valor original\n",
        "\n",
        "        int idx_out = (fila * ancho + columna) * 3;\n",
        "        imagen_out[idx_out] = imagen_in[idx_out];\n",
        "        imagen_out[idx_out + 1] = imagen_in[idx_out + 1];\n",
        "        imagen_out[idx_out + 2] = imagen_in[idx_out + 2];\n",
        "    }\n",
        "}\n",
        "\n",
        "\"\"\""
      ]
    },
    {
      "cell_type": "code",
      "execution_count": null,
      "metadata": {
        "id": "i-31d50cFu9U"
      },
      "outputs": [],
      "source": [
        "def importar_imagen(path):\n",
        "  imagen = Image.open(path)\n",
        "  return imagen"
      ]
    },
    {
      "cell_type": "code",
      "execution_count": null,
      "metadata": {
        "id": "Eh_lM_CeFqqg"
      },
      "outputs": [],
      "source": [
        "def aplicar_filtro_color_median(image_path,  kernel_code, kernel_name, device_type, local_size):\n",
        "    # Importar imagen\n",
        "    imagen = importar_imagen(image_path)\n",
        "\n",
        "    # Convertirla a un array de tres canales\n",
        "    imagen_np = np.array(imagen).astype(np.uint8)\n",
        "\n",
        "    # Dimensiones de la imagen\n",
        "    tam_x, tam_y, _ = imagen_np.shape\n",
        "\n",
        "    # Crear array para la imagen final\n",
        "    imagen_out_np = np.empty_like(imagen_np)\n",
        "\n",
        "    # Plataforma y dispositivo\n",
        "    platform = cl.get_platforms()[0]\n",
        "    device = platform.get_devices(device_type=device_type)[0]\n",
        "\n",
        "    # Crear contexto y cola de comandos\n",
        "    context = cl.Context([device])\n",
        "    command_queue = cl.CommandQueue(context, device=device, properties=cl.command_queue_properties.PROFILING_ENABLE)\n",
        "\n",
        "    # Crear el programa y compilarlo\n",
        "    program = cl.Program(context, kernel_code).build()\n",
        "\n",
        "    # Crear el kernel\n",
        "    kernel_filter = cl.Kernel(program, kernel_name)\n",
        "\n",
        "    # Crear buffers de imagen\n",
        "    buffer_in = cl.Buffer(context, cl.mem_flags.READ_ONLY | cl.mem_flags.COPY_HOST_PTR, hostbuf=imagen_np)\n",
        "    buffer_out = cl.Buffer(context, cl.mem_flags.WRITE_ONLY, imagen_out_np.nbytes)\n",
        "\n",
        "\n",
        "    # Argumentos del kernel\n",
        "    kernel_filter.set_arg(0, buffer_in)\n",
        "    kernel_filter.set_arg(1, buffer_out)\n",
        "    kernel_filter.set_arg(2, np.int32(3))\n",
        "    kernel_filter.set_arg(3, np.int32(imagen_np.shape[1]))\n",
        "    kernel_filter.set_arg(4, np.int32(imagen_np.shape[0]))\n",
        "\n",
        "    # Ejecutar el kernel\n",
        "    global_size = (tam_x, tam_y)\n",
        "    event = cl.enqueue_nd_range_kernel(command_queue, kernel_filter, global_size, local_size)\n",
        "    event.wait()\n",
        "\n",
        "    # Leer el buffer de salida\n",
        "    cl.enqueue_copy(command_queue, imagen_out_np, buffer_out)\n",
        "\n",
        "    # Obtener el tiempo de ejecución\n",
        "    exec_time = 1e-9 * (event.profile.end - event.profile.start)\n",
        "\n",
        "    # Guardar y mostrar la imagen resultante\n",
        "    imagen_resultante = Image.fromarray(imagen_out_np)\n",
        "    imagen_resultante.show()\n",
        "    #imagen_resultante.save(\"/content/drive/My Drive/Colab Notebooks/TFG_OPENCL/FILTROS IMAGENES/pirineos_filtro_median.png\")\n",
        "\n",
        "    return imagen_resultante, exec_time\n"
      ]
    },
    {
      "cell_type": "code",
      "execution_count": null,
      "metadata": {
        "colab": {
          "base_uri": "https://localhost:8080/"
        },
        "id": "I55DWfd4GAtv",
        "outputId": "70891c3b-bbc8-414d-c292-27c3c40f82b4"
      },
      "outputs": [
        {
          "output_type": "stream",
          "name": "stdout",
          "text": [
            "local_size: (1, 1), tiempo de ejecución: 0.22100033400000002\n",
            "local_size: (2, 2), tiempo de ejecución: 0.237080702\n",
            "local_size: (4, 4), tiempo de ejecución: 0.22843216000000002\n",
            "local_size: (8, 8), tiempo de ejecución: 0.24456481600000002\n",
            "local_size: (16, 16), tiempo de ejecución: 0.245580013\n",
            "local_size: (16, 8), tiempo de ejecución: 0.242636536\n",
            "local_size: (8, 16), tiempo de ejecución: 0.24519632900000002\n"
          ]
        }
      ],
      "source": [
        "\n",
        "def filtro_median():\n",
        "    device_type = cl.device_type.CPU\n",
        "    image_path = \"/content/drive/My Drive/Colab Notebooks/TFG_OPENCL/FILTROS IMAGENES/IMAGENES/pirineos_imagen.png\"\n",
        "\n",
        "    # Definir las combinaciones de local_size, incluyendo (1,1), (2,2), (4,4), (8,8), (16,16)\n",
        "    local_sizes = [(1, 1), (2, 2), (4, 4), (8, 8), (16, 16), (16, 8), (8, 16)]\n",
        "\n",
        "    # Crear columnas para el DataFrame\n",
        "    columns = [f\"({ls[0]}/{ls[1]})\" for ls in local_sizes]\n",
        "    results_df = pd.DataFrame(index=['Imagen Pirineos'], columns=columns)\n",
        "\n",
        "    # Probar cada local_size y medir el tiempo de ejecución\n",
        "    for local_size in local_sizes:\n",
        "        imagen_resultante, exec_time = aplicar_filtro_color_median(image_path, kernel_median, \"kernel_median\", device_type, local_size)\n",
        "\n",
        "        # Asignar el tiempo de ejecución al DataFrame\n",
        "        results_df.loc['Imagen Pirineos', f\"({local_size[0]}/{local_size[1]})\"] = exec_time if exec_time is not None else \"NP\"\n",
        "        print(f\"local_size: {local_size}, tiempo de ejecución: {exec_time}\")\n",
        "\n",
        "    # Guardar los resultados en un archivo CSV\n",
        "    results_df.to_csv('/content/drive/My Drive/Colab Notebooks/TFG_OPENCL/FILTROS IMAGENES/Filtros_median_CPU.csv', index=True)\n",
        "\n",
        "filtro_median()\n"
      ]
    }
  ],
  "metadata": {
    "colab": {
      "provenance": [],
      "authorship_tag": "ABX9TyPbaEi9bHGR63blFlyAIvXS",
      "include_colab_link": true
    },
    "kernelspec": {
      "display_name": "Python 3",
      "name": "python3"
    },
    "language_info": {
      "name": "python"
    }
  },
  "nbformat": 4,
  "nbformat_minor": 0
}