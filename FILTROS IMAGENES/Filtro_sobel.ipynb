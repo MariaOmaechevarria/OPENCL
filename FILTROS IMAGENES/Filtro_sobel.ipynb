{
  "nbformat": 4,
  "nbformat_minor": 0,
  "metadata": {
    "colab": {
      "provenance": [],
      "authorship_tag": "ABX9TyParqbVTs1svW6+X+PnVZjk",
      "include_colab_link": true
    },
    "kernelspec": {
      "name": "python3",
      "display_name": "Python 3"
    },
    "language_info": {
      "name": "python"
    }
  },
  "cells": [
    {
      "cell_type": "markdown",
      "metadata": {
        "id": "view-in-github",
        "colab_type": "text"
      },
      "source": [
        "<a href=\"https://colab.research.google.com/github/MariaOmaechevarria/OPENCL/blob/main/FILTROS%20IMAGENES/Filtro_sobel.ipynb\" target=\"_parent\"><img src=\"https://colab.research.google.com/assets/colab-badge.svg\" alt=\"Open In Colab\"/></a>"
      ]
    },
    {
      "cell_type": "code",
      "execution_count": null,
      "metadata": {
        "id": "-H4Gr370AqWk"
      },
      "outputs": [],
      "source": [
        "!sudo apt update\n",
        "!sudo apt purge *nvidia* -y\n",
        "!sudo apt install nvidia-driver-530 -y\n",
        "\n",
        "\n",
        "!pip install pyopencl\n",
        "!apt-get install -y pocl-opencl-icd ocl-icd-libopencl1"
      ]
    },
    {
      "cell_type": "code",
      "source": [
        "import pyopencl as cl\n",
        "import numpy as np\n",
        "import pandas as pd\n",
        "from google.colab import drive\n",
        "drive.mount('/content/drive')\n",
        "\n",
        "from PIL import Image, ImageFilter"
      ],
      "metadata": {
        "id": "cGVOoXUIAsEn"
      },
      "execution_count": null,
      "outputs": []
    },
    {
      "cell_type": "code",
      "source": [
        "kernel_filter_color_sobel=\"\"\"\n",
        "__kernel void kernel_filter_color_sobel(__global uchar* imagen_in,__global uchar* imagen_out,__constant float* filtro_X,__constant float* filtro_Y,int dim,int ancho,int alto){\n",
        "\n",
        "  int fila = get_global_id(0);\n",
        "  int columna = get_global_id(1);\n",
        "\n",
        "  int centro=(dim-1)/2;\n",
        "\n",
        "  float suma_rojo_X=0.0f;\n",
        "  float suma_verde_X=0.0f;\n",
        "  float suma_azul_X=0.0f;\n",
        "  float suma_rojo_Y=0.0;\n",
        "  float suma_verde_Y=0.0f;\n",
        "  float suma_azul_Y=0.0f;\n",
        "\n",
        "  float T_red=0.0f;\n",
        "  float T_green=0.0f;\n",
        "  float T_blue=0.0f;\n",
        "\n",
        "  int i,j;\n",
        "\n",
        "  //Asegurarse de que el píxel esté dentro de los límites\n",
        "\n",
        "   if (centro <= fila && fila < (alto - centro) && centro <= columna && columna < (ancho - centro)) {\n",
        "\n",
        "       for(i=-centro;i<=centro;i++){\n",
        "\n",
        "            for(j=-centro;j<=centro;j++){\n",
        "\n",
        "                // Para acceder al valor del pixel\n",
        "\n",
        "                int idx = ((fila + i) * ancho + (columna + j)) * 3;\n",
        "\n",
        "                float pixel_rojo = imagen_in[idx];\n",
        "                float pixel_verde = imagen_in[idx + 1];\n",
        "                float pixel_azul = imagen_in[idx + 2];\n",
        "\n",
        "                float valor_filtro_X = filtro_X[(i + centro) * dim + (j + centro)];\n",
        "                float valor_filtro_Y = filtro_Y[(i + centro) * dim + (j + centro)];\n",
        "\n",
        "                suma_rojo_X += pixel_rojo * valor_filtro_X;\n",
        "                suma_verde_X += pixel_verde * valor_filtro_X;\n",
        "                suma_azul_X += pixel_azul * valor_filtro_X;\n",
        "\n",
        "                suma_rojo_Y += pixel_rojo * valor_filtro_Y;\n",
        "                suma_verde_Y += pixel_verde * valor_filtro_Y;\n",
        "                suma_azul_Y += pixel_azul * valor_filtro_Y;\n",
        "\n",
        "                }\n",
        "        }\n",
        "\n",
        "        T_red = sqrt(suma_rojo_X * suma_rojo_X + suma_rojo_Y * suma_rojo_Y);\n",
        "        T_green = sqrt(suma_verde_X * suma_verde_X + suma_verde_Y * suma_verde_Y);\n",
        "        T_blue = sqrt(suma_azul_X * suma_azul_X + suma_azul_Y * suma_azul_Y);\n",
        "\n",
        "\n",
        "\n",
        "\n",
        "        int idx_out = (fila * ancho + columna) * 3;\n",
        "        imagen_out[idx_out] = (uchar)T_red;\n",
        "        imagen_out[idx_out + 1] = (uchar)T_green;\n",
        "        imagen_out[idx_out + 2] = (uchar)T_blue;\n",
        "\n",
        "    }\n",
        "\n",
        "    else {\n",
        "        int idx_out = (fila * ancho + columna) * 3;\n",
        "        imagen_out[idx_out] = imagen_in[idx_out];\n",
        "        imagen_out[idx_out + 1] = imagen_in[idx_out + 1];\n",
        "        imagen_out[idx_out + 2] = imagen_in[idx_out + 2];\n",
        "    }\n",
        "}\n",
        "\"\"\""
      ],
      "metadata": {
        "id": "AC6JLB-xAt7W"
      },
      "execution_count": null,
      "outputs": []
    },
    {
      "cell_type": "code",
      "source": [
        "def importar_imagen(path):\n",
        "  imagen = Image.open(path)\n",
        "  return imagen"
      ],
      "metadata": {
        "id": "hncy9_qHA13G"
      },
      "execution_count": null,
      "outputs": []
    },
    {
      "cell_type": "code",
      "source": [
        "def aplicar_filtro_color_sobel(image_path, filtroX,filtroY, kernel_code, kernel_name, device_type, local_size):\n",
        "    # Importar imagen\n",
        "    imagen = importar_imagen(image_path)\n",
        "\n",
        "    # Convertirla a un array de tres canales\n",
        "    imagen_np = np.array(imagen).astype(np.uint8)\n",
        "\n",
        "    # Dimensiones de la imagen\n",
        "    tam_x, tam_y,_= imagen_np.shape\n",
        "\n",
        "    # Crear array para la imagen final\n",
        "    imagen_out_np = np.empty_like(imagen_np)\n",
        "\n",
        "    # Plataforma y dispositivo\n",
        "    platform = cl.get_platforms()[0]\n",
        "    device = platform.get_devices(device_type=device_type)[0]\n",
        "\n",
        "    # Crear contexto y cola de comandos\n",
        "    context = cl.Context([device])\n",
        "    command_queue = cl.CommandQueue(context, device=device, properties=cl.command_queue_properties.PROFILING_ENABLE)\n",
        "\n",
        "    # Crear el programa y compilarlo\n",
        "    program = cl.Program(context, kernel_code).build()\n",
        "\n",
        "    # Crear el kernel\n",
        "    kernel_filter = cl.Kernel(program, kernel_name)\n",
        "\n",
        "    # Obtener el tamaño máximo del grupo de trabajo\n",
        "    wg_size = kernel_filter.get_work_group_info(cl.kernel_work_group_info.WORK_GROUP_SIZE, device)\n",
        "\n",
        "    print(f\"Tamaño máximo del grupo de trabajo: {wg_size}\")\n",
        "\n",
        "    # Crear buffers de imagen\n",
        "    buffer_in = cl.Buffer(context, cl.mem_flags.READ_ONLY | cl.mem_flags.COPY_HOST_PTR, hostbuf=imagen_np)\n",
        "    buffer_out = cl.Buffer(context, cl.mem_flags.WRITE_ONLY, imagen_out_np.nbytes)\n",
        "\n",
        "    # Crear buffer para el filtro\n",
        "    filtro_buf_X = cl.Buffer(context, cl.mem_flags.READ_ONLY | cl.mem_flags.COPY_HOST_PTR, hostbuf=filtroX)\n",
        "    filtro_buf_Y = cl.Buffer(context, cl.mem_flags.READ_ONLY | cl.mem_flags.COPY_HOST_PTR, hostbuf=filtroY)\n",
        "\n",
        "    # Argumentos del kernel\n",
        "    kernel_filter.set_arg(0, buffer_in)\n",
        "    kernel_filter.set_arg(1, buffer_out)\n",
        "    kernel_filter.set_arg(2, filtro_buf_X)\n",
        "    kernel_filter.set_arg(3, filtro_buf_Y)\n",
        "    kernel_filter.set_arg(4, np.int32(filtroX.shape[0]))\n",
        "    kernel_filter.set_arg(5, np.int32(imagen_np.shape[1]))\n",
        "    kernel_filter.set_arg(6, np.int32(imagen_np.shape[0]))\n",
        "\n",
        "    # Ejecutar el kernel\n",
        "    global_size = (tam_x, tam_y)\n",
        "    event = cl.enqueue_nd_range_kernel(command_queue, kernel_filter, global_size, local_size)\n",
        "    event.wait()\n",
        "\n",
        "    # Leer el buffer de salida\n",
        "    cl.enqueue_copy(command_queue, imagen_out_np, buffer_out)\n",
        "\n",
        "    # Obtener el tiempo de ejecución\n",
        "    exec_time = 1e-9 * (event.profile.end - event.profile.start)\n",
        "\n",
        "    # Guardar y mostrar la imagen resultante\n",
        "    imagen_resultante = Image.fromarray(imagen_out_np)\n",
        "    imagen_resultante.show()\n",
        "    #imagen_resultante.save(\"/content/drive/My Drive/Colab Notebooks/TFG_OPENCL/FILTROS IMAGENES/perrete_sobel.png\")\n",
        "\n",
        "    return imagen_resultante, exec_time\n"
      ],
      "metadata": {
        "id": "1tGCPX00A6Zi"
      },
      "execution_count": null,
      "outputs": []
    },
    {
      "cell_type": "code",
      "source": [
        "#FILTRO SOBEL: DETECTA BORDES\n",
        "\n",
        "filtro_sobel_X=np.array([\n",
        "    [1, 0, -1],\n",
        "    [2, 0, -2],\n",
        "    [1, 0, -1]\n",
        "], dtype=np.float32)\n",
        "\n",
        "filtro_sobel_Y=np.array([\n",
        "    [-1, 0, 1],\n",
        "    [-2, 0, 2],\n",
        "    [-1, 0, 1]\n",
        "], dtype=np.float32)\n"
      ],
      "metadata": {
        "id": "6zxpzpS_A-U7"
      },
      "execution_count": null,
      "outputs": []
    },
    {
      "cell_type": "code",
      "source": [
        "def filtro_sobel():\n",
        "    device_type = cl.device_type.CPU\n",
        "    image_path = \"/content/drive/My Drive/Colab Notebooks/TFG_OPENCL/FILTROS IMAGENES/IMAGENES/pirineos_imagen.png\"\n",
        "\n",
        "    # Definir las combinaciones de local_size, incluyendo (1,1), (2,2), (4,4) y (8,8)\n",
        "    local_sizes = [(1, 1), (2, 2), (4, 4), (8, 8), (16, 16), (16, 8), (15, 16)]\n",
        "\n",
        "    # Crear columnas para el DataFrame\n",
        "    columns = [f\"({ls[0]}/{ls[1]})\" for ls in local_sizes]\n",
        "    results_df = pd.DataFrame(index=['Imagen Pirineos'], columns=columns)\n",
        "\n",
        "    # Probar cada local_size y medir el tiempo de ejecución\n",
        "    for local_size in local_sizes:\n",
        "        imagen_resultante, exec_time = aplicar_filtro_color_sobel(image_path, filtro_sobel_X, filtro_sobel_Y, kernel_filter_color_sobel, \"kernel_filter_color_sobel\", device_type, local_size)\n",
        "\n",
        "        # Asignar el tiempo de ejecución al DataFrame\n",
        "        results_df.loc['Imagen Pirineos', f\"({local_size[0]}/{local_size[1]})\"] = exec_time if exec_time is not None else \"NP\"\n",
        "        print(f\"local_size: {local_size}, tiempo de ejecución: {exec_time}\")\n",
        "\n",
        "    # Guardar los resultados en un archivo CSV\n",
        "    results_df.to_csv('/content/drive/My Drive/Colab Notebooks/TFG_OPENCL/FILTROS IMAGENES/Filtros_sobel_CPU.csv', index=True)\n",
        "\n",
        "filtro_sobel()\n"
      ],
      "metadata": {
        "id": "7ShJ4fYlBCJG"
      },
      "execution_count": null,
      "outputs": []
    }
  ]
}