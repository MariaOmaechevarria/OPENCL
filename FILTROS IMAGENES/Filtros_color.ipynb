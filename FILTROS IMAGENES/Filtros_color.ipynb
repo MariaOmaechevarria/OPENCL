{
  "nbformat": 4,
  "nbformat_minor": 0,
  "metadata": {
    "colab": {
      "provenance": [],
      "gpuType": "T4",
      "include_colab_link": true
    },
    "kernelspec": {
      "name": "python3",
      "display_name": "Python 3"
    },
    "language_info": {
      "name": "python"
    },
    "accelerator": "GPU"
  },
  "cells": [
    {
      "cell_type": "markdown",
      "metadata": {
        "id": "view-in-github",
        "colab_type": "text"
      },
      "source": [
        "<a href=\"https://colab.research.google.com/github/MariaOmaechevarria/OPENCL/blob/main/FILTROS%20IMAGENES/Filtros_color.ipynb\" target=\"_parent\"><img src=\"https://colab.research.google.com/assets/colab-badge.svg\" alt=\"Open In Colab\"/></a>"
      ]
    },
    {
      "cell_type": "code",
      "execution_count": null,
      "metadata": {
        "collapsed": true,
        "id": "B8LqxMxOVcX6"
      },
      "outputs": [],
      "source": [
        "!sudo apt update\n",
        "!sudo apt purge *nvidia* -y\n",
        "!sudo apt install nvidia-driver-530 -y\n",
        "\n",
        "\n",
        "!pip install pyopencl\n",
        "!apt-get install -y pocl-opencl-icd ocl-icd-libopencl1"
      ]
    },
    {
      "cell_type": "code",
      "source": [
        "import pyopencl as cl\n",
        "import numpy as np\n",
        "import pandas as pd\n",
        "from google.colab import drive\n",
        "drive.mount('/content/drive')\n",
        "\n",
        "from PIL import Image, ImageFilter"
      ],
      "metadata": {
        "colab": {
          "base_uri": "https://localhost:8080/"
        },
        "id": "2wCTawbNWQ8p",
        "outputId": "b9780181-5e3b-4791-8817-26346073ba55"
      },
      "execution_count": null,
      "outputs": [
        {
          "output_type": "stream",
          "name": "stderr",
          "text": [
            "/usr/local/lib/python3.10/dist-packages/pytools/persistent_dict.py:63: RecommendedHashNotFoundWarning: Unable to import recommended hash 'siphash24.siphash13', falling back to 'hashlib.sha256'. Run 'python3 -m pip install siphash24' to install the recommended hash.\n",
            "  warn(\"Unable to import recommended hash 'siphash24.siphash13', \"\n"
          ]
        },
        {
          "output_type": "stream",
          "name": "stdout",
          "text": [
            "Mounted at /content/drive\n"
          ]
        }
      ]
    },
    {
      "cell_type": "code",
      "source": [
        "kernel_filter_color=\"\"\"\n",
        "__kernel void kernel_filter_color(__global uchar* imagen_in,__global uchar* imagen_out,__constant float* filtro,int dim,int ancho,int alto){\n",
        "\n",
        "  int fila = get_global_id(0);\n",
        "  int columna = get_global_id(1);\n",
        "\n",
        "  int centro=(dim-1)/2;\n",
        "\n",
        "  float suma_rojo=0.0f;\n",
        "  float suma_verde=0.0f;\n",
        "  float suma_azul=0.0f;\n",
        "\n",
        "  int i,j;\n",
        "\n",
        "  //Asegurarse de que el píxel esté dentro de los límites\n",
        "\n",
        "   if (centro <= fila && fila < (alto - centro) && centro <= columna && columna < (ancho - centro)) {\n",
        "\n",
        "       for(i=-centro;i<=centro;i++){\n",
        "\n",
        "            for(j=-centro;j<=centro;j++){\n",
        "\n",
        "                // Para acceder al valor del pixel\n",
        "\n",
        "                int idx = ((fila + i) * ancho + (columna + j)) * 3;\n",
        "\n",
        "                float pixel_rojo = imagen_in[idx];\n",
        "                float pixel_verde = imagen_in[idx + 1];\n",
        "                float pixel_azul = imagen_in[idx + 2];\n",
        "\n",
        "                float valor_filtro = filtro[(i + centro) * dim + (j + centro)];\n",
        "\n",
        "                suma_rojo += pixel_rojo * valor_filtro;\n",
        "                suma_verde += pixel_verde * valor_filtro;\n",
        "                suma_azul += pixel_azul * valor_filtro;\n",
        "\n",
        "\n",
        "                }\n",
        "        }\n",
        "        int idx_out = (fila * ancho + columna) * 3;\n",
        "        imagen_out[idx_out] = (uchar)suma_rojo;\n",
        "        imagen_out[idx_out + 1] = (uchar)suma_verde;\n",
        "        imagen_out[idx_out + 2] = (uchar)suma_azul;\n",
        "\n",
        "    }\n",
        "\n",
        "    else {\n",
        "        int idx_out = (fila * ancho + columna) * 3;\n",
        "        imagen_out[idx_out] = imagen_in[idx_out];\n",
        "        imagen_out[idx_out + 1] = imagen_in[idx_out + 1];\n",
        "        imagen_out[idx_out + 2] = imagen_in[idx_out + 2];\n",
        "    }\n",
        "}\n",
        "\"\"\""
      ],
      "metadata": {
        "id": "RPhBl8XsWT0a"
      },
      "execution_count": null,
      "outputs": []
    },
    {
      "cell_type": "code",
      "source": [
        "def importar_imagen(path):\n",
        "  imagen = Image.open(path)\n",
        "  return imagen"
      ],
      "metadata": {
        "id": "6GdYDo3-YB_N"
      },
      "execution_count": null,
      "outputs": []
    },
    {
      "cell_type": "code",
      "source": [
        "def aplicar_filtro_color(image_path, filtro, kernel_code, kernel_name, device_type, local_size):\n",
        "    # Importar imagen\n",
        "    imagen = importar_imagen(image_path)\n",
        "\n",
        "    # Convertirla a un array de tres canales\n",
        "    imagen_np = np.array(imagen).astype(np.uint8)\n",
        "\n",
        "    # Dimensiones de la imagen\n",
        "    tam_x, tam_y, _ = imagen_np.shape\n",
        "    print(tam_x,tam_y)\n",
        "\n",
        "    # Crear array para la imagen final\n",
        "    imagen_out_np = np.empty_like(imagen_np)\n",
        "\n",
        "    # Plataforma y dispositivo\n",
        "    platform = cl.get_platforms()[0]\n",
        "    device = platform.get_devices(device_type=device_type)[0]\n",
        "\n",
        "    # Crear contexto y cola de comandos\n",
        "    context = cl.Context([device])\n",
        "    command_queue = cl.CommandQueue(context, device=device, properties=cl.command_queue_properties.PROFILING_ENABLE)\n",
        "\n",
        "    # Crear el programa y compilarlo\n",
        "    program = cl.Program(context, kernel_code).build()\n",
        "\n",
        "    # Crear el kernel\n",
        "    kernel_filter = cl.Kernel(program, kernel_name)\n",
        "\n",
        "    # Obtener el tamaño máximo del grupo de trabajo\n",
        "    wg_size = kernel_filter.get_work_group_info(cl.kernel_work_group_info.WORK_GROUP_SIZE, device)\n",
        "    print(f\"Tamaño máximo del grupo de trabajo: {wg_size}\")\n",
        "\n",
        "    # Crear buffers de imagen\n",
        "    buffer_in = cl.Buffer(context, cl.mem_flags.READ_ONLY | cl.mem_flags.COPY_HOST_PTR, hostbuf=imagen_np)\n",
        "    buffer_out = cl.Buffer(context, cl.mem_flags.WRITE_ONLY, imagen_out_np.nbytes)\n",
        "\n",
        "    # Crear buffer para el filtro\n",
        "    filtro_buf = cl.Buffer(context, cl.mem_flags.READ_ONLY | cl.mem_flags.COPY_HOST_PTR, hostbuf=filtro)\n",
        "\n",
        "    # Argumentos del kernel\n",
        "    kernel_filter.set_arg(0, buffer_in)\n",
        "    kernel_filter.set_arg(1, buffer_out)\n",
        "    kernel_filter.set_arg(2, filtro_buf)\n",
        "    kernel_filter.set_arg(3, np.int32(filtro.shape[0]))\n",
        "    kernel_filter.set_arg(4, np.int32(imagen_np.shape[1]))\n",
        "    kernel_filter.set_arg(5, np.int32(imagen_np.shape[0]))\n",
        "\n",
        "    # Ejecutar el kernel\n",
        "    global_size = (tam_x, tam_y)\n",
        "    event = cl.enqueue_nd_range_kernel(command_queue, kernel_filter, global_size, local_size)\n",
        "    event.wait()\n",
        "\n",
        "    # Leer el buffer de salida\n",
        "    cl.enqueue_copy(command_queue, imagen_out_np, buffer_out)\n",
        "\n",
        "    # Obtener el tiempo de ejecución\n",
        "    exec_time = 1e-9 * (event.profile.end - event.profile.start)\n",
        "\n",
        "    # Guardar y mostrar la imagen resultante\n",
        "    imagen_resultante = Image.fromarray(imagen_out_np)\n",
        "    imagen_resultante.show()\n",
        "    #imagen_resultante.save(\"/content/drive/My Drive/Colab Notebooks/TFG_OPENCL/FILTROS IMAGENES/pirineos_filtro_color.png\")\n",
        "\n",
        "    return imagen_resultante, exec_time\n"
      ],
      "metadata": {
        "id": "WdUnyDb-X0Q4"
      },
      "execution_count": null,
      "outputs": []
    },
    {
      "cell_type": "markdown",
      "source": [
        "EJEMPLOS FILTROS"
      ],
      "metadata": {
        "id": "lZ_yVAaCaqAl"
      }
    },
    {
      "cell_type": "code",
      "source": [
        "#SUAVIZAR LA IMAGEN\n",
        "filtro_mean=np.array([\n",
        "    [1/9, 1/9, 1/9],\n",
        "    [1/9, 1/9, 1/9],\n",
        "    [1/9, 1/9, 1/9]\n",
        "], dtype=np.float32)\n",
        "\n",
        "#SUAVIZAR IMAGEN,ELIMINA LOS VALORES DE ALTAS FRECUENCIAS\n",
        "filtro_gaussiani=np.array([\n",
        "    [1/16, 2/16, 1/16],\n",
        "    [2/16, 4/16, 2/16],\n",
        "    [1/16, 2/16, 1/16]\n",
        "], dtype=np.float32)\n",
        "\n",
        "#ENFOCA\n",
        "filtro_enfoque=np.array([\n",
        "    [0, -1, 0],\n",
        "    [-1, 5, 1],\n",
        "    [0, -1, 0]\n",
        "], dtype=np.float32)\n",
        "\n",
        "#DESENFOCA\n",
        "filtro_desenfoque=np.array([\n",
        "    [1, 1, 1],\n",
        "    [1, 1, 1],\n",
        "    [1, 1, 1]\n",
        "], dtype=np.float32)\n",
        "\n",
        "#FILTRO SOBEL: DETECTA BORDES\n",
        "\n",
        "filtro_sobel_X=np.array([\n",
        "    [1, 0, -1],\n",
        "    [2, 0, -2],\n",
        "    [1, 0, -1]\n",
        "], dtype=np.float32)\n",
        "\n",
        "filtro_sobel_Y=np.array([\n",
        "    [-1, 0, 1],\n",
        "    [-2, 0, 2],\n",
        "    [-1, 0, 1]\n",
        "], dtype=np.float32)\n",
        "\n",
        "\n"
      ],
      "metadata": {
        "id": "x6VD5j3HYEtP"
      },
      "execution_count": null,
      "outputs": []
    },
    {
      "cell_type": "markdown",
      "source": [
        "EJEMPLO FILTRO MEDIO"
      ],
      "metadata": {
        "id": "HQga-cdWafaN"
      }
    },
    {
      "cell_type": "code",
      "source": [
        "\n",
        "def filtro_medio():\n",
        "    device_type = cl.device_type.CPU\n",
        "    image_path = \"/content/drive/My Drive/Colab Notebooks/TFG_OPENCL/FILTROS IMAGENES/IMAGENES/pirineos_imagen.png\"\n",
        "\n",
        "    # Definir las combinaciones de local_size\n",
        "    local_sizes = [(1, 1), (2, 2), (4, 4), (8, 8), (16, 16), (16, 8), (8, 16)]\n",
        "\n",
        "    # Crear columnas para el DataFrame\n",
        "    columns = [f\"({ls[0]}/{ls[1]})\" for ls in local_sizes]\n",
        "    results_df = pd.DataFrame(index=['Imagen Pirineos'], columns=columns)\n",
        "\n",
        "    # Probar cada local_size y medir el tiempo de ejecución\n",
        "    for local_size in local_sizes:\n",
        "        imagen_resultante, exec_time = aplicar_filtro_color(image_path, filtro_mean, kernel_filter_color, \"kernel_filter_color\", device_type, local_size)\n",
        "\n",
        "        # Asignar el tiempo de ejecución al DataFrame\n",
        "        results_df.loc['Imagen Pirineos', f\"({local_size[0]}/{local_size[1]})\"] = exec_time if exec_time is not None else \"NP\"\n",
        "        print(f\"local_size: {local_size}, tiempo de ejecución: {exec_time}\")\n",
        "\n",
        "    # Guardar los resultados en un archivo CSV\n",
        "    results_df.to_csv('/content/drive/My Drive/Colab Notebooks/TFG_OPENCL/FILTROS IMAGENES/Filtros_mean_CPU.csv', index=True)\n",
        "\n",
        "filtro_medio()\n",
        "\n"
      ],
      "metadata": {
        "colab": {
          "base_uri": "https://localhost:8080/"
        },
        "id": "ZPag5yp_YILA",
        "outputId": "4b68ce4d-ff8c-46e4-d915-a33fa2d8de27",
        "collapsed": true
      },
      "execution_count": null,
      "outputs": [
        {
          "output_type": "stream",
          "name": "stdout",
          "text": [
            "720 1280\n",
            "Tamaño máximo del grupo de trabajo: 4096\n",
            "local_size: (1, 1), tiempo de ejecución: 0.038518261000000005\n",
            "720 1280\n",
            "Tamaño máximo del grupo de trabajo: 4096\n",
            "local_size: (2, 2), tiempo de ejecución: 0.05948868\n",
            "720 1280\n",
            "Tamaño máximo del grupo de trabajo: 4096\n",
            "local_size: (4, 4), tiempo de ejecución: 0.053109116000000005\n",
            "720 1280\n",
            "Tamaño máximo del grupo de trabajo: 4096\n",
            "local_size: (8, 8), tiempo de ejecución: 0.060783449\n",
            "720 1280\n",
            "Tamaño máximo del grupo de trabajo: 4096\n",
            "local_size: (16, 16), tiempo de ejecución: 0.050695037000000005\n",
            "720 1280\n",
            "Tamaño máximo del grupo de trabajo: 4096\n",
            "local_size: (16, 8), tiempo de ejecución: 0.041429994000000005\n",
            "720 1280\n",
            "Tamaño máximo del grupo de trabajo: 4096\n",
            "local_size: (8, 16), tiempo de ejecución: 0.025115865\n"
          ]
        }
      ]
    },
    {
      "cell_type": "markdown",
      "source": [
        "FILTRO GAUSSIANO"
      ],
      "metadata": {
        "id": "TFw18sbganwH"
      }
    },
    {
      "cell_type": "code",
      "source": [
        "def filtro_gaussian():\n",
        "    device_type = cl.device_type.CPU\n",
        "    image_path = \"/content/drive/My Drive/Colab Notebooks/TFG_OPENCL/FILTROS IMAGENES/IMAGENES/pirineos_imagen.png\"\n",
        "\n",
        "    # Definir las combinaciones de local_size\n",
        "    local_sizes = [(1, 1), (2, 2), (4, 4), (8, 8), (16, 16), (16, 8), (8, 16)]\n",
        "\n",
        "    # Crear columnas para el DataFrame\n",
        "    columns = [f\"({ls[0]}/{ls[1]})\" for ls in local_sizes]\n",
        "    results_df = pd.DataFrame(index=['Imagen Pirineos'], columns=columns)\n",
        "\n",
        "    # Probar cada local_size y medir el tiempo de ejecución\n",
        "    for local_size in local_sizes:\n",
        "        imagen_resultante, exec_time = aplicar_filtro_color(image_path, filtro_gaussiani, kernel_filter_color, \"kernel_filter_color\", device_type, local_size)\n",
        "\n",
        "        # Asignar el tiempo de ejecución al DataFrame\n",
        "        results_df.loc['Imagen Pirineos', f\"({local_size[0]}/{local_size[1]})\"] = exec_time if exec_time is not None else \"NP\"\n",
        "\n",
        "\n",
        "    # Guardar los resultados en un archivo CSV\n",
        "    results_df.to_csv('/content/drive/My Drive/Colab Notebooks/TFG_OPENCL/FILTROS IMAGENES/Filtros_gaussiano_CPU.csv', index=True)\n",
        "\n",
        "filtro_gaussian()"
      ],
      "metadata": {
        "colab": {
          "base_uri": "https://localhost:8080/"
        },
        "id": "hmWJ0WDvX9jt",
        "outputId": "96475c63-6bb6-4d34-dba6-d72633d2a47d",
        "collapsed": true
      },
      "execution_count": null,
      "outputs": [
        {
          "output_type": "stream",
          "name": "stdout",
          "text": [
            "720 1280\n",
            "Tamaño máximo del grupo de trabajo: 4096\n",
            "720 1280\n",
            "Tamaño máximo del grupo de trabajo: 4096\n",
            "720 1280\n",
            "Tamaño máximo del grupo de trabajo: 4096\n",
            "720 1280\n",
            "Tamaño máximo del grupo de trabajo: 4096\n",
            "720 1280\n",
            "Tamaño máximo del grupo de trabajo: 4096\n",
            "720 1280\n",
            "Tamaño máximo del grupo de trabajo: 4096\n",
            "720 1280\n",
            "Tamaño máximo del grupo de trabajo: 4096\n"
          ]
        }
      ]
    }
  ]
}