{
 "cells": [
  {
   "cell_type": "markdown",
   "metadata": {
    "id": "orwjS0MzS4-_"
   },
   "source": [
    "NECESARIO PARA EJECUTAR OPENCL"
   ]
  },
  {
   "cell_type": "code",
   "execution_count": 2,
   "metadata": {
    "id": "_mHbO-RxO64k"
   },
   "outputs": [
    {
     "name": "stdout",
     "output_type": "stream",
     "text": [
      "Requirement already satisfied: pyopencl in c:\\users\\eevee\\anaconda3\\lib\\site-packages (2024.2.7)\n",
      "Requirement already satisfied: numpy in c:\\users\\eevee\\anaconda3\\lib\\site-packages (from pyopencl) (1.26.4)\n",
      "Requirement already satisfied: platformdirs>=2.2.0 in c:\\users\\eevee\\anaconda3\\lib\\site-packages (from pyopencl) (3.10.0)\n",
      "Requirement already satisfied: pytools>=2024.1.5 in c:\\users\\eevee\\anaconda3\\lib\\site-packages (from pyopencl) (2024.1.14)\n",
      "Requirement already satisfied: typing-extensions>=4 in c:\\users\\eevee\\anaconda3\\lib\\site-packages (from pytools>=2024.1.5->pyopencl) (4.11.0)\n"
     ]
    }
   ],
   "source": [
    "\n",
    "\n",
    "\n",
    "!pip install pyopencl\n"
   ]
  },
  {
   "cell_type": "markdown",
   "metadata": {
    "id": "CxIKFNPZS8Oy"
   },
   "source": [
    "LIBRERIAS PARA IMPORTAR"
   ]
  },
  {
   "cell_type": "code",
   "execution_count": 4,
   "metadata": {
    "id": "fgVIz8oCPAvb"
   },
   "outputs": [
    {
     "name": "stderr",
     "output_type": "stream",
     "text": [
      "C:\\Users\\Eevee\\anaconda3\\Lib\\site-packages\\pytools\\persistent_dict.py:63: RecommendedHashNotFoundWarning: Unable to import recommended hash 'siphash24.siphash13', falling back to 'hashlib.sha256'. Run 'python3 -m pip install siphash24' to install the recommended hash.\n",
      "  warn(\"Unable to import recommended hash 'siphash24.siphash13', \"\n"
     ]
    }
   ],
   "source": [
    "import pyopencl as cl\n",
    "import numpy as np\n",
    "import pandas as pd\n",
    "from PIL import Image, ImageFilter"
   ]
  },
  {
   "cell_type": "markdown",
   "metadata": {
    "id": "nG602eHPS-y0"
   },
   "source": [
    "KERNEL FILTROS BLANCO Y NREGO"
   ]
  },
  {
   "cell_type": "code",
   "execution_count": 6,
   "metadata": {
    "colab": {
     "base_uri": "https://localhost:8080/",
     "height": 36
    },
    "id": "jTPDVc-RPEPH",
    "outputId": "19a13ed6-9235-4687-8c1e-c7b5ba1ea892"
   },
   "outputs": [
    {
     "data": {
      "text/plain": [
       "'{\"dataframes\": [], \"user\": \"Eevee\"}'"
      ]
     },
     "execution_count": 6,
     "metadata": {},
     "output_type": "execute_result"
    }
   ],
   "source": [
    "kernel_filter_black_white=\"\"\"\n",
    "__kernel void kernel_filter_black_white(__global uchar* imagen_in,__global uchar* imagen_out,__constant float* filtro,int dim,int ancho,int alto){\n",
    "\n",
    "  int fila = get_global_id(0);\n",
    "  int columna = get_global_id(1);\n",
    "\n",
    "  int centro=(dim-1)/2;\n",
    "  float suma=0.0f;\n",
    "  int i,j;\n",
    "\n",
    "  //Asegurarse de que el píxel esté dentro de los límites\n",
    "\n",
    "   if (centro <= fila && fila < (alto - centro) && centro <= columna && columna < (ancho - centro)) {\n",
    "\n",
    "       for(i=-centro;i<=centro;i++){\n",
    "\n",
    "            for(j=-centro;j<=centro;j++){\n",
    "\n",
    "               float pixel_value = imagen_in[(fila+i) * ancho + (columna+j)];\n",
    "\n",
    "                suma += pixel_value * filtro[(i + centro) * dim + (j + centro)];\n",
    "                }\n",
    "                }\n",
    "\n",
    "                imagen_out[fila * ancho + columna]=(uchar)suma;\n",
    "    }\n",
    "\n",
    "  else{\n",
    "    imagen_out[fila * ancho + columna]=imagen_in[fila * ancho + columna];\n",
    "  }\n",
    "\n",
    "}\n",
    "\n",
    "\"\"\"\n",
    "\n",
    "_"
   ]
  },
  {
   "cell_type": "markdown",
   "metadata": {
    "id": "7xVbVcq2TC4r"
   },
   "source": [
    "IMPORTAR IMAGENES"
   ]
  },
  {
   "cell_type": "code",
   "execution_count": 8,
   "metadata": {
    "id": "kPLdCEeFW-Um"
   },
   "outputs": [],
   "source": [
    "def importar_imagen(path):\n",
    "  imagen = Image.open(path)\n",
    "  imagen = imagen.convert(\"L\")\n",
    "  return imagen"
   ]
  },
  {
   "cell_type": "markdown",
   "metadata": {
    "id": "27uXrteSTE8t"
   },
   "source": [
    "FUNCION PARA APLICAR FILTRO BLANCO Y NEGRO(HAY QUE DARLE LOS FILTROS)"
   ]
  },
  {
   "cell_type": "code",
   "execution_count": 12,
   "metadata": {
    "id": "nJpUw0KtVVlX"
   },
   "outputs": [],
   "source": [
    "def aplicar_filtro(image_path,filtro,kernel_code,kernel_name,device_type,local_size):\n",
    "\n",
    "  #Importar imagen\n",
    "  imagen=importar_imagen(image_path)\n",
    "\n",
    "  #Convertirla a un array\n",
    "  imagen_np = np.array(imagen).astype(np.uint8)\n",
    "\n",
    "  #Dimensiones matriz\n",
    "  tam_x=imagen_np.shape[0]\n",
    "  tam_y=imagen_np.shape[1]\n",
    "\n",
    "  #Crear array imagen final\n",
    "  imagen_out_np = np.empty_like(imagen_np)\n",
    "\n",
    "\n",
    "  # Plataforma\n",
    "  platform = cl.get_platforms()[0]\n",
    "\n",
    "  # Dispositivo (GPU)\n",
    "  device = platform.get_devices(device_type=device_type)[0]\n",
    "\n",
    "  # Crear contexto con el dispositivo seleccionado\n",
    "  context = cl.Context([device])\n",
    "\n",
    "  # Crear una cola de comandos\n",
    "  command_queue = cl.CommandQueue(context, device=device, properties=cl.command_queue_properties.PROFILING_ENABLE)\n",
    "\n",
    "  # Crear el programa y compilarlo\n",
    "  program = cl.Program(context, kernel_code)\n",
    "  try:\n",
    "       program.build()\n",
    "  except Exception as e:\n",
    "    print(\"Build log:\")\n",
    "    print(program.get_build_info(device, cl.program_build_info.LOG))\n",
    "    raise e\n",
    "\n",
    "  # Crear el kernel\n",
    "  kernel_filter = cl.Kernel(program, kernel_name)\n",
    "\n",
    "\n",
    "  # Definir el formato de la imagen (usaremos canales escala de grises en este ejemplo)\n",
    "\n",
    "  image_format = cl.ImageFormat(cl.channel_order.LUMINANCE, cl.channel_type.UNSIGNED_INT8) #Changed channel_order to LUMINANCE for grayscale\n",
    "\n",
    "  #Crear buffers imagen\n",
    "  #image_in = cl.Image(context, cl.mem_flags.READ_ONLY | cl.mem_flags.COPY_HOST_PTR, image_format, (tam_y, tam_x), None, imagen_np)\n",
    "  #image_out = cl.Image(context, cl.mem_flags.WRITE_ONLY, image_format, (tam_y, tam_x))\n",
    "\n",
    "  # Crear buffers de imagen\n",
    "  image_in = cl.Buffer(context, cl.mem_flags.READ_ONLY | cl.mem_flags.COPY_HOST_PTR, hostbuf=imagen_np)\n",
    "  image_out = cl.Buffer(context, cl.mem_flags.WRITE_ONLY, imagen_out_np.nbytes)\n",
    "\n",
    "    # Crear buffer para el filtro\n",
    "\n",
    "\n",
    "  # Create buffer for filter\n",
    "  filtro_buf = cl.Buffer(context, cl.mem_flags.READ_ONLY | cl.mem_flags.COPY_HOST_PTR, hostbuf=filtro)\n",
    "\n",
    "  # Argumentos del kernel\n",
    "\n",
    "  kernel_filter.set_arg(0, image_in)\n",
    "  kernel_filter.set_arg(1, image_out)\n",
    "  kernel_filter.set_arg(2, filtro_buf)\n",
    "  kernel_filter.set_arg(3, np.int32(filtro.shape[0]))\n",
    "  kernel_filter.set_arg(4, np.int32(imagen_np.shape[1]))\n",
    "  kernel_filter.set_arg(5, np.int32(imagen_np.shape[0]))\n",
    "\n",
    "  # Ejecutar el kernel y registrar el evento\n",
    "  global_size = (tam_x, tam_y)  # Tamaño global\n",
    "  event = cl.enqueue_nd_range_kernel(command_queue, kernel_filter, global_size, local_size)\n",
    "\n",
    "  # Esperar a que se complete el evento\n",
    "  event.wait()\n",
    "\n",
    "  # Obtener el tiempo de ejecución en nanosegundos\n",
    "  exec_time = 1e-9 * (event.profile.end - event.profile.start)\n",
    "\n",
    "  #Leer imagen\n",
    "  cl.enqueue_copy(command_queue, imagen_out_np, image_out)\n",
    "\n",
    "\n",
    "\n",
    "  #Cargar la imagen\n",
    "\n",
    "  imagen_resultante = Image.fromarray(imagen_out_np)\n",
    "  imagen_resultante.show()\n",
    "  imagen_resultante.save(\"C:/Users/Eevee/Documents/OPENCL_TFG/FILTROS IMAGENES/pirineos_filtro_byn.png\")\n",
    "\n",
    "\n",
    "  return imagen_resultante,exec_time\n",
    "\n",
    "\n",
    "\n",
    "\n",
    "\n"
   ]
  },
  {
   "cell_type": "markdown",
   "metadata": {
    "id": "ekhMwScSTL97"
   },
   "source": [
    "EJEMPLOS FILTROS"
   ]
  },
  {
   "cell_type": "code",
   "execution_count": 14,
   "metadata": {
    "id": "I77MS59BTSpo"
   },
   "outputs": [],
   "source": [
    "filtro_mean=np.array([\n",
    "    [1/9, 1/9, 1/9],\n",
    "    [1/9, 1/9, 1/9],\n",
    "    [1/9, 1/9, 1/9]\n",
    "], dtype=np.float32)\n",
    "\n",
    "filtro_gaussiano=np.array([\n",
    "    [1/16, 2/16, 1/16],\n",
    "    [2/16, 4/16, 2/16],\n",
    "    [1/16, 2/16, 1/16]\n",
    "], dtype=np.float32)\n"
   ]
  },
  {
   "cell_type": "markdown",
   "metadata": {
    "id": "691UovIoUWKK"
   },
   "source": [
    "EJEMPLO MEAN FILTER"
   ]
  },
  {
   "cell_type": "code",
   "execution_count": 19,
   "metadata": {
    "colab": {
     "base_uri": "https://localhost:8080/"
    },
    "id": "gOEQcTPwbjRe",
    "outputId": "eed82b93-1360-4ee2-b034-4c0a4e511c67"
   },
   "outputs": [
    {
     "name": "stdout",
     "output_type": "stream",
     "text": [
      "4.8032000000000004e-05\n"
     ]
    }
   ],
   "source": [
    "PYOPENCL_COMPILER_OUTPUT=1\n",
    "device_type = cl.device_type.GPU\n",
    "local_size=(16,16)\n",
    "image_path=\"C:/Users/Eevee/Documents/OPENCL_TFG/FILTROS IMAGENES/pirineos_imagen.png\"\n",
    "imagen_resultante,exec_time=aplicar_filtro(image_path,filtro_mean,kernel_filter_black_white,\"kernel_filter_black_white\",device_type,local_size)\n",
    "\n",
    "print(exec_time)\n"
   ]
  },
  {
   "cell_type": "markdown",
   "metadata": {
    "id": "k_2NQ6orUaIJ"
   },
   "source": [
    "EJEMPLO GAUSSIAN FILTER"
   ]
  },
  {
   "cell_type": "code",
   "execution_count": 23,
   "metadata": {
    "colab": {
     "base_uri": "https://localhost:8080/"
    },
    "id": "W6bj2LDsUb7W",
    "outputId": "637f14e7-10de-48a4-fc1d-7a6e2ea8b118"
   },
   "outputs": [
    {
     "name": "stdout",
     "output_type": "stream",
     "text": [
      "4.7936e-05\n"
     ]
    }
   ],
   "source": [
    "PYOPENCL_COMPILER_OUTPUT=1\n",
    "device_type = cl.device_type.GPU\n",
    "local_size=(16,16)\n",
    "image_path=\"C:/Users/Eevee/Documents/OPENCL_TFG/FILTROS IMAGENES/pirineos_imagen.png\"\n",
    "imagen_resultante,exec_time=aplicar_filtro(image_path,filtro_gaussiano,kernel_filter_black_white,\"kernel_filter_black_white\",device_type,local_size)\n",
    "\n",
    "print(exec_time)"
   ]
  },
  {
   "cell_type": "code",
   "execution_count": null,
   "metadata": {},
   "outputs": [],
   "source": []
  }
 ],
 "metadata": {
  "accelerator": "GPU",
  "colab": {
   "gpuType": "T4",
   "provenance": []
  },
  "kernelspec": {
   "display_name": "Python 3 (ipykernel)",
   "language": "python",
   "name": "python3"
  },
  "language_info": {
   "codemirror_mode": {
    "name": "ipython",
    "version": 3
   },
   "file_extension": ".py",
   "mimetype": "text/x-python",
   "name": "python",
   "nbconvert_exporter": "python",
   "pygments_lexer": "ipython3",
   "version": "3.12.4"
  }
 },
 "nbformat": 4,
 "nbformat_minor": 4
}
