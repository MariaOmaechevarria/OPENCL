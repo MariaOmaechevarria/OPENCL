{
 "cells": [
  {
   "cell_type": "code",
   "execution_count": 1,
   "metadata": {},
   "outputs": [
    {
     "name": "stdout",
     "output_type": "stream",
     "text": [
      "Defaulting to user installation because normal site-packages is not writeable\n",
      "Requirement already satisfied: pyopencl in c:\\users\\eevee\\appdata\\roaming\\python\\python311\\site-packages (2024.2.7)\n",
      "Requirement already satisfied: numpy in c:\\program files\\python311\\lib\\site-packages (from pyopencl) (1.23.4)\n",
      "Requirement already satisfied: platformdirs>=2.2.0 in c:\\users\\eevee\\appdata\\roaming\\python\\python311\\site-packages (from pyopencl) (4.3.6)\n",
      "Requirement already satisfied: pytools>=2024.1.5 in c:\\users\\eevee\\appdata\\roaming\\python\\python311\\site-packages (from pyopencl) (2024.1.14)\n",
      "Requirement already satisfied: typing-extensions>=4 in c:\\users\\eevee\\appdata\\roaming\\python\\python311\\site-packages (from pytools>=2024.1.5->pyopencl) (4.12.2)\n",
      "Note: you may need to restart the kernel to use updated packages.\n"
     ]
    }
   ],
   "source": [
    "pip install pyopencl"
   ]
  },
  {
   "cell_type": "markdown",
   "metadata": {},
   "source": [
    "IMPORTAR LIBRERIAS ESENCIALES"
   ]
  },
  {
   "cell_type": "code",
   "execution_count": 2,
   "metadata": {},
   "outputs": [],
   "source": [
    "import pyopencl as cl\n",
    "import numpy as np\n",
    "import pandas as pd\n",
    "import os\n",
    "from PIL import Image, ImageFilter\n",
    "from collections import defaultdict"
   ]
  },
  {
   "cell_type": "markdown",
   "metadata": {},
   "source": [
    "IMPORTAR FUNCIONES DE OTROS ARCHIVOS"
   ]
  },
  {
   "cell_type": "code",
   "execution_count": 3,
   "metadata": {},
   "outputs": [],
   "source": [
    "import funciones_filtros as ff\n",
    "import kernels_filtros_imagenes as kernel\n",
    "import determinar_mejor_local_size as mejor\n",
    "import filtros as f\n",
    "import experimento_filtros as ex"
   ]
  },
  {
   "cell_type": "markdown",
   "metadata": {},
   "source": [
    "LISTA DE IMAGENES (ADAPTAR PATHS PARA PODER USARLO)"
   ]
  },
  {
   "cell_type": "code",
   "execution_count": 4,
   "metadata": {},
   "outputs": [],
   "source": [
    "lista_paths = [\n",
    "    \"C:/Users/Eevee/Documents/OPENCL TFG IMP/FILTROS IMAGENES/IMAGENES/imagen64x64.jpg\",\n",
    "    \"C:/Users/Eevee/Documents/OPENCL TFG IMP/FILTROS IMAGENES/IMAGENES/imagen128x128.jpg\",\n",
    "    \"C:/Users/Eevee/Documents/OPENCL TFG IMP/FILTROS IMAGENES/IMAGENES/imagen640x480.jpg\",\n",
    "    \"C:/Users/Eevee/Documents/OPENCL TFG IMP/FILTROS IMAGENES/IMAGENES/imagen800x600.jpg\",\n",
    "    \"C:/Users/Eevee/Documents/OPENCL TFG IMP/FILTROS IMAGENES/IMAGENES/imagen720x1280.jpg\",\n",
    "    \"C:/Users/Eevee/Documents/OPENCL TFG IMP/FILTROS IMAGENES/IMAGENES/imagen1920x1080.jpg\",\n",
    "    \"C:/Users/Eevee/Documents/OPENCL TFG IMP/FILTROS IMAGENES/IMAGENES/imagen2160x3840.jpg\",\n",
    "    \"C:/Users/Eevee/Documents/OPENCL TFG IMP/FILTROS IMAGENES/IMAGENES/imagen8000x6000.jpg\"\n",
    "]\n",
    "\n",
    "image_names = [\n",
    "    \"imagen64x64.jpg\",\n",
    "    \"imagen128x128.jpg\",\n",
    "    \"imagen640x480.jpg\",\n",
    "    \"imagen800x600.jpg\",\n",
    "    \"imagen720x1280.jpg\",\n",
    "    \"imagen1920x1080.jpg\",\n",
    "    \"imagen2160x3840.jpg\",\n",
    "    \"imagen8000x6000.jpg\"\n",
    "]\n"
   ]
  },
  {
   "cell_type": "markdown",
   "metadata": {},
   "source": [
    "EXPERIMENTO GPU UNIVERSIDAD CON DISTINTOS LOCAL SIZES"
   ]
  },
  {
   "cell_type": "code",
   "execution_count": 5,
   "metadata": {},
   "outputs": [
    {
     "ename": "TypeError",
     "evalue": "experimento_filtros() missing 2 required positional arguments: 'filtro_nombre' and 'funcion_nombre'",
     "output_type": "error",
     "traceback": [
      "\u001b[1;31m---------------------------------------------------------------------------\u001b[0m",
      "\u001b[1;31mTypeError\u001b[0m                                 Traceback (most recent call last)",
      "Cell \u001b[1;32mIn[5], line 16\u001b[0m\n\u001b[0;32m     13\u001b[0m kernel_code\u001b[38;5;241m=\u001b[39mkernel\u001b[38;5;241m.\u001b[39mkernel_filter_color_sobel\n\u001b[0;32m     14\u001b[0m kernel_name\u001b[38;5;241m=\u001b[39m\u001b[38;5;124m\"\u001b[39m\u001b[38;5;124mkernel_filter_color_sobel\u001b[39m\u001b[38;5;124m\"\u001b[39m\n\u001b[1;32m---> 16\u001b[0m resultados,result_mejores\u001b[38;5;241m=\u001b[39m\u001b[43mex\u001b[49m\u001b[38;5;241;43m.\u001b[39;49m\u001b[43mexperimento_filtros\u001b[49m\u001b[43m(\u001b[49m\u001b[43mlista_paths\u001b[49m\u001b[43m,\u001b[49m\u001b[43m \u001b[49m\u001b[43mfiltro\u001b[49m\u001b[43m,\u001b[49m\u001b[43m \u001b[49m\u001b[43maplicar_filtro_func\u001b[49m\u001b[43m,\u001b[49m\u001b[43m \u001b[49m\u001b[43mkernel_code\u001b[49m\u001b[43m,\u001b[49m\u001b[43m \u001b[49m\u001b[43mkernel_name\u001b[49m\u001b[43m,\u001b[49m\u001b[43m \u001b[49m\u001b[43mdevice_type\u001b[49m\u001b[43m,\u001b[49m\u001b[43m \u001b[49m\u001b[43mcompute_units\u001b[49m\u001b[43m,\u001b[49m\u001b[43m \u001b[49m\u001b[43mprocessing_elements\u001b[49m\u001b[43m)\u001b[49m\n\u001b[0;32m     17\u001b[0m display(resultados)\n\u001b[0;32m     18\u001b[0m display(result_mejores)\n",
      "\u001b[1;31mTypeError\u001b[0m: experimento_filtros() missing 2 required positional arguments: 'filtro_nombre' and 'funcion_nombre'"
     ]
    }
   ],
   "source": [
    "#EXPERIMENTO EN MI GPU\n",
    "\n",
    "#DATOS GPU:\n",
    "compute_units=82\n",
    "processing_elements=128\n",
    "\n",
    "#DATOS DEVICE\n",
    "device_type=device_type = cl.device_type.GPU \n",
    "\n",
    "#DATOS FILTROS\n",
    "filtro=(f.filtro_sobel_X,f.filtro_sobel_Y)\n",
    "aplicar_filtro_func=ff.aplicar_filtro_sobel\n",
    "kernel_code=kernel.kernel_filter_color_sobel\n",
    "kernel_name=\"kernel_filter_color_sobel\"\n",
    "\n",
    "resultados,result_mejores=ex.experimento_filtros(lista_paths, filtro, aplicar_filtro_func, kernel_code, kernel_name, device_type, compute_units, processing_elements)\n",
    "display(resultados)\n",
    "display(result_mejores)\n"
   ]
  },
  {
   "cell_type": "code",
   "execution_count": 7,
   "metadata": {},
   "outputs": [
    {
     "name": "stdout",
     "output_type": "stream",
     "text": [
      "Ejecutando experimento para filtro_1 con funcion_aplicada\n",
      "Procesando imagen: imagen64x64.jpg\n",
      "Procesando imagen: imagen128x128.jpg\n",
      "Procesando imagen: imagen640x480.jpg\n",
      "Procesando imagen: imagen800x600.jpg\n",
      "Error al procesar imagen800x600.jpg con local_size (16, 16): clEnqueueNDRangeKernel failed: INVALID_WORK_GROUP_SIZE\n",
      "Procesando imagen: imagen720x1280.jpg\n",
      "Procesando imagen: imagen1920x1080.jpg\n",
      "Error al procesar imagen1920x1080.jpg con local_size (16, 16): clEnqueueNDRangeKernel failed: INVALID_WORK_GROUP_SIZE\n",
      "Procesando imagen: imagen2160x3840.jpg\n",
      "Procesando imagen: imagen8000x6000.jpg\n",
      "Procesando imagen para tamaños óptimos: imagen64x64.jpg\n",
      "Procesando imagen para tamaños óptimos: imagen128x128.jpg\n",
      "Procesando imagen para tamaños óptimos: imagen640x480.jpg\n",
      "Procesando imagen para tamaños óptimos: imagen800x600.jpg\n",
      "Procesando imagen para tamaños óptimos: imagen720x1280.jpg\n",
      "Procesando imagen para tamaños óptimos: imagen1920x1080.jpg\n",
      "Procesando imagen para tamaños óptimos: imagen2160x3840.jpg\n",
      "Procesando imagen para tamaños óptimos: imagen8000x6000.jpg\n"
     ]
    },
    {
     "name": "stderr",
     "output_type": "stream",
     "text": [
      "c:\\Users\\Eevee\\Documents\\OPENCL TFG IMP\\FILTROS IMAGENES\\experimento_filtros.py:228: PerformanceWarning: dropping on a non-lexsorted multi-index without a level parameter may impact performance.\n",
      "  results_combined = results_combined.drop(columns=['Width'])\n"
     ]
    },
    {
     "name": "stdout",
     "output_type": "stream",
     "text": [
      "Gráfico guardado en C:/Users/Eevee/Documents/OPENCL TFG IMP/FILTROS IMAGENES/RESULTADOS/filtro_1\\funcion_aplicada\\tiempos_ejecucion_combined.png\n",
      "Gráfico guardado en C:/Users/Eevee/Documents/OPENCL TFG IMP/FILTROS IMAGENES/RESULTADOS/filtro_1\\funcion_aplicada\\tiempos_ejecucion_generales.png\n",
      "Gráfico guardado en C:/Users/Eevee/Documents/OPENCL TFG IMP/FILTROS IMAGENES/RESULTADOS/filtro_1\\funcion_aplicada\\tiempos_ejecucion_optimos.png\n",
      "Gráfico guardado en C:/Users/Eevee/Documents/OPENCL TFG IMP/FILTROS IMAGENES/RESULTADOS/filtro_1\\funcion_aplicada\\tiempo_ejecucion_8x8.png\n",
      "DataFrame resultados_combined guardado en C:/Users/Eevee/Documents/OPENCL TFG IMP/FILTROS IMAGENES/RESULTADOS/filtro_1\\funcion_aplicada\\resultados_combined.csv\n",
      "DataFrame best_results_df guardado en C:/Users/Eevee/Documents/OPENCL TFG IMP/FILTROS IMAGENES/RESULTADOS/filtro_1\\funcion_aplicada\\best_results.csv\n",
      "Ejecutando experimento para filtro_2 con funcion_aplicada\n",
      "Procesando imagen: imagen64x64.jpg\n",
      "Procesando imagen: imagen128x128.jpg\n",
      "Procesando imagen: imagen640x480.jpg\n",
      "Procesando imagen: imagen800x600.jpg\n",
      "Error al procesar imagen800x600.jpg con local_size (16, 16): clEnqueueNDRangeKernel failed: INVALID_WORK_GROUP_SIZE\n",
      "Procesando imagen: imagen720x1280.jpg\n",
      "Procesando imagen: imagen1920x1080.jpg\n",
      "Error al procesar imagen1920x1080.jpg con local_size (16, 16): clEnqueueNDRangeKernel failed: INVALID_WORK_GROUP_SIZE\n",
      "Procesando imagen: imagen2160x3840.jpg\n",
      "Procesando imagen: imagen8000x6000.jpg\n",
      "Procesando imagen para tamaños óptimos: imagen64x64.jpg\n",
      "Procesando imagen para tamaños óptimos: imagen128x128.jpg\n",
      "Procesando imagen para tamaños óptimos: imagen640x480.jpg\n",
      "Procesando imagen para tamaños óptimos: imagen800x600.jpg\n",
      "Procesando imagen para tamaños óptimos: imagen720x1280.jpg\n",
      "Procesando imagen para tamaños óptimos: imagen1920x1080.jpg\n",
      "Procesando imagen para tamaños óptimos: imagen2160x3840.jpg\n",
      "Procesando imagen para tamaños óptimos: imagen8000x6000.jpg\n"
     ]
    },
    {
     "name": "stderr",
     "output_type": "stream",
     "text": [
      "c:\\Users\\Eevee\\Documents\\OPENCL TFG IMP\\FILTROS IMAGENES\\experimento_filtros.py:228: PerformanceWarning: dropping on a non-lexsorted multi-index without a level parameter may impact performance.\n",
      "  results_combined = results_combined.drop(columns=['Width'])\n"
     ]
    },
    {
     "name": "stdout",
     "output_type": "stream",
     "text": [
      "Gráfico guardado en C:/Users/Eevee/Documents/OPENCL TFG IMP/FILTROS IMAGENES/RESULTADOS/filtro_2\\funcion_aplicada\\tiempos_ejecucion_combined.png\n",
      "Gráfico guardado en C:/Users/Eevee/Documents/OPENCL TFG IMP/FILTROS IMAGENES/RESULTADOS/filtro_2\\funcion_aplicada\\tiempos_ejecucion_generales.png\n",
      "Gráfico guardado en C:/Users/Eevee/Documents/OPENCL TFG IMP/FILTROS IMAGENES/RESULTADOS/filtro_2\\funcion_aplicada\\tiempos_ejecucion_optimos.png\n",
      "Gráfico guardado en C:/Users/Eevee/Documents/OPENCL TFG IMP/FILTROS IMAGENES/RESULTADOS/filtro_2\\funcion_aplicada\\tiempo_ejecucion_8x8.png\n",
      "DataFrame resultados_combined guardado en C:/Users/Eevee/Documents/OPENCL TFG IMP/FILTROS IMAGENES/RESULTADOS/filtro_2\\funcion_aplicada\\resultados_combined.csv\n",
      "DataFrame best_results_df guardado en C:/Users/Eevee/Documents/OPENCL TFG IMP/FILTROS IMAGENES/RESULTADOS/filtro_2\\funcion_aplicada\\best_results.csv\n",
      "Ejecutando experimento para filtro_3 con funcion_aplicada\n",
      "Procesando imagen: imagen64x64.jpg\n"
     ]
    },
    {
     "name": "stderr",
     "output_type": "stream",
     "text": [
      "C:\\Users\\Eevee\\AppData\\Roaming\\Python\\Python311\\site-packages\\pyopencl\\__init__.py:519: CompilerWarning: Non-empty compiler output encountered. Set the environment variable PYOPENCL_COMPILER_OUTPUT=1 to see more.\n",
      "  lambda: self._prg.build(options_bytes, devices),\n"
     ]
    },
    {
     "name": "stdout",
     "output_type": "stream",
     "text": [
      "Error al procesar imagen64x64.jpg con local_size (1, 1): clCreateKernel failed: INVALID_KERNEL_NAME\n",
      "Error al procesar imagen64x64.jpg con local_size (2, 2): clCreateKernel failed: INVALID_KERNEL_NAME\n",
      "Error al procesar imagen64x64.jpg con local_size (4, 4): clCreateKernel failed: INVALID_KERNEL_NAME\n",
      "Error al procesar imagen64x64.jpg con local_size (8, 8): clCreateKernel failed: INVALID_KERNEL_NAME\n",
      "Error al procesar imagen64x64.jpg con local_size (16, 16): clCreateKernel failed: INVALID_KERNEL_NAME\n",
      "Procesando imagen: imagen128x128.jpg\n",
      "Error al procesar imagen128x128.jpg con local_size (1, 1): clCreateKernel failed: INVALID_KERNEL_NAME\n",
      "Error al procesar imagen128x128.jpg con local_size (2, 2): clCreateKernel failed: INVALID_KERNEL_NAME\n",
      "Error al procesar imagen128x128.jpg con local_size (4, 4): clCreateKernel failed: INVALID_KERNEL_NAME\n",
      "Error al procesar imagen128x128.jpg con local_size (8, 8): clCreateKernel failed: INVALID_KERNEL_NAME\n",
      "Error al procesar imagen128x128.jpg con local_size (16, 16): clCreateKernel failed: INVALID_KERNEL_NAME\n",
      "Procesando imagen: imagen640x480.jpg\n",
      "Error al procesar imagen640x480.jpg con local_size (1, 1): clCreateKernel failed: INVALID_KERNEL_NAME\n",
      "Error al procesar imagen640x480.jpg con local_size (2, 2): clCreateKernel failed: INVALID_KERNEL_NAME\n",
      "Error al procesar imagen640x480.jpg con local_size (4, 4): clCreateKernel failed: INVALID_KERNEL_NAME\n",
      "Error al procesar imagen640x480.jpg con local_size (8, 8): clCreateKernel failed: INVALID_KERNEL_NAME\n",
      "Error al procesar imagen640x480.jpg con local_size (16, 16): clCreateKernel failed: INVALID_KERNEL_NAME\n",
      "Procesando imagen: imagen800x600.jpg\n",
      "Error al procesar imagen800x600.jpg con local_size (1, 1): clCreateKernel failed: INVALID_KERNEL_NAME\n",
      "Error al procesar imagen800x600.jpg con local_size (2, 2): clCreateKernel failed: INVALID_KERNEL_NAME\n",
      "Error al procesar imagen800x600.jpg con local_size (4, 4): clCreateKernel failed: INVALID_KERNEL_NAME\n",
      "Error al procesar imagen800x600.jpg con local_size (8, 8): clCreateKernel failed: INVALID_KERNEL_NAME\n",
      "Error al procesar imagen800x600.jpg con local_size (16, 16): clCreateKernel failed: INVALID_KERNEL_NAME\n",
      "Procesando imagen: imagen720x1280.jpg\n",
      "Error al procesar imagen720x1280.jpg con local_size (1, 1): clCreateKernel failed: INVALID_KERNEL_NAME\n",
      "Error al procesar imagen720x1280.jpg con local_size (2, 2): clCreateKernel failed: INVALID_KERNEL_NAME\n",
      "Error al procesar imagen720x1280.jpg con local_size (4, 4): clCreateKernel failed: INVALID_KERNEL_NAME\n",
      "Error al procesar imagen720x1280.jpg con local_size (8, 8): clCreateKernel failed: INVALID_KERNEL_NAME\n",
      "Error al procesar imagen720x1280.jpg con local_size (16, 16): clCreateKernel failed: INVALID_KERNEL_NAME\n",
      "Procesando imagen: imagen1920x1080.jpg\n",
      "Error al procesar imagen1920x1080.jpg con local_size (1, 1): clCreateKernel failed: INVALID_KERNEL_NAME\n",
      "Error al procesar imagen1920x1080.jpg con local_size (2, 2): clCreateKernel failed: INVALID_KERNEL_NAME\n",
      "Error al procesar imagen1920x1080.jpg con local_size (4, 4): clCreateKernel failed: INVALID_KERNEL_NAME\n",
      "Error al procesar imagen1920x1080.jpg con local_size (8, 8): clCreateKernel failed: INVALID_KERNEL_NAME\n",
      "Error al procesar imagen1920x1080.jpg con local_size (16, 16): clCreateKernel failed: INVALID_KERNEL_NAME\n",
      "Procesando imagen: imagen2160x3840.jpg\n",
      "Error al procesar imagen2160x3840.jpg con local_size (1, 1): clCreateKernel failed: INVALID_KERNEL_NAME\n",
      "Error al procesar imagen2160x3840.jpg con local_size (2, 2): clCreateKernel failed: INVALID_KERNEL_NAME\n",
      "Error al procesar imagen2160x3840.jpg con local_size (4, 4): clCreateKernel failed: INVALID_KERNEL_NAME\n",
      "Error al procesar imagen2160x3840.jpg con local_size (8, 8): clCreateKernel failed: INVALID_KERNEL_NAME\n",
      "Error al procesar imagen2160x3840.jpg con local_size (16, 16): clCreateKernel failed: INVALID_KERNEL_NAME\n",
      "Procesando imagen: imagen8000x6000.jpg\n",
      "Error al procesar imagen8000x6000.jpg con local_size (1, 1): clCreateKernel failed: INVALID_KERNEL_NAME\n",
      "Error al procesar imagen8000x6000.jpg con local_size (2, 2): clCreateKernel failed: INVALID_KERNEL_NAME\n",
      "Error al procesar imagen8000x6000.jpg con local_size (4, 4): clCreateKernel failed: INVALID_KERNEL_NAME\n",
      "Error al procesar imagen8000x6000.jpg con local_size (8, 8): clCreateKernel failed: INVALID_KERNEL_NAME\n",
      "Error al procesar imagen8000x6000.jpg con local_size (16, 16): clCreateKernel failed: INVALID_KERNEL_NAME\n",
      "Procesando imagen para tamaños óptimos: imagen64x64.jpg\n",
      "Error al procesar imagen64x64.jpg con local_size (2, 64): clCreateKernel failed: INVALID_KERNEL_NAME\n",
      "Error al procesar imagen64x64.jpg con local_size (64, 2): clCreateKernel failed: INVALID_KERNEL_NAME\n",
      "Error al procesar imagen64x64.jpg con local_size (4, 32): clCreateKernel failed: INVALID_KERNEL_NAME\n",
      "Error al procesar imagen64x64.jpg con local_size (32, 4): clCreateKernel failed: INVALID_KERNEL_NAME\n",
      "Error al procesar imagen64x64.jpg con local_size (8, 16): clCreateKernel failed: INVALID_KERNEL_NAME\n",
      "Error al procesar imagen64x64.jpg con local_size (16, 8): clCreateKernel failed: INVALID_KERNEL_NAME\n",
      "Procesando imagen para tamaños óptimos: imagen128x128.jpg\n",
      "Error al procesar imagen128x128.jpg con local_size (1, 128): clCreateKernel failed: INVALID_KERNEL_NAME\n",
      "Error al procesar imagen128x128.jpg con local_size (128, 1): clCreateKernel failed: INVALID_KERNEL_NAME\n",
      "Error al procesar imagen128x128.jpg con local_size (2, 64): clCreateKernel failed: INVALID_KERNEL_NAME\n",
      "Error al procesar imagen128x128.jpg con local_size (64, 2): clCreateKernel failed: INVALID_KERNEL_NAME\n",
      "Error al procesar imagen128x128.jpg con local_size (4, 32): clCreateKernel failed: INVALID_KERNEL_NAME\n",
      "Error al procesar imagen128x128.jpg con local_size (32, 4): clCreateKernel failed: INVALID_KERNEL_NAME\n",
      "Error al procesar imagen128x128.jpg con local_size (8, 16): clCreateKernel failed: INVALID_KERNEL_NAME\n",
      "Error al procesar imagen128x128.jpg con local_size (16, 8): clCreateKernel failed: INVALID_KERNEL_NAME\n",
      "Procesando imagen para tamaños óptimos: imagen640x480.jpg\n",
      "Error al procesar imagen640x480.jpg con local_size (1, 128): clCreateKernel failed: INVALID_KERNEL_NAME\n",
      "Error al procesar imagen640x480.jpg con local_size (2, 64): clCreateKernel failed: INVALID_KERNEL_NAME\n",
      "Error al procesar imagen640x480.jpg con local_size (4, 32): clCreateKernel failed: INVALID_KERNEL_NAME\n",
      "Error al procesar imagen640x480.jpg con local_size (32, 4): clCreateKernel failed: INVALID_KERNEL_NAME\n",
      "Error al procesar imagen640x480.jpg con local_size (8, 16): clCreateKernel failed: INVALID_KERNEL_NAME\n",
      "Error al procesar imagen640x480.jpg con local_size (16, 8): clCreateKernel failed: INVALID_KERNEL_NAME\n",
      "Procesando imagen para tamaños óptimos: imagen800x600.jpg\n",
      "Error al procesar imagen800x600.jpg con local_size (4, 32): clCreateKernel failed: INVALID_KERNEL_NAME\n",
      "Error al procesar imagen800x600.jpg con local_size (8, 16): clCreateKernel failed: INVALID_KERNEL_NAME\n",
      "Procesando imagen para tamaños óptimos: imagen720x1280.jpg\n",
      "Error al procesar imagen720x1280.jpg con local_size (128, 1): clCreateKernel failed: INVALID_KERNEL_NAME\n",
      "Error al procesar imagen720x1280.jpg con local_size (64, 2): clCreateKernel failed: INVALID_KERNEL_NAME\n",
      "Error al procesar imagen720x1280.jpg con local_size (32, 4): clCreateKernel failed: INVALID_KERNEL_NAME\n",
      "Error al procesar imagen720x1280.jpg con local_size (8, 16): clCreateKernel failed: INVALID_KERNEL_NAME\n",
      "Error al procesar imagen720x1280.jpg con local_size (16, 8): clCreateKernel failed: INVALID_KERNEL_NAME\n",
      "Procesando imagen para tamaños óptimos: imagen1920x1080.jpg\n",
      "Error al procesar imagen1920x1080.jpg con local_size (1, 128): clCreateKernel failed: INVALID_KERNEL_NAME\n",
      "Error al procesar imagen1920x1080.jpg con local_size (2, 64): clCreateKernel failed: INVALID_KERNEL_NAME\n",
      "Error al procesar imagen1920x1080.jpg con local_size (4, 32): clCreateKernel failed: INVALID_KERNEL_NAME\n",
      "Error al procesar imagen1920x1080.jpg con local_size (8, 16): clCreateKernel failed: INVALID_KERNEL_NAME\n",
      "Procesando imagen para tamaños óptimos: imagen2160x3840.jpg\n",
      "Error al procesar imagen2160x3840.jpg con local_size (128, 1): clCreateKernel failed: INVALID_KERNEL_NAME\n",
      "Error al procesar imagen2160x3840.jpg con local_size (64, 2): clCreateKernel failed: INVALID_KERNEL_NAME\n",
      "Error al procesar imagen2160x3840.jpg con local_size (32, 4): clCreateKernel failed: INVALID_KERNEL_NAME\n",
      "Error al procesar imagen2160x3840.jpg con local_size (8, 16): clCreateKernel failed: INVALID_KERNEL_NAME\n",
      "Error al procesar imagen2160x3840.jpg con local_size (16, 8): clCreateKernel failed: INVALID_KERNEL_NAME\n",
      "Procesando imagen para tamaños óptimos: imagen8000x6000.jpg\n",
      "Error al procesar imagen8000x6000.jpg con local_size (2, 64): clCreateKernel failed: INVALID_KERNEL_NAME\n",
      "Error al procesar imagen8000x6000.jpg con local_size (4, 32): clCreateKernel failed: INVALID_KERNEL_NAME\n",
      "Error al procesar imagen8000x6000.jpg con local_size (8, 16): clCreateKernel failed: INVALID_KERNEL_NAME\n",
      "Error al procesar imagen8000x6000.jpg con local_size (16, 8): clCreateKernel failed: INVALID_KERNEL_NAME\n",
      "Gráfico guardado en C:/Users/Eevee/Documents/OPENCL TFG IMP/FILTROS IMAGENES/RESULTADOS/filtro_3\\funcion_aplicada\\tiempos_ejecucion_combined.png\n"
     ]
    },
    {
     "name": "stderr",
     "output_type": "stream",
     "text": [
      "c:\\Users\\Eevee\\Documents\\OPENCL TFG IMP\\FILTROS IMAGENES\\experimento_filtros.py:228: PerformanceWarning: dropping on a non-lexsorted multi-index without a level parameter may impact performance.\n",
      "  results_combined = results_combined.drop(columns=['Width'])\n",
      "c:\\Users\\Eevee\\Documents\\OPENCL TFG IMP\\FILTROS IMAGENES\\experimento_filtros.py:140: UserWarning: No artists with labels found to put in legend.  Note that artists whose label start with an underscore are ignored when legend() is called with no argument.\n",
      "  plt.legend(title='Tamaños de Trabajo', bbox_to_anchor=(1.05, 1), loc='upper left')\n"
     ]
    },
    {
     "name": "stdout",
     "output_type": "stream",
     "text": [
      "Gráfico guardado en C:/Users/Eevee/Documents/OPENCL TFG IMP/FILTROS IMAGENES/RESULTADOS/filtro_3\\funcion_aplicada\\tiempos_ejecucion_generales.png\n",
      "Gráfico guardado en C:/Users/Eevee/Documents/OPENCL TFG IMP/FILTROS IMAGENES/RESULTADOS/filtro_3\\funcion_aplicada\\tiempos_ejecucion_optimos.png\n"
     ]
    },
    {
     "name": "stderr",
     "output_type": "stream",
     "text": [
      "c:\\Users\\Eevee\\Documents\\OPENCL TFG IMP\\FILTROS IMAGENES\\experimento_filtros.py:140: UserWarning: No artists with labels found to put in legend.  Note that artists whose label start with an underscore are ignored when legend() is called with no argument.\n",
      "  plt.legend(title='Tamaños de Trabajo', bbox_to_anchor=(1.05, 1), loc='upper left')\n"
     ]
    },
    {
     "ename": "TypeError",
     "evalue": "no numeric data to plot",
     "output_type": "error",
     "traceback": [
      "\u001b[1;31m---------------------------------------------------------------------------\u001b[0m",
      "\u001b[1;31mTypeError\u001b[0m                                 Traceback (most recent call last)",
      "Cell \u001b[1;32mIn[7], line 58\u001b[0m\n\u001b[0;32m     55\u001b[0m base_save_dir \u001b[38;5;241m=\u001b[39m \u001b[38;5;124m\"\u001b[39m\u001b[38;5;124mC:/Users/Eevee/Documents/OPENCL TFG IMP/FILTROS IMAGENES/RESULTADOS/\u001b[39m\u001b[38;5;124m\"\u001b[39m\n\u001b[0;32m     57\u001b[0m \u001b[38;5;66;03m# Ejecutar los experimentos\u001b[39;00m\n\u001b[1;32m---> 58\u001b[0m \u001b[43mex\u001b[49m\u001b[38;5;241;43m.\u001b[39;49m\u001b[43mejecutar_experimentos\u001b[49m\u001b[43m(\u001b[49m\n\u001b[0;32m     59\u001b[0m \u001b[43m    \u001b[49m\u001b[43mlista_paths\u001b[49m\u001b[38;5;241;43m=\u001b[39;49m\u001b[43mlista_paths\u001b[49m\u001b[43m,\u001b[49m\n\u001b[0;32m     60\u001b[0m \u001b[43m    \u001b[49m\u001b[43mfiltros\u001b[49m\u001b[38;5;241;43m=\u001b[39;49m\u001b[43mfiltros\u001b[49m\u001b[43m,\u001b[49m\n\u001b[0;32m     61\u001b[0m \u001b[43m    \u001b[49m\u001b[43maplicar_filtro_funcs\u001b[49m\u001b[38;5;241;43m=\u001b[39;49m\u001b[43maplicar_filtro_funcs\u001b[49m\u001b[43m,\u001b[49m\n\u001b[0;32m     62\u001b[0m \u001b[43m    \u001b[49m\u001b[43mkernel_codes\u001b[49m\u001b[38;5;241;43m=\u001b[39;49m\u001b[43mkernel_codes\u001b[49m\u001b[43m,\u001b[49m\n\u001b[0;32m     63\u001b[0m \u001b[43m    \u001b[49m\u001b[43mkernel_names\u001b[49m\u001b[38;5;241;43m=\u001b[39;49m\u001b[43mkernel_names\u001b[49m\u001b[43m,\u001b[49m\n\u001b[0;32m     64\u001b[0m \u001b[43m    \u001b[49m\u001b[43mdevice_type\u001b[49m\u001b[38;5;241;43m=\u001b[39;49m\u001b[43mdevice_type\u001b[49m\u001b[43m,\u001b[49m\n\u001b[0;32m     65\u001b[0m \u001b[43m    \u001b[49m\u001b[43mcompute_units\u001b[49m\u001b[38;5;241;43m=\u001b[39;49m\u001b[43mcompute_units\u001b[49m\u001b[43m,\u001b[49m\n\u001b[0;32m     66\u001b[0m \u001b[43m    \u001b[49m\u001b[43mprocessing_elements\u001b[49m\u001b[38;5;241;43m=\u001b[39;49m\u001b[43mprocessing_elements\u001b[49m\u001b[43m,\u001b[49m\n\u001b[0;32m     67\u001b[0m \u001b[43m    \u001b[49m\u001b[43mbase_save_dir\u001b[49m\u001b[38;5;241;43m=\u001b[39;49m\u001b[43mbase_save_dir\u001b[49m\n\u001b[0;32m     68\u001b[0m \u001b[43m\u001b[49m\u001b[43m)\u001b[49m\n",
      "File \u001b[1;32mc:\\Users\\Eevee\\Documents\\OPENCL TFG IMP\\FILTROS IMAGENES\\experimento_filtros.py:303\u001b[0m, in \u001b[0;36mejecutar_experimentos\u001b[1;34m(lista_paths, filtros, aplicar_filtro_funcs, kernel_codes, kernel_names, device_type, compute_units, processing_elements, base_save_dir)\u001b[0m\n\u001b[0;32m    301\u001b[0m local_sizes_to_plot \u001b[38;5;241m=\u001b[39m [(\u001b[38;5;241m8\u001b[39m, \u001b[38;5;241m8\u001b[39m)]  \u001b[38;5;66;03m# Añade más si lo deseas\u001b[39;00m\n\u001b[0;32m    302\u001b[0m \u001b[38;5;28;01mfor\u001b[39;00m size \u001b[38;5;129;01min\u001b[39;00m local_sizes_to_plot:\n\u001b[1;32m--> 303\u001b[0m     \u001b[43mgraficar_columna_especifica\u001b[49m\u001b[43m(\u001b[49m\u001b[43mresultados\u001b[49m\u001b[43m,\u001b[49m\u001b[43m \u001b[49m\u001b[43msize\u001b[49m\u001b[43m,\u001b[49m\u001b[43m \u001b[49m\u001b[43mfiltro_nombre\u001b[49m\u001b[43m,\u001b[49m\u001b[43m \u001b[49m\u001b[43mfuncion_nombre\u001b[49m\u001b[43m,\u001b[49m\u001b[43m \u001b[49m\u001b[43mbase_save_dir\u001b[49m\u001b[43m)\u001b[49m\n\u001b[0;32m    305\u001b[0m \u001b[38;5;66;03m# Guardar los DataFrames\u001b[39;00m\n\u001b[0;32m    306\u001b[0m \u001b[38;5;66;03m# Guardar `results_combined`\u001b[39;00m\n\u001b[0;32m    307\u001b[0m resultados_save_path \u001b[38;5;241m=\u001b[39m os\u001b[38;5;241m.\u001b[39mpath\u001b[38;5;241m.\u001b[39mjoin(base_save_dir, filtro_nombre, funcion_nombre, \u001b[38;5;124m'\u001b[39m\u001b[38;5;124mresultados_combined.csv\u001b[39m\u001b[38;5;124m'\u001b[39m)\n",
      "File \u001b[1;32mc:\\Users\\Eevee\\Documents\\OPENCL TFG IMP\\FILTROS IMAGENES\\experimento_filtros.py:181\u001b[0m, in \u001b[0;36mgraficar_columna_especifica\u001b[1;34m(df, local_size, filtro_nombre, funcion_nombre, base_save_dir)\u001b[0m\n\u001b[0;32m    179\u001b[0m \u001b[38;5;66;03m# Crear el gráfico\u001b[39;00m\n\u001b[0;32m    180\u001b[0m plt\u001b[38;5;241m.\u001b[39mfigure(figsize\u001b[38;5;241m=\u001b[39m(\u001b[38;5;241m10\u001b[39m, \u001b[38;5;241m6\u001b[39m))\n\u001b[1;32m--> 181\u001b[0m \u001b[43mcol_data\u001b[49m\u001b[38;5;241;43m.\u001b[39;49m\u001b[43mplot\u001b[49m\u001b[43m(\u001b[49m\u001b[43mkind\u001b[49m\u001b[38;5;241;43m=\u001b[39;49m\u001b[38;5;124;43m'\u001b[39;49m\u001b[38;5;124;43mbar\u001b[39;49m\u001b[38;5;124;43m'\u001b[39;49m\u001b[43m,\u001b[49m\u001b[43m \u001b[49m\u001b[43mcolor\u001b[49m\u001b[38;5;241;43m=\u001b[39;49m\u001b[38;5;124;43m'\u001b[39;49m\u001b[38;5;124;43mskyblue\u001b[39;49m\u001b[38;5;124;43m'\u001b[39;49m\u001b[43m)\u001b[49m\n\u001b[0;32m    182\u001b[0m plt\u001b[38;5;241m.\u001b[39mtitle(\u001b[38;5;124mf\u001b[39m\u001b[38;5;124m'\u001b[39m\u001b[38;5;124mTiempo de Ejecución para Tamaño Local \u001b[39m\u001b[38;5;132;01m{\u001b[39;00mlocal_size\u001b[38;5;132;01m}\u001b[39;00m\u001b[38;5;124m - Filtro: \u001b[39m\u001b[38;5;132;01m{\u001b[39;00mfiltro_nombre\u001b[38;5;132;01m}\u001b[39;00m\u001b[38;5;124m'\u001b[39m)\n\u001b[0;32m    183\u001b[0m plt\u001b[38;5;241m.\u001b[39mxlabel(\u001b[38;5;124m'\u001b[39m\u001b[38;5;124mNombre de la Imagen\u001b[39m\u001b[38;5;124m'\u001b[39m)\n",
      "File \u001b[1;32m~\\AppData\\Roaming\\Python\\Python311\\site-packages\\pandas\\plotting\\_core.py:1030\u001b[0m, in \u001b[0;36mPlotAccessor.__call__\u001b[1;34m(self, *args, **kwargs)\u001b[0m\n\u001b[0;32m   1027\u001b[0m             label_name \u001b[38;5;241m=\u001b[39m label_kw \u001b[38;5;129;01mor\u001b[39;00m data\u001b[38;5;241m.\u001b[39mcolumns\n\u001b[0;32m   1028\u001b[0m             data\u001b[38;5;241m.\u001b[39mcolumns \u001b[38;5;241m=\u001b[39m label_name\n\u001b[1;32m-> 1030\u001b[0m \u001b[38;5;28;01mreturn\u001b[39;00m \u001b[43mplot_backend\u001b[49m\u001b[38;5;241;43m.\u001b[39;49m\u001b[43mplot\u001b[49m\u001b[43m(\u001b[49m\u001b[43mdata\u001b[49m\u001b[43m,\u001b[49m\u001b[43m \u001b[49m\u001b[43mkind\u001b[49m\u001b[38;5;241;43m=\u001b[39;49m\u001b[43mkind\u001b[49m\u001b[43m,\u001b[49m\u001b[43m \u001b[49m\u001b[38;5;241;43m*\u001b[39;49m\u001b[38;5;241;43m*\u001b[39;49m\u001b[43mkwargs\u001b[49m\u001b[43m)\u001b[49m\n",
      "File \u001b[1;32m~\\AppData\\Roaming\\Python\\Python311\\site-packages\\pandas\\plotting\\_matplotlib\\__init__.py:71\u001b[0m, in \u001b[0;36mplot\u001b[1;34m(data, kind, **kwargs)\u001b[0m\n\u001b[0;32m     69\u001b[0m         kwargs[\u001b[38;5;124m\"\u001b[39m\u001b[38;5;124max\u001b[39m\u001b[38;5;124m\"\u001b[39m] \u001b[38;5;241m=\u001b[39m \u001b[38;5;28mgetattr\u001b[39m(ax, \u001b[38;5;124m\"\u001b[39m\u001b[38;5;124mleft_ax\u001b[39m\u001b[38;5;124m\"\u001b[39m, ax)\n\u001b[0;32m     70\u001b[0m plot_obj \u001b[38;5;241m=\u001b[39m PLOT_CLASSES[kind](data, \u001b[38;5;241m*\u001b[39m\u001b[38;5;241m*\u001b[39mkwargs)\n\u001b[1;32m---> 71\u001b[0m \u001b[43mplot_obj\u001b[49m\u001b[38;5;241;43m.\u001b[39;49m\u001b[43mgenerate\u001b[49m\u001b[43m(\u001b[49m\u001b[43m)\u001b[49m\n\u001b[0;32m     72\u001b[0m plot_obj\u001b[38;5;241m.\u001b[39mdraw()\n\u001b[0;32m     73\u001b[0m \u001b[38;5;28;01mreturn\u001b[39;00m plot_obj\u001b[38;5;241m.\u001b[39mresult\n",
      "File \u001b[1;32m~\\AppData\\Roaming\\Python\\Python311\\site-packages\\pandas\\plotting\\_matplotlib\\core.py:499\u001b[0m, in \u001b[0;36mMPLPlot.generate\u001b[1;34m(self)\u001b[0m\n\u001b[0;32m    497\u001b[0m \u001b[38;5;129m@final\u001b[39m\n\u001b[0;32m    498\u001b[0m \u001b[38;5;28;01mdef\u001b[39;00m \u001b[38;5;21mgenerate\u001b[39m(\u001b[38;5;28mself\u001b[39m) \u001b[38;5;241m-\u001b[39m\u001b[38;5;241m>\u001b[39m \u001b[38;5;28;01mNone\u001b[39;00m:\n\u001b[1;32m--> 499\u001b[0m     \u001b[38;5;28;43mself\u001b[39;49m\u001b[38;5;241;43m.\u001b[39;49m\u001b[43m_compute_plot_data\u001b[49m\u001b[43m(\u001b[49m\u001b[43m)\u001b[49m\n\u001b[0;32m    500\u001b[0m     fig \u001b[38;5;241m=\u001b[39m \u001b[38;5;28mself\u001b[39m\u001b[38;5;241m.\u001b[39mfig\n\u001b[0;32m    501\u001b[0m     \u001b[38;5;28mself\u001b[39m\u001b[38;5;241m.\u001b[39m_make_plot(fig)\n",
      "File \u001b[1;32m~\\AppData\\Roaming\\Python\\Python311\\site-packages\\pandas\\plotting\\_matplotlib\\core.py:698\u001b[0m, in \u001b[0;36mMPLPlot._compute_plot_data\u001b[1;34m(self)\u001b[0m\n\u001b[0;32m    696\u001b[0m \u001b[38;5;66;03m# no non-numeric frames or series allowed\u001b[39;00m\n\u001b[0;32m    697\u001b[0m \u001b[38;5;28;01mif\u001b[39;00m is_empty:\n\u001b[1;32m--> 698\u001b[0m     \u001b[38;5;28;01mraise\u001b[39;00m \u001b[38;5;167;01mTypeError\u001b[39;00m(\u001b[38;5;124m\"\u001b[39m\u001b[38;5;124mno numeric data to plot\u001b[39m\u001b[38;5;124m\"\u001b[39m)\n\u001b[0;32m    700\u001b[0m \u001b[38;5;28mself\u001b[39m\u001b[38;5;241m.\u001b[39mdata \u001b[38;5;241m=\u001b[39m numeric_data\u001b[38;5;241m.\u001b[39mapply(\u001b[38;5;28mtype\u001b[39m(\u001b[38;5;28mself\u001b[39m)\u001b[38;5;241m.\u001b[39m_convert_to_ndarray)\n",
      "\u001b[1;31mTypeError\u001b[0m: no numeric data to plot"
     ]
    },
    {
     "data": {
      "image/png": "[encoded data removed]",
      "text/plain": [
       "<Figure size 1000x600 with 1 Axes>"
      ]
     },
     "metadata": {},
     "output_type": "display_data"
    }
   ],
   "source": [
    "if __name__ == \"__main__\":\n",
    "    # Datos GPU\n",
    "    compute_units = 82\n",
    "    processing_elements = 128\n",
    "\n",
    "    # Datos DEVICE\n",
    "    device_type = cl.device_type.GPU \n",
    "\n",
    "    # Definir los filtros y sus configuraciones\n",
    "    filtros = [\n",
    "    # Filtro Mean\n",
    "    f.filtro_mean,  # Asegúrate de tener esta función definida en 'filtros.py'\n",
    "    # Filtro Gaussian\n",
    "    f.filtro_gaussiani,  # Asegúrate de tener esta función definida\n",
    "    # Filtro Median\n",
    "    [],  # Asegúrate de tener esta función definida\n",
    "    # Filtro Sobel (tiene dos componentes: X y Y)\n",
    "    (f.filtro_sobel_X, f.filtro_sobel_Y)\n",
    "]\n",
    "\n",
    "    aplicar_filtro_funcs = [\n",
    "    ff.aplicar_filtro_color,  # Para filtro Mean\n",
    "    ff.aplicar_filtro_color,  # Para filtro Gaussian\n",
    "    ff.aplicar_filtro_median,  # Para filtro Median\n",
    "    ff.aplicar_filtro_sobel  # Para filtro Sobel\n",
    "    ]\n",
    "\n",
    "    kernel_codes = [\n",
    "    kernel.kernel_filter_color,  # Kernel para filtro Mean\n",
    "    kernel.kernel_filter_color,  # Kernel para filtro Gaussian\n",
    "    kernel.kernel_median,  # Kernel para filtro Median\n",
    "    kernel.kernel_filter_color_sobel  # Kernel para filtro Sobel\n",
    "    ]\n",
    "\n",
    "    kernel_names = [\n",
    "    \"kernel_filter_color\",\n",
    "    \"kernel_filter_color\",\n",
    "    \"kernel_median\",\n",
    "    \"kernel_filter_color_sobel\"\n",
    "    ]\n",
    "\n",
    "    # Lista de paths de imágenes\n",
    "    lista_paths = [\n",
    "        \"C:/Users/Eevee/Documents/OPENCL TFG IMP/FILTROS IMAGENES/IMAGENES/imagen64x64.jpg\",\n",
    "        \"C:/Users/Eevee/Documents/OPENCL TFG IMP/FILTROS IMAGENES/IMAGENES/imagen128x128.jpg\",\n",
    "        \"C:/Users/Eevee/Documents/OPENCL TFG IMP/FILTROS IMAGENES/IMAGENES/imagen640x480.jpg\",\n",
    "        \"C:/Users/Eevee/Documents/OPENCL TFG IMP/FILTROS IMAGENES/IMAGENES/imagen800x600.jpg\",\n",
    "        \"C:/Users/Eevee/Documents/OPENCL TFG IMP/FILTROS IMAGENES/IMAGENES/imagen720x1280.jpg\",\n",
    "        \"C:/Users/Eevee/Documents/OPENCL TFG IMP/FILTROS IMAGENES/IMAGENES/imagen1920x1080.jpg\",\n",
    "        \"C:/Users/Eevee/Documents/OPENCL TFG IMP/FILTROS IMAGENES/IMAGENES/imagen2160x3840.jpg\",\n",
    "        \"C:/Users/Eevee/Documents/OPENCL TFG IMP/FILTROS IMAGENES/IMAGENES/imagen8000x6000.jpg\"\n",
    "    ]\n",
    "\n",
    "    # Directorio base para guardar los gráficos\n",
    "    base_save_dir = \"C:/Users/Eevee/Documents/OPENCL TFG IMP/FILTROS IMAGENES/RESULTADOS/\"\n",
    "\n",
    "    # Ejecutar los experimentos\n",
    "    ex.ejecutar_experimentos(\n",
    "        lista_paths=lista_paths,\n",
    "        filtros=filtros,\n",
    "        aplicar_filtro_funcs=aplicar_filtro_funcs,\n",
    "        kernel_codes=kernel_codes,\n",
    "        kernel_names=kernel_names,\n",
    "        device_type=device_type,\n",
    "        compute_units=compute_units,\n",
    "        processing_elements=processing_elements,\n",
    "        base_save_dir=base_save_dir\n",
    "    )\n"
   ]
  }
 ],
 "metadata": {
  "kernelspec": {
   "display_name": "Python 3",
   "language": "python",
   "name": "python3"
  },
  "language_info": {
   "codemirror_mode": {
    "name": "ipython",
    "version": 3
   },
   "file_extension": ".py",
   "mimetype": "text/x-python",
   "name": "python",
   "nbconvert_exporter": "python",
   "pygments_lexer": "ipython3",
   "version": "3.11.0"
  }
 },
 "nbformat": 4,
 "nbformat_minor": 2
}
