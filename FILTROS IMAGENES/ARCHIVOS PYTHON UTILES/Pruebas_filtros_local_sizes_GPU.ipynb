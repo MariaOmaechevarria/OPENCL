{
 "cells": [
  {
   "cell_type": "markdown",
   "metadata": {},
   "source": [
    "EXPERIMENTO: Para distintos filtros, obtener los tiempos de ejecución y determinar el mejor local size para cada imagen.\n",
    "\n",
    "OBJETIVO: Determinar mejor local size.\n",
    "\n",
    "OUTPUT: Para cada filtro, dos tablas con los resultados y los mejores resultados, además de 3 gráficos.\n",
    "\n",
    "DONDE: EXPERIMENTOS/RESULTADOS UNA CARPETA PARA CADA FILTRO CON SU NOMBRE"
   ]
  },
  {
   "cell_type": "markdown",
   "metadata": {},
   "source": [
    "DESCARGAR PYOPENCL"
   ]
  },
  {
   "cell_type": "code",
   "execution_count": 1,
   "metadata": {},
   "outputs": [
    {
     "name": "stdout",
     "output_type": "stream",
     "text": [
      "Defaulting to user installation because normal site-packages is not writeable\n",
      "Requirement already satisfied: pyopencl in c:\\users\\maria\\appdata\\local\\packages\\pythonsoftwarefoundation.python.3.12_qbz5n2kfra8p0\\localcache\\local-packages\\python312\\site-packages (2024.3)\n",
      "Requirement already satisfied: numpy in c:\\users\\maria\\appdata\\local\\packages\\pythonsoftwarefoundation.python.3.12_qbz5n2kfra8p0\\localcache\\local-packages\\python312\\site-packages (from pyopencl) (2.1.2)\n",
      "Requirement already satisfied: platformdirs>=2.2 in c:\\users\\maria\\appdata\\local\\packages\\pythonsoftwarefoundation.python.3.12_qbz5n2kfra8p0\\localcache\\local-packages\\python312\\site-packages (from pyopencl) (4.3.6)\n",
      "Requirement already satisfied: pytools>=2024.1.5 in c:\\users\\maria\\appdata\\local\\packages\\pythonsoftwarefoundation.python.3.12_qbz5n2kfra8p0\\localcache\\local-packages\\python312\\site-packages (from pyopencl) (2024.1.14)\n",
      "Requirement already satisfied: typing-extensions>=4 in c:\\users\\maria\\appdata\\local\\packages\\pythonsoftwarefoundation.python.3.12_qbz5n2kfra8p0\\localcache\\local-packages\\python312\\site-packages (from pytools>=2024.1.5->pyopencl) (4.12.2)\n",
      "Note: you may need to restart the kernel to use updated packages.\n"
     ]
    },
    {
     "name": "stderr",
     "output_type": "stream",
     "text": [
      "\n",
      "[notice] A new release of pip is available: 24.2 -> 24.3.1\n",
      "[notice] To update, run: C:\\Users\\maria\\AppData\\Local\\Microsoft\\WindowsApps\\PythonSoftwareFoundation.Python.3.12_qbz5n2kfra8p0\\python.exe -m pip install --upgrade pip\n"
     ]
    }
   ],
   "source": [
    "pip install pyopencl"
   ]
  },
  {
   "cell_type": "markdown",
   "metadata": {},
   "source": [
    "IMPORTAR LIBRERIAS ESENCIALES"
   ]
  },
  {
   "cell_type": "code",
   "execution_count": 2,
   "metadata": {},
   "outputs": [],
   "source": [
    "import pyopencl as cl\n",
    "import numpy as np\n",
    "import pandas as pd\n",
    "import os\n",
    "from PIL import Image, ImageFilter\n",
    "from collections import defaultdict"
   ]
  },
  {
   "cell_type": "markdown",
   "metadata": {},
   "source": [
    "IMPORTAR FUNCIONES DE OTROS ARCHIVOS"
   ]
  },
  {
   "cell_type": "code",
   "execution_count": 3,
   "metadata": {},
   "outputs": [],
   "source": [
    "import funciones_filtros as ff\n",
    "import kernels_filtros_imagenes as kernel\n",
    "import determinar_mejor_local_size as mejor\n",
    "import filtros as f\n",
    "import experimento_filtros as ex"
   ]
  },
  {
   "cell_type": "markdown",
   "metadata": {},
   "source": [
    "VALORES A ADAPTAR SEGUN EL ORDENADOR"
   ]
  },
  {
   "cell_type": "code",
   "execution_count": 4,
   "metadata": {},
   "outputs": [
    {
     "data": {
      "text/plain": [
       "'\\n\\n\\npath=\"C:/Users/Eevee\"\\n# Datos GPU\\ncompute_units = 82   #Adaptar según la GPU\\nprocessing_elements = 128\\n\\n'"
      ]
     },
     "execution_count": 4,
     "metadata": {},
     "output_type": "execute_result"
    }
   ],
   "source": [
    "\n",
    "\n",
    "\n",
    " # Datos GPU\n",
    "compute_units = 96\n",
    "processing_elements = 8\n",
    "\n",
    "#RUTA DE ARCHIVOS\n",
    "path=\"C:/Users/maria/OneDrive/OPENCL/RESULTADOS_PORTATIL\" \n",
    "\n",
    "'''\n",
    "\n",
    "\n",
    "path=\"C:/Users/Eevee\"\n",
    "# Datos GPU\n",
    "compute_units = 82   #Adaptar según la GPU\n",
    "processing_elements = 128\n",
    "\n",
    "'''"
   ]
  },
  {
   "cell_type": "markdown",
   "metadata": {},
   "source": [
    "LISTA DE IMAGENES "
   ]
  },
  {
   "cell_type": "code",
   "execution_count": 5,
   "metadata": {},
   "outputs": [],
   "source": [
    "# Lista de paths de imágenes\n",
    "lista_paths = [\n",
    "       os.path.join(path, \"OPENCL/FILTROS IMAGENES/IMAGENES/imagen64x64.jpg\"),\n",
    "       os.path.join(path, \"OPENCL/FILTROS IMAGENES/IMAGENES/imagen128x128.jpg\"),\n",
    "       os.path.join(path, \"OPENCL/FILTROS IMAGENES/IMAGENES/imagen640x480.jpg\"),\n",
    "       os.path.join(path, \"OPENCL/FILTROS IMAGENES/IMAGENES/imagen800x600.jpg\"),\n",
    "       os.path.join(path, \"OPENCL/FILTROS IMAGENES/IMAGENES/imagen720x1280.jpg\"),\n",
    "       os.path.join(path, \"OPENCL/FILTROS IMAGENES/IMAGENES/imagen1920x1080.jpg\"),\n",
    "       os.path.join(path, \"OPENCL/FILTROS IMAGENES/IMAGENES/imagen2160x3840.jpg\"),\n",
    "       os.path.join(path, \"OPENCL/FILTROS IMAGENES/IMAGENES/imagen8000x6000.jpg\")]\n",
    "\n",
    "image_names = [\n",
    "    \"imagen64x64.jpg\",\n",
    "    \"imagen128x128.jpg\",\n",
    "    \"imagen640x480.jpg\",\n",
    "    \"imagen800x600.jpg\",\n",
    "    \"imagen720x1280.jpg\",\n",
    "    \"imagen1920x1080.jpg\",\n",
    "    \"imagen2160x3840.jpg\",\n",
    "    \"imagen8000x6000.jpg\"\n",
    "]\n"
   ]
  },
  {
   "cell_type": "markdown",
   "metadata": {},
   "source": [
    "EXPERIMENTO GPU UNIVERSIDAD CON DISTINTOS LOCAL SIZES"
   ]
  },
  {
   "cell_type": "code",
   "execution_count": 6,
   "metadata": {},
   "outputs": [
    {
     "name": "stdout",
     "output_type": "stream",
     "text": [
      "Ejecutando experimento para mean con funcion_aplicada\n",
      "Error al procesar imagen800x600.jpg con local_size (16, 16): clEnqueueNDRangeKernel failed: INVALID_WORK_GROUP_SIZE\n",
      "Error al procesar imagen1920x1080.jpg con local_size (16, 16): clEnqueueNDRangeKernel failed: INVALID_WORK_GROUP_SIZE\n"
     ]
    },
    {
     "name": "stderr",
     "output_type": "stream",
     "text": [
      "c:\\Users\\maria\\OneDrive\\OPENCL\\FILTROS IMAGENES\\ARCHIVOS PYTHON UTILES\\experimento_filtros.py:325: PerformanceWarning: dropping on a non-lexsorted multi-index without a level parameter may impact performance.\n",
      "  results_combined = results_combined.drop(columns=['Width'])\n"
     ]
    },
    {
     "name": "stdout",
     "output_type": "stream",
     "text": [
      "Gráfico guardado en C:/Users/maria/OneDrive/OPENCL/RESULTADOS_PORTATIL\\OPENCL/FILTROS IMAGENES/EXPERIMENTOS/RESULTADOS/mean\\tiempos_ejecucion_combined.png\n",
      "Gráfico guardado en C:/Users/maria/OneDrive/OPENCL/RESULTADOS_PORTATIL\\OPENCL/FILTROS IMAGENES/EXPERIMENTOS/RESULTADOS/mean\\tiempos_ejecucion_generales.png\n",
      "Gráfico guardado en C:/Users/maria/OneDrive/OPENCL/RESULTADOS_PORTATIL\\OPENCL/FILTROS IMAGENES/EXPERIMENTOS/RESULTADOS/mean\\tiempos_ejecucion_optimos.png\n",
      "DataFrames guardados y formateados en Excel en C:/Users/maria/OneDrive/OPENCL/RESULTADOS_PORTATIL\\OPENCL/FILTROS IMAGENES/EXPERIMENTOS/RESULTADOS/mean\\resultados.xlsx\n",
      "Ejecutando experimento para gaussian con funcion_aplicada\n",
      "Error al procesar imagen800x600.jpg con local_size (16, 16): clEnqueueNDRangeKernel failed: INVALID_WORK_GROUP_SIZE\n",
      "Error al procesar imagen1920x1080.jpg con local_size (16, 16): clEnqueueNDRangeKernel failed: INVALID_WORK_GROUP_SIZE\n"
     ]
    },
    {
     "name": "stderr",
     "output_type": "stream",
     "text": [
      "c:\\Users\\maria\\OneDrive\\OPENCL\\FILTROS IMAGENES\\ARCHIVOS PYTHON UTILES\\experimento_filtros.py:325: PerformanceWarning: dropping on a non-lexsorted multi-index without a level parameter may impact performance.\n",
      "  results_combined = results_combined.drop(columns=['Width'])\n"
     ]
    },
    {
     "name": "stdout",
     "output_type": "stream",
     "text": [
      "Gráfico guardado en C:/Users/maria/OneDrive/OPENCL/RESULTADOS_PORTATIL\\OPENCL/FILTROS IMAGENES/EXPERIMENTOS/RESULTADOS/gaussian\\tiempos_ejecucion_combined.png\n",
      "Gráfico guardado en C:/Users/maria/OneDrive/OPENCL/RESULTADOS_PORTATIL\\OPENCL/FILTROS IMAGENES/EXPERIMENTOS/RESULTADOS/gaussian\\tiempos_ejecucion_generales.png\n",
      "Gráfico guardado en C:/Users/maria/OneDrive/OPENCL/RESULTADOS_PORTATIL\\OPENCL/FILTROS IMAGENES/EXPERIMENTOS/RESULTADOS/gaussian\\tiempos_ejecucion_optimos.png\n",
      "DataFrames guardados y formateados en Excel en C:/Users/maria/OneDrive/OPENCL/RESULTADOS_PORTATIL\\OPENCL/FILTROS IMAGENES/EXPERIMENTOS/RESULTADOS/gaussian\\resultados.xlsx\n",
      "Ejecutando experimento para sobel con funcion_aplicada\n"
     ]
    },
    {
     "name": "stderr",
     "output_type": "stream",
     "text": [
      "C:\\Users\\maria\\AppData\\Local\\Packages\\PythonSoftwareFoundation.Python.3.12_qbz5n2kfra8p0\\LocalCache\\local-packages\\Python312\\site-packages\\pyopencl\\cache.py:420: CompilerWarning: Non-empty compiler output encountered. Set the environment variable PYOPENCL_COMPILER_OUTPUT=1 to see more.\n",
      "  prg.build(options_bytes, [devices[i] for i in to_be_built_indices])\n",
      "C:\\Users\\maria\\AppData\\Local\\Packages\\PythonSoftwareFoundation.Python.3.12_qbz5n2kfra8p0\\LocalCache\\local-packages\\Python312\\site-packages\\pyopencl\\cache.py:496: CompilerWarning: Non-empty compiler output encountered. Set the environment variable PYOPENCL_COMPILER_OUTPUT=1 to see more.\n",
      "  _create_built_program_from_source_cached(\n"
     ]
    },
    {
     "name": "stdout",
     "output_type": "stream",
     "text": [
      "Error al procesar imagen800x600.jpg con local_size (16, 16): clEnqueueNDRangeKernel failed: INVALID_WORK_GROUP_SIZE\n",
      "Error al procesar imagen1920x1080.jpg con local_size (16, 16): clEnqueueNDRangeKernel failed: INVALID_WORK_GROUP_SIZE\n"
     ]
    },
    {
     "name": "stderr",
     "output_type": "stream",
     "text": [
      "C:\\Users\\maria\\AppData\\Local\\Packages\\PythonSoftwareFoundation.Python.3.12_qbz5n2kfra8p0\\LocalCache\\local-packages\\Python312\\site-packages\\pyopencl\\cache.py:496: CompilerWarning: Non-empty compiler output encountered. Set the environment variable PYOPENCL_COMPILER_OUTPUT=1 to see more.\n",
      "  _create_built_program_from_source_cached(\n",
      "c:\\Users\\maria\\OneDrive\\OPENCL\\FILTROS IMAGENES\\ARCHIVOS PYTHON UTILES\\experimento_filtros.py:325: PerformanceWarning: dropping on a non-lexsorted multi-index without a level parameter may impact performance.\n",
      "  results_combined = results_combined.drop(columns=['Width'])\n"
     ]
    },
    {
     "name": "stdout",
     "output_type": "stream",
     "text": [
      "Gráfico guardado en C:/Users/maria/OneDrive/OPENCL/RESULTADOS_PORTATIL\\OPENCL/FILTROS IMAGENES/EXPERIMENTOS/RESULTADOS/sobel\\tiempos_ejecucion_combined.png\n",
      "Gráfico guardado en C:/Users/maria/OneDrive/OPENCL/RESULTADOS_PORTATIL\\OPENCL/FILTROS IMAGENES/EXPERIMENTOS/RESULTADOS/sobel\\tiempos_ejecucion_generales.png\n",
      "Gráfico guardado en C:/Users/maria/OneDrive/OPENCL/RESULTADOS_PORTATIL\\OPENCL/FILTROS IMAGENES/EXPERIMENTOS/RESULTADOS/sobel\\tiempos_ejecucion_optimos.png\n",
      "DataFrames guardados y formateados en Excel en C:/Users/maria/OneDrive/OPENCL/RESULTADOS_PORTATIL\\OPENCL/FILTROS IMAGENES/EXPERIMENTOS/RESULTADOS/sobel\\resultados.xlsx\n"
     ]
    }
   ],
   "source": [
    "\n",
    "\n",
    "# Datos DEVICE\n",
    "device_type = cl.device_type.GPU \n",
    "\n",
    "# Definir los filtros y sus configuraciones\n",
    "filtros = [\n",
    "    # Filtro Mean\n",
    "    f.filtro_mean,  # Asegúrate de tener esta función definida en 'filtros.py'\n",
    "    # Filtro Gaussian\n",
    "    f.filtro_gaussiani, # Asegúrate de tener esta función definida\n",
    "    # Filtro Sobel (tiene dos componentes: X y Y)\n",
    "    (f.filtro_sobel_X, f.filtro_sobel_Y)\n",
    "]\n",
    "\n",
    "aplicar_filtro_funcs = [\n",
    "    ff.aplicar_filtro_color,  # Para filtro Mean\n",
    "    ff.aplicar_filtro_color,  # Para filtro Median\n",
    "    ff.aplicar_filtro_sobel  # Para filtro Sobel\n",
    "    ]\n",
    "kernel_codes = [\n",
    "    kernel.kernel_filter_color,  # Kernel para filtro Mean\n",
    "    kernel.kernel_filter_color,  # Kernel para filtro Median\n",
    "    kernel.kernel_filter_color_sobel  # Kernel para filtro Sobel\n",
    "    ]\n",
    "\n",
    "filtros_nombres=['mean','gaussian','sobel']\n",
    "\n",
    "kernel_names = [\n",
    "    \"kernel_filter_color\",\n",
    "    \"kernel_filter_color\",\n",
    "    \"kernel_filter_color_sobel\"\n",
    "    ]\n",
    "\n",
    "\n",
    "\n",
    "# Directorio base para guardar los gráficos\n",
    "\n",
    "base_save_dir = os.path.join(path, \"OPENCL/FILTROS IMAGENES/EXPERIMENTOS/RESULTADOS/\")\n",
    "\n",
    "    # Ejecutar los experimentos\n",
    "ex.ejecutar_experimentos(\n",
    "        lista_paths=lista_paths,\n",
    "        filtros=filtros,\n",
    "        filtros_nombres=filtros_nombres,\n",
    "        aplicar_filtro_funcs=aplicar_filtro_funcs,\n",
    "        kernel_codes=kernel_codes,\n",
    "        kernel_names=kernel_names,\n",
    "        device_type=device_type,\n",
    "        compute_units=compute_units,\n",
    "        processing_elements=processing_elements,\n",
    "        base_save_dir=base_save_dir\n",
    "    )\n"
   ]
  }
 ],
 "metadata": {
  "kernelspec": {
   "display_name": "Python 3",
   "language": "python",
   "name": "python3"
  },
  "language_info": {
   "codemirror_mode": {
    "name": "ipython",
    "version": 3
   },
   "file_extension": ".py",
   "mimetype": "text/x-python",
   "name": "python",
   "nbconvert_exporter": "python",
   "pygments_lexer": "ipython3",
   "version": "3.12.8"
  }
 },
 "nbformat": 4,
 "nbformat_minor": 2
}
