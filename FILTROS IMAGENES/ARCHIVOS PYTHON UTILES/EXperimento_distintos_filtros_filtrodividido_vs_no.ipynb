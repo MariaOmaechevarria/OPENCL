{
 "cells": [
  {
   "cell_type": "markdown",
   "metadata": {},
   "source": [
    "EXPERIMENTO: Se comparan kernels que aplican filtros de manera normal o filtros de manera dividida, con y sin memoria local. Se ha fijado un local size, una imagen y se están cambiando el tamaño de los filtros.\n",
    "\n",
    "\n",
    "OBJETIVO: Determinar que es mejor aplicar filtros de manera dividida, sobre todo para filtros grandes.\n",
    "\n",
    "\n",
    "OUTPUT:Tabla con los valores, gráfico comparando.\n",
    "\n",
    "\n",
    "DONDE: EXPERIMENTOS/RESULTADOS/COMPARACION_KERNELS/COMPARACION FILTROS"
   ]
  },
  {
   "cell_type": "markdown",
   "metadata": {},
   "source": [
    "DESCARGAR PYOPENCL"
   ]
  },
  {
   "cell_type": "code",
   "execution_count": null,
   "metadata": {},
   "outputs": [],
   "source": [
    "pip install pyopencl"
   ]
  },
  {
   "cell_type": "markdown",
   "metadata": {},
   "source": [
    "IMPORTAR LIBRERIAS"
   ]
  },
  {
   "cell_type": "code",
   "execution_count": 2,
   "metadata": {},
   "outputs": [],
   "source": [
    "import pyopencl as cl\n",
    "import numpy as np\n",
    "import pandas as pd\n",
    "import os\n",
    "from PIL import Image, ImageFilter\n",
    "from collections import defaultdict"
   ]
  },
  {
   "cell_type": "markdown",
   "metadata": {},
   "source": [
    "IMPORTAR ARCHIVOS Y FUNCIONES"
   ]
  },
  {
   "cell_type": "code",
   "execution_count": 3,
   "metadata": {},
   "outputs": [],
   "source": [
    "import funciones_filtros as ff\n",
    "import kernels_filtros_imagenes as kernel\n",
    "import determinar_mejor_local_size as mejor\n",
    "import filtros as f\n",
    "import experimento_filtros as ex"
   ]
  },
  {
   "cell_type": "markdown",
   "metadata": {},
   "source": [
    "VALORES IMPORTANTES A MODIFICAR SEGÚN ORDENADOR"
   ]
  },
  {
   "cell_type": "code",
   "execution_count": null,
   "metadata": {},
   "outputs": [],
   "source": [
    " # Datos GPU\n",
    "compute_units = 82\n",
    "processing_elements = 128\n",
    "\n",
    "#RUTA DE ARCHIVOS\n",
    "path=\"C:/Users/Eevee/Documents/\""
   ]
  },
  {
   "cell_type": "markdown",
   "metadata": {},
   "source": [
    "FUNCION PRINCIPAL"
   ]
  },
  {
   "cell_type": "code",
   "execution_count": null,
   "metadata": {},
   "outputs": [],
   "source": [
    "\n",
    "\n",
    "#KERNELS A USAR\n",
    "kernels_codes = [kernel.kernel_filter_color_local4, kernel.kernel_filter_color_rectangular,kernel.kernel_filter_color_local_rectangular]\n",
    "\n",
    "#NOMBRES DE LOS KERNELS\n",
    "\n",
    "kernels_names = [\"kernel_filter_color_local4\", \"kernel_filter_color_rectangular\",\"kernel_filter_color_local_rectangular\"]\n",
    "\n",
    "#FUNCIONES A APLICAR\n",
    "\n",
    "funciones = [ff.aplicar_filtro_local, ff.aplicar_filtro_color_dividido,ff.aplicar_filtro_local_dividido]\n",
    "\n",
    "#IMAGEN PARA APLICAR FILTROS\n",
    "\n",
    "image_path = os.path.join(path, \"OPENCL/FILTROS IMAGENES/IMAGENES/imagen800x600.jpg\")\n",
    "\n",
    "#LOCAL SIZE FIJADO\n",
    "\n",
    "local_size = (8, 8)  # Tamaño local deseado\n",
    "\n",
    "# Filtros de ejemplo\n",
    "filtros1 = [\n",
    "        f.filtro_mean, f.filtro_mean5x5, f.filtro_mean7x7, f.filtro_mean9x9, \n",
    "        f.filtro_mean11x11, f.filtro_mean13x13, f.filtro_mean15x15, \n",
    "        f.filtro_mean16x16, f.filtro_mean17x17, f.filtro_mean19x19, \n",
    "        f.filtro_mean21x21, f.filtro_mean23x23, f.filtro_mean25x25, \n",
    "        f.filtro_mean27x27, f.filtro_mean29x29, f.filtro_mean31x31, \n",
    "        f.filtro_mean33x33\n",
    "    ]\n",
    "\n",
    "filtros2 = [\n",
    "        (f.filtro_meanX, f.filtro_meanY), \n",
    "        (f.filtro_mean5X5X, f.filtro_mean5X5Y), \n",
    "        (f.filtro_mean7x7X, f.filtro_mean7x7Y), \n",
    "        (f.filtro_mean9x9X, f.filtro_mean9x9Y), \n",
    "        (f.filtro_mean11X, f.filtro_mean11Y),\n",
    "        (f.filtro_mean13X, f.filtro_mean13Y),\n",
    "        (f.filtro_mean15X, f.filtro_mean15Y),\n",
    "        (f.filtro_mean16x16X, f.filtro_mean16x16Y),\n",
    "        (f.filtro_mean17X, f.filtro_mean17Y),\n",
    "        (f.filtro_mean19X, f.filtro_mean19Y),\n",
    "        (f.filtro_mean21X, f.filtro_mean21Y),\n",
    "        (f.filtro_mean23X, f.filtro_mean23Y),\n",
    "        (f.filtro_mean25X, f.filtro_mean25Y),\n",
    "        (f.filtro_mean27X, f.filtro_mean27Y),\n",
    "        (f.filtro_mean29X, f.filtro_mean29Y),\n",
    "        (f.filtro_mean31X, f.filtro_mean31Y),\n",
    "        (f.filtro_mean33X, f.filtro_mean33Y)\n",
    "    ]  # Para filtros divididos\n",
    "\n",
    "#LLAMAR A LA FUNCION \n",
    "\n",
    "save_path = os.path.join(path, \"OPENCL/FILTROS IMAGENES/EXPERIMENTOS/RESULTADOS/COMPARACION_KERNELS/COMPARACION FILTROS/\")\n",
    "df_resultados = ex.comparar_filtros(kernels_codes, kernels_names, funciones, image_path, local_size, cl.device_type.GPU, filtros1, filtros2,save_path)\n",
    "\n"
   ]
  }
 ],
 "metadata": {
  "kernelspec": {
   "display_name": "Python 3",
   "language": "python",
   "name": "python3"
  },
  "language_info": {
   "codemirror_mode": {
    "name": "ipython",
    "version": 3
   },
   "file_extension": ".py",
   "mimetype": "text/x-python",
   "name": "python",
   "nbconvert_exporter": "python",
   "pygments_lexer": "ipython3",
   "version": "3.11.0"
  }
 },
 "nbformat": 4,
 "nbformat_minor": 2
}
