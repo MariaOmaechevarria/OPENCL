{
 "cells": [
  {
   "cell_type": "markdown",
   "metadata": {},
   "source": [
    "EXPERIMENTO:  Para distintos filtros se calculan los tiempos de ejecución al aplicar el filtro. Los tiempos se calculan haciendo un promedio. Se ejecuta el kernel 1000 veces y se calcula dividiendo el tiempo total entre 1000.\n",
    "\n",
    "OBJETIVO: Estudiar los mejores local sizes para cada imagen.\n",
    "\n",
    "OUTPUT: Para cada filtro estudiado se obtienen dos tablas, resultados generales y los mejores, aparte de varios gráficos\n",
    "\n",
    "DONDE: EXPERIMENTOS/RESULTADOS/1000VECES"
   ]
  },
  {
   "cell_type": "markdown",
   "metadata": {},
   "source": [
    "INSTALAR PYOPENCL"
   ]
  },
  {
   "cell_type": "code",
   "execution_count": null,
   "metadata": {},
   "outputs": [],
   "source": [
    "pip install pyopencl"
   ]
  },
  {
   "cell_type": "markdown",
   "metadata": {},
   "source": [
    "IMPORTAR LIBRERIAS"
   ]
  },
  {
   "cell_type": "code",
   "execution_count": 2,
   "metadata": {},
   "outputs": [],
   "source": [
    "import pyopencl as cl\n",
    "import numpy as np\n",
    "import pandas as pd\n",
    "import os\n",
    "from PIL import Image, ImageFilter\n",
    "from collections import defaultdict"
   ]
  },
  {
   "cell_type": "markdown",
   "metadata": {},
   "source": [
    "IMPORTAR ARCHIVOS Y FUNCIONES"
   ]
  },
  {
   "cell_type": "code",
   "execution_count": 3,
   "metadata": {},
   "outputs": [],
   "source": [
    "import funciones_filtros as ff\n",
    "import kernels_filtros_imagenes as kernel\n",
    "import determinar_mejor_local_size as mejor\n",
    "import filtros as f\n",
    "import experimento_filtros as ex"
   ]
  },
  {
   "cell_type": "markdown",
   "metadata": {},
   "source": [
    "VALORES IMPORTANTES A MODIFICAR SEGUN EL ORDENADOR"
   ]
  },
  {
   "cell_type": "code",
   "execution_count": 4,
   "metadata": {},
   "outputs": [],
   "source": [
    " # Datos GPU\n",
    "compute_units = 82\n",
    "processing_elements = 128\n",
    "\n",
    "#RUTA DE ARCHIVOS\n",
    "path=\"C:/Users/Eevee/Documents/\""
   ]
  },
  {
   "cell_type": "markdown",
   "metadata": {},
   "source": [
    "FUNCION PRINCIPAL QUE EJECUTA EL EXPERIMENTO"
   ]
  },
  {
   "cell_type": "code",
   "execution_count": 5,
   "metadata": {},
   "outputs": [
    {
     "name": "stdout",
     "output_type": "stream",
     "text": [
      "Ejecutando experimento para mean con funcion_aplicada\n",
      "Error al procesar imagen800x600.jpg con local_size (16, 16): clEnqueueNDRangeKernel failed: INVALID_WORK_GROUP_SIZE\n",
      "Error al procesar imagen1920x1080.jpg con local_size (16, 16): clEnqueueNDRangeKernel failed: INVALID_WORK_GROUP_SIZE\n"
     ]
    },
    {
     "name": "stderr",
     "output_type": "stream",
     "text": [
      "c:\\Users\\Eevee\\OPENCL-1\\FILTROS IMAGENES\\ARCHIVOS PYTHON UTILES\\experimento_filtros.py:325: PerformanceWarning: dropping on a non-lexsorted multi-index without a level parameter may impact performance.\n",
      "  results_combined = results_combined.drop(columns=['Width'])\n"
     ]
    },
    {
     "name": "stdout",
     "output_type": "stream",
     "text": [
      "Gráfico guardado en C:/Users/Eevee/Documents/OPENCL TFG IMP/FILTROS IMAGENES/EXPERIMENTOS/RESULTADOS/1000VECES/mean\\tiempos_ejecucion_combined.png\n",
      "Gráfico guardado en C:/Users/Eevee/Documents/OPENCL TFG IMP/FILTROS IMAGENES/EXPERIMENTOS/RESULTADOS/1000VECES/mean\\tiempos_ejecucion_generales.png\n",
      "Gráfico guardado en C:/Users/Eevee/Documents/OPENCL TFG IMP/FILTROS IMAGENES/EXPERIMENTOS/RESULTADOS/1000VECES/mean\\tiempos_ejecucion_optimos.png\n",
      "DataFrames guardados y formateados en Excel en C:/Users/Eevee/Documents/OPENCL TFG IMP/FILTROS IMAGENES/EXPERIMENTOS/RESULTADOS/1000VECES/mean\\resultados.xlsx\n",
      "Ejecutando experimento para gaussian con funcion_aplicada\n",
      "Error al procesar imagen800x600.jpg con local_size (16, 16): clEnqueueNDRangeKernel failed: INVALID_WORK_GROUP_SIZE\n",
      "Error al procesar imagen1920x1080.jpg con local_size (16, 16): clEnqueueNDRangeKernel failed: INVALID_WORK_GROUP_SIZE\n"
     ]
    },
    {
     "name": "stderr",
     "output_type": "stream",
     "text": [
      "c:\\Users\\Eevee\\OPENCL-1\\FILTROS IMAGENES\\ARCHIVOS PYTHON UTILES\\experimento_filtros.py:325: PerformanceWarning: dropping on a non-lexsorted multi-index without a level parameter may impact performance.\n",
      "  results_combined = results_combined.drop(columns=['Width'])\n"
     ]
    },
    {
     "name": "stdout",
     "output_type": "stream",
     "text": [
      "Gráfico guardado en C:/Users/Eevee/Documents/OPENCL TFG IMP/FILTROS IMAGENES/EXPERIMENTOS/RESULTADOS/1000VECES/gaussian\\tiempos_ejecucion_combined.png\n",
      "Gráfico guardado en C:/Users/Eevee/Documents/OPENCL TFG IMP/FILTROS IMAGENES/EXPERIMENTOS/RESULTADOS/1000VECES/gaussian\\tiempos_ejecucion_generales.png\n",
      "Gráfico guardado en C:/Users/Eevee/Documents/OPENCL TFG IMP/FILTROS IMAGENES/EXPERIMENTOS/RESULTADOS/1000VECES/gaussian\\tiempos_ejecucion_optimos.png\n",
      "DataFrames guardados y formateados en Excel en C:/Users/Eevee/Documents/OPENCL TFG IMP/FILTROS IMAGENES/EXPERIMENTOS/RESULTADOS/1000VECES/gaussian\\resultados.xlsx\n"
     ]
    }
   ],
   "source": [
    "\n",
    "# Datos DEVICE\n",
    "device_type = cl.device_type.GPU \n",
    "\n",
    "# Definir los filtros y sus configuraciones\n",
    "filtros = [\n",
    "    # Filtro Mean\n",
    "    f.filtro_mean,  \n",
    "    # Filtro Gaussian\n",
    "    f.filtro_gaussiani\n",
    "]\n",
    "\n",
    "aplicar_filtro_funcs = [\n",
    "    ff.aplicar_filtro_color_100,  # Para filtro Mean\n",
    "    ff.aplicar_filtro_color_100  # Para filtro Gaussian\n",
    "    ]\n",
    "\n",
    "kernel_codes = [\n",
    "    kernel.kernel_filter_color,  # Kernel para filtro Mean\n",
    "    kernel.kernel_filter_color\n",
    "    ]\n",
    "\n",
    "kernel_names = [\n",
    "    \"kernel_filter_color\",\n",
    "    \"kernel_filter_color\",\n",
    "    ]\n",
    "\n",
    "\n",
    "\n",
    "# Lista de paths de imágenes\n",
    "lista_paths = [\n",
    "       os.path.join(path, \"OPENCL/FILTROS IMAGENES/IMAGENES/imagen64x64.jpg\"),\n",
    "       os.path.join(path, \"OPENCL/FILTROS IMAGENES/IMAGENES/imagen128x128.jpg\"),\n",
    "       os.path.join(path, \"OPENCL/FILTROS IMAGENES/IMAGENES/imagen640x480.jpg\"),\n",
    "       os.path.join(path, \"OPENCL/FILTROS IMAGENES/IMAGENES/imagen800x600.jpg\"),\n",
    "       os.path.join(path, \"OPENCL/FILTROS IMAGENES/IMAGENES/imagen720x1280.jpg\"),\n",
    "       os.path.join(path, \"OPENCL/FILTROS IMAGENES/IMAGENES/imagen1920x1080.jpg\"),\n",
    "       os.path.join(path, \"OPENCL/FILTROS IMAGENES/IMAGENES/imagen2160x3840.jpg\"),\n",
    "       os.path.join(path, \"OPENCL/FILTROS IMAGENES/IMAGENES/imagen8000x6000.jpg\")]\n",
    "\n",
    "\n",
    "    # Directorio base para guardar los gráficos\n",
    "    #base_save_dir = \"C:/Users/Eevee/Documents/OPENCL TFG IMP/FILTROS IMAGENES/EXPERIMENTOS/RESULTADOS/1000VECES/\"\n",
    "base_save_dir = os.path.join(path, \"OPENCL/FILTROS IMAGENES/EXPERIMENTOS/RESULTADOS/1000VECES/\")\n",
    "os.makedirs(base_save_dir, exist_ok=True)\n",
    "nombres=['mean','gaussian']\n",
    "\n",
    "    # Ejecutar los experimentos\n",
    "ex.ejecutar_experimentos(\n",
    "        lista_paths=lista_paths,\n",
    "        filtros=filtros,\n",
    "        filtros_nombres=nombres,\n",
    "        aplicar_filtro_funcs=aplicar_filtro_funcs,\n",
    "        kernel_codes=kernel_codes,\n",
    "        kernel_names=kernel_names,\n",
    "        device_type=device_type,\n",
    "        compute_units=compute_units,\n",
    "        processing_elements=processing_elements,\n",
    "        base_save_dir=base_save_dir\n",
    "    )\n"
   ]
  }
 ],
 "metadata": {
  "kernelspec": {
   "display_name": "Python 3",
   "language": "python",
   "name": "python3"
  },
  "language_info": {
   "codemirror_mode": {
    "name": "ipython",
    "version": 3
   },
   "file_extension": ".py",
   "mimetype": "text/x-python",
   "name": "python",
   "nbconvert_exporter": "python",
   "pygments_lexer": "ipython3",
   "version": "3.11.0"
  }
 },
 "nbformat": 4,
 "nbformat_minor": 2
}
