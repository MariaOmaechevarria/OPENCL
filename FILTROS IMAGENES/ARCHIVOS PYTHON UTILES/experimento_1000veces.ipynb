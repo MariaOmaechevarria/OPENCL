{
 "cells": [
  {
   "cell_type": "markdown",
   "metadata": {},
   "source": [
    "EXPERIMENTO DONDE PARA DISTINTOS FILTROS SE CALCULAN LOS TIEMPOS DE EJECUCION AL APLICAR EL FILTRO. LOS TIEMPOS SE CALCULAN HACIENDO UN PROMEDIO. SE EJECUTA EL KERNEL 1000 VECES Y SE CALCULA DIVIDIENDO EL TIEMPO TOTAL ENTRE 1000.\n",
    "OBJETIVO: ESTUDIAR LOS MEJORES LOCAL SIZES PARA CADA IMAGEN\n",
    "OUTPUT: 2 TABLAS, GRAFICOS PARA CADA FILTRO\n",
    "DONDE: EXPERIMENTOS/RESULTADOS/1000VECES"
   ]
  },
  {
   "cell_type": "markdown",
   "metadata": {},
   "source": [
    "INSTALAR PYOPENCL"
   ]
  },
  {
   "cell_type": "code",
   "execution_count": null,
   "metadata": {},
   "outputs": [],
   "source": [
    "pip install pyopencl"
   ]
  },
  {
   "cell_type": "code",
   "execution_count": null,
   "metadata": {},
   "outputs": [],
   "source": [
    "IMPORTAR LIBRERIAS"
   ]
  },
  {
   "cell_type": "code",
   "execution_count": 2,
   "metadata": {},
   "outputs": [],
   "source": [
    "import pyopencl as cl\n",
    "import numpy as np\n",
    "import pandas as pd\n",
    "import os\n",
    "from PIL import Image, ImageFilter\n",
    "from collections import defaultdict"
   ]
  },
  {
   "cell_type": "markdown",
   "metadata": {},
   "source": [
    "IMPORTAR ARCHIVOS Y FUNCIONES"
   ]
  },
  {
   "cell_type": "code",
   "execution_count": 3,
   "metadata": {},
   "outputs": [],
   "source": [
    "import funciones_filtros as ff\n",
    "import kernels_filtros_imagenes as kernel\n",
    "import determinar_mejor_local_size as mejor\n",
    "import filtros as f\n",
    "import experimento_filtros as ex"
   ]
  },
  {
   "cell_type": "markdown",
   "metadata": {},
   "source": [
    "FUNCION PRINCIPAL QUE EJECUTA EL EXPERIMENTO"
   ]
  },
  {
   "cell_type": "code",
   "execution_count": null,
   "metadata": {},
   "outputs": [],
   "source": [
    "if __name__ == \"__main__\":\n",
    "    # Datos GPU\n",
    "    compute_units = 82\n",
    "    processing_elements = 128\n",
    "\n",
    "    # Datos DEVICE\n",
    "    device_type = cl.device_type.GPU \n",
    "\n",
    "    # Definir los filtros y sus configuraciones\n",
    "    filtros = [\n",
    "    # Filtro Mean\n",
    "    f.filtro_mean,  # Asegúrate de tener esta función definida en 'filtros.py'\n",
    "    # Filtro Gaussian\n",
    "    f.filtro_gaussiani\n",
    "]\n",
    "\n",
    "    aplicar_filtro_funcs = [\n",
    "    ff.aplicar_filtro_color_100,  # Para filtro Mean\n",
    "    ff.aplicar_filtro_color_100  # Para filtro Gaussian\n",
    "    ]\n",
    "\n",
    "    kernel_codes = [\n",
    "    kernel.kernel_filter_color,  # Kernel para filtro Mean\n",
    "    kernel.kernel_filter_color\n",
    "    ]\n",
    "\n",
    "    kernel_names = [\n",
    "    \"kernel_filter_color\",\n",
    "    \"kernel_filter_color\",\n",
    "    ]\n",
    "\n",
    "    # Lista de paths de imágenes\n",
    "    lista_paths = [\n",
    "        \"C:/Users/Eevee/Documents/OPENCL TFG IMP/FILTROS IMAGENES/IMAGENES/imagen64x64.jpg\",\n",
    "        \"C:/Users/Eevee/Documents/OPENCL TFG IMP/FILTROS IMAGENES/IMAGENES/imagen128x128.jpg\",\n",
    "        \"C:/Users/Eevee/Documents/OPENCL TFG IMP/FILTROS IMAGENES/IMAGENES/imagen640x480.jpg\",\n",
    "        \"C:/Users/Eevee/Documents/OPENCL TFG IMP/FILTROS IMAGENES/IMAGENES/imagen800x600.jpg\",\n",
    "        \"C:/Users/Eevee/Documents/OPENCL TFG IMP/FILTROS IMAGENES/IMAGENES/imagen720x1280.jpg\",\n",
    "        \"C:/Users/Eevee/Documents/OPENCL TFG IMP/FILTROS IMAGENES/IMAGENES/imagen1920x1080.jpg\",\n",
    "        \"C:/Users/Eevee/Documents/OPENCL TFG IMP/FILTROS IMAGENES/IMAGENES/imagen2160x3840.jpg\",\n",
    "        \"C:/Users/Eevee/Documents/OPENCL TFG IMP/FILTROS IMAGENES/IMAGENES/imagen8000x6000.jpg\"\n",
    "    ]\n",
    "\n",
    "    # Directorio base para guardar los gráficos\n",
    "    base_save_dir = \"C:/Users/Eevee/Documents/OPENCL TFG IMP/FILTROS IMAGENES/EXPERIMENTOS/RESULTADOS/1000VECES/\"\n",
    "    os.makedirs(base_save_dir, exist_ok=True)\n",
    "    nombres=['mean','gaussian']\n",
    "\n",
    "    # Ejecutar los experimentos\n",
    "    ex.ejecutar_experimentos(\n",
    "        lista_paths=lista_paths,\n",
    "        filtros=filtros,\n",
    "        filtros_nombres=nombres,\n",
    "        aplicar_filtro_funcs=aplicar_filtro_funcs,\n",
    "        kernel_codes=kernel_codes,\n",
    "        kernel_names=kernel_names,\n",
    "        device_type=device_type,\n",
    "        compute_units=compute_units,\n",
    "        processing_elements=processing_elements,\n",
    "        base_save_dir=base_save_dir\n",
    "    )\n"
   ]
  }
 ],
 "metadata": {
  "kernelspec": {
   "display_name": "Python 3",
   "language": "python",
   "name": "python3"
  },
  "language_info": {
   "codemirror_mode": {
    "name": "ipython",
    "version": 3
   },
   "file_extension": ".py",
   "mimetype": "text/x-python",
   "name": "python",
   "nbconvert_exporter": "python",
   "pygments_lexer": "ipython3",
   "version": "3.11.0"
  }
 },
 "nbformat": 4,
 "nbformat_minor": 2
}
