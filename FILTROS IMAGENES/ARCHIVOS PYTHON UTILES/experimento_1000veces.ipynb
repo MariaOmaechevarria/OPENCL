{
 "cells": [
  {
   "cell_type": "markdown",
   "metadata": {},
   "source": [
    "EXPERIMENTO:  Para distintos filtros se calculan los tiempos de ejecución al aplicar el filtro. Los tiempos se calculan haciendo un promedio. Se ejecuta el kernel 1000 veces y se calcula dividiendo el tiempo total entre 1000.\n",
    "\n",
    "OBJETIVO: Estudiar los mejores local sizes para cada imagen.\n",
    "\n",
    "OUTPUT: Para cada filtro estudiado se obtienen dos tablas, resultados generales y los mejores, aparte de varios gráficos\n",
    "\n",
    "DONDE: EXPERIMENTOS/RESULTADOS/1000VECES"
   ]
  },
  {
   "cell_type": "markdown",
   "metadata": {},
   "source": [
    "INSTALAR PYOPENCL"
   ]
  },
  {
   "cell_type": "code",
   "execution_count": 1,
   "metadata": {},
   "outputs": [
    {
     "name": "stdout",
     "output_type": "stream",
     "text": [
      "Defaulting to user installation because normal site-packages is not writeable\n",
      "Requirement already satisfied: pyopencl in c:\\users\\maria\\appdata\\local\\packages\\pythonsoftwarefoundation.python.3.12_qbz5n2kfra8p0\\localcache\\local-packages\\python312\\site-packages (2024.3)\n",
      "Requirement already satisfied: numpy in c:\\users\\maria\\appdata\\local\\packages\\pythonsoftwarefoundation.python.3.12_qbz5n2kfra8p0\\localcache\\local-packages\\python312\\site-packages (from pyopencl) (2.1.2)\n",
      "Requirement already satisfied: platformdirs>=2.2 in c:\\users\\maria\\appdata\\local\\packages\\pythonsoftwarefoundation.python.3.12_qbz5n2kfra8p0\\localcache\\local-packages\\python312\\site-packages (from pyopencl) (4.3.6)\n",
      "Requirement already satisfied: pytools>=2024.1.5 in c:\\users\\maria\\appdata\\local\\packages\\pythonsoftwarefoundation.python.3.12_qbz5n2kfra8p0\\localcache\\local-packages\\python312\\site-packages (from pyopencl) (2024.1.14)\n",
      "Requirement already satisfied: typing-extensions>=4 in c:\\users\\maria\\appdata\\local\\packages\\pythonsoftwarefoundation.python.3.12_qbz5n2kfra8p0\\localcache\\local-packages\\python312\\site-packages (from pytools>=2024.1.5->pyopencl) (4.12.2)\n",
      "Note: you may need to restart the kernel to use updated packages.\n"
     ]
    },
    {
     "name": "stderr",
     "output_type": "stream",
     "text": [
      "\n",
      "[notice] A new release of pip is available: 24.2 -> 24.3.1\n",
      "[notice] To update, run: C:\\Users\\maria\\AppData\\Local\\Microsoft\\WindowsApps\\PythonSoftwareFoundation.Python.3.12_qbz5n2kfra8p0\\python.exe -m pip install --upgrade pip\n"
     ]
    }
   ],
   "source": [
    "pip install pyopencl"
   ]
  },
  {
   "cell_type": "markdown",
   "metadata": {},
   "source": [
    "IMPORTAR LIBRERIAS"
   ]
  },
  {
   "cell_type": "code",
   "execution_count": 2,
   "metadata": {},
   "outputs": [],
   "source": [
    "import pyopencl as cl\n",
    "import numpy as np\n",
    "import pandas as pd\n",
    "import os\n",
    "from PIL import Image, ImageFilter\n",
    "from collections import defaultdict"
   ]
  },
  {
   "cell_type": "markdown",
   "metadata": {},
   "source": [
    "IMPORTAR ARCHIVOS Y FUNCIONES"
   ]
  },
  {
   "cell_type": "code",
   "execution_count": 3,
   "metadata": {},
   "outputs": [],
   "source": [
    "import funciones_filtros as ff\n",
    "import kernels_filtros_imagenes as kernel\n",
    "import determinar_mejor_local_size as mejor\n",
    "import filtros as f\n",
    "import experimento_filtros as ex"
   ]
  },
  {
   "cell_type": "markdown",
   "metadata": {},
   "source": [
    "VALORES IMPORTANTES A MODIFICAR SEGUN EL ORDENADOR"
   ]
  },
  {
   "cell_type": "code",
   "execution_count": null,
   "metadata": {},
   "outputs": [],
   "source": [
    " # Datos GPU\n",
    "compute_units = 96\n",
    "processing_elements = 8\n",
    "\n",
    "#RUTA DE ARCHIVOS\n",
    "path=\"C:/Users/maria/OneDrive/OPENCL/RESULTADOS_PORTATIL\" "
   ]
  },
  {
   "cell_type": "markdown",
   "metadata": {},
   "source": [
    "FUNCION PRINCIPAL QUE EJECUTA EL EXPERIMENTO"
   ]
  },
  {
   "cell_type": "code",
   "execution_count": 5,
   "metadata": {},
   "outputs": [
    {
     "name": "stdout",
     "output_type": "stream",
     "text": [
      "Ejecutando experimento para mean con funcion_aplicada\n",
      "Error al procesar imagen800x600.jpg con local_size (16, 16): clEnqueueNDRangeKernel failed: INVALID_WORK_GROUP_SIZE\n",
      "Error al procesar imagen1920x1080.jpg con local_size (16, 16): clEnqueueNDRangeKernel failed: INVALID_WORK_GROUP_SIZE\n"
     ]
    },
    {
     "ename": "MergeError",
     "evalue": "Not allowed to merge between different levels. (1 levels on the left, 2 on the right)",
     "output_type": "error",
     "traceback": [
      "\u001b[1;31m---------------------------------------------------------------------------\u001b[0m",
      "\u001b[1;31mMergeError\u001b[0m                                Traceback (most recent call last)",
      "Cell \u001b[1;32mIn[5], line 48\u001b[0m\n\u001b[0;32m     45\u001b[0m nombres\u001b[38;5;241m=\u001b[39m[\u001b[38;5;124m'\u001b[39m\u001b[38;5;124mmean\u001b[39m\u001b[38;5;124m'\u001b[39m,\u001b[38;5;124m'\u001b[39m\u001b[38;5;124mgaussian\u001b[39m\u001b[38;5;124m'\u001b[39m]\n\u001b[0;32m     47\u001b[0m     \u001b[38;5;66;03m# Ejecutar los experimentos\u001b[39;00m\n\u001b[1;32m---> 48\u001b[0m \u001b[43mex\u001b[49m\u001b[38;5;241;43m.\u001b[39;49m\u001b[43mejecutar_experimentos\u001b[49m\u001b[43m(\u001b[49m\n\u001b[0;32m     49\u001b[0m \u001b[43m        \u001b[49m\u001b[43mlista_paths\u001b[49m\u001b[38;5;241;43m=\u001b[39;49m\u001b[43mlista_paths\u001b[49m\u001b[43m,\u001b[49m\n\u001b[0;32m     50\u001b[0m \u001b[43m        \u001b[49m\u001b[43mfiltros\u001b[49m\u001b[38;5;241;43m=\u001b[39;49m\u001b[43mfiltros\u001b[49m\u001b[43m,\u001b[49m\n\u001b[0;32m     51\u001b[0m \u001b[43m        \u001b[49m\u001b[43mfiltros_nombres\u001b[49m\u001b[38;5;241;43m=\u001b[39;49m\u001b[43mnombres\u001b[49m\u001b[43m,\u001b[49m\n\u001b[0;32m     52\u001b[0m \u001b[43m        \u001b[49m\u001b[43maplicar_filtro_funcs\u001b[49m\u001b[38;5;241;43m=\u001b[39;49m\u001b[43maplicar_filtro_funcs\u001b[49m\u001b[43m,\u001b[49m\n\u001b[0;32m     53\u001b[0m \u001b[43m        \u001b[49m\u001b[43mkernel_codes\u001b[49m\u001b[38;5;241;43m=\u001b[39;49m\u001b[43mkernel_codes\u001b[49m\u001b[43m,\u001b[49m\n\u001b[0;32m     54\u001b[0m \u001b[43m        \u001b[49m\u001b[43mkernel_names\u001b[49m\u001b[38;5;241;43m=\u001b[39;49m\u001b[43mkernel_names\u001b[49m\u001b[43m,\u001b[49m\n\u001b[0;32m     55\u001b[0m \u001b[43m        \u001b[49m\u001b[43mdevice_type\u001b[49m\u001b[38;5;241;43m=\u001b[39;49m\u001b[43mdevice_type\u001b[49m\u001b[43m,\u001b[49m\n\u001b[0;32m     56\u001b[0m \u001b[43m        \u001b[49m\u001b[43mcompute_units\u001b[49m\u001b[38;5;241;43m=\u001b[39;49m\u001b[43mcompute_units\u001b[49m\u001b[43m,\u001b[49m\n\u001b[0;32m     57\u001b[0m \u001b[43m        \u001b[49m\u001b[43mprocessing_elements\u001b[49m\u001b[38;5;241;43m=\u001b[39;49m\u001b[43mprocessing_elements\u001b[49m\u001b[43m,\u001b[49m\n\u001b[0;32m     58\u001b[0m \u001b[43m        \u001b[49m\u001b[43mbase_save_dir\u001b[49m\u001b[38;5;241;43m=\u001b[39;49m\u001b[43mbase_save_dir\u001b[49m\n\u001b[0;32m     59\u001b[0m \u001b[43m    \u001b[49m\u001b[43m)\u001b[49m\n",
      "File \u001b[1;32mc:\\Users\\maria\\OneDrive\\OPENCL\\FILTROS IMAGENES\\ARCHIVOS PYTHON UTILES\\experimento_filtros.py:347\u001b[0m, in \u001b[0;36mejecutar_experimentos\u001b[1;34m(lista_paths, filtros, filtros_nombres, aplicar_filtro_funcs, kernel_codes, kernel_names, device_type, compute_units, processing_elements, base_save_dir)\u001b[0m\n\u001b[0;32m    344\u001b[0m \u001b[38;5;28mprint\u001b[39m(\u001b[38;5;124mf\u001b[39m\u001b[38;5;124m\"\u001b[39m\u001b[38;5;124mEjecutando experimento para \u001b[39m\u001b[38;5;132;01m{\u001b[39;00mfiltro_nombre\u001b[38;5;132;01m}\u001b[39;00m\u001b[38;5;124m con \u001b[39m\u001b[38;5;132;01m{\u001b[39;00mfuncion_nombre\u001b[38;5;132;01m}\u001b[39;00m\u001b[38;5;124m\"\u001b[39m)\n\u001b[0;32m    346\u001b[0m \u001b[38;5;66;03m# Ejecutar el experimento de filtros\u001b[39;00m\n\u001b[1;32m--> 347\u001b[0m resultados, best_results_df \u001b[38;5;241m=\u001b[39m \u001b[43mexperimento_filtros\u001b[49m\u001b[43m(\u001b[49m\n\u001b[0;32m    348\u001b[0m \u001b[43m    \u001b[49m\u001b[43mlista_paths\u001b[49m\u001b[38;5;241;43m=\u001b[39;49m\u001b[43mlista_paths\u001b[49m\u001b[43m,\u001b[49m\n\u001b[0;32m    349\u001b[0m \u001b[43m    \u001b[49m\u001b[43mfiltro\u001b[49m\u001b[38;5;241;43m=\u001b[39;49m\u001b[43mfiltro\u001b[49m\u001b[43m,\u001b[49m\n\u001b[0;32m    350\u001b[0m \u001b[43m    \u001b[49m\u001b[43maplicar_filtro_func\u001b[49m\u001b[38;5;241;43m=\u001b[39;49m\u001b[43maplicar_filtro_func\u001b[49m\u001b[43m,\u001b[49m\n\u001b[0;32m    351\u001b[0m \u001b[43m    \u001b[49m\u001b[43mkernel_code\u001b[49m\u001b[38;5;241;43m=\u001b[39;49m\u001b[43mkernel_code\u001b[49m\u001b[43m,\u001b[49m\n\u001b[0;32m    352\u001b[0m \u001b[43m    \u001b[49m\u001b[43mkernel_name\u001b[49m\u001b[38;5;241;43m=\u001b[39;49m\u001b[43mkernel_name\u001b[49m\u001b[43m,\u001b[49m\n\u001b[0;32m    353\u001b[0m \u001b[43m    \u001b[49m\u001b[43mdevice_type\u001b[49m\u001b[38;5;241;43m=\u001b[39;49m\u001b[43mdevice_type\u001b[49m\u001b[43m,\u001b[49m\n\u001b[0;32m    354\u001b[0m \u001b[43m    \u001b[49m\u001b[43mcompute_units\u001b[49m\u001b[38;5;241;43m=\u001b[39;49m\u001b[43mcompute_units\u001b[49m\u001b[43m,\u001b[49m\n\u001b[0;32m    355\u001b[0m \u001b[43m    \u001b[49m\u001b[43mprocessing_elements\u001b[49m\u001b[38;5;241;43m=\u001b[39;49m\u001b[43mprocessing_elements\u001b[49m\u001b[43m,\u001b[49m\n\u001b[0;32m    356\u001b[0m \u001b[43m    \u001b[49m\u001b[43mfiltro_nombre\u001b[49m\u001b[38;5;241;43m=\u001b[39;49m\u001b[43mfiltro_nombre\u001b[49m\u001b[43m,\u001b[49m\n\u001b[0;32m    357\u001b[0m \u001b[43m    \u001b[49m\u001b[43mfuncion_nombre\u001b[49m\u001b[38;5;241;43m=\u001b[39;49m\u001b[43mfuncion_nombre\u001b[49m\u001b[43m,\u001b[49m\n\u001b[0;32m    358\u001b[0m \u001b[43m    \u001b[49m\u001b[43mbase_save_dir\u001b[49m\u001b[38;5;241;43m=\u001b[39;49m\u001b[43mbase_save_dir\u001b[49m\n\u001b[0;32m    359\u001b[0m \u001b[43m\u001b[49m\u001b[43m)\u001b[49m\n\u001b[0;32m    362\u001b[0m \u001b[38;5;66;03m# Guardar los DataFrames en Excel\u001b[39;00m\n\u001b[0;32m    363\u001b[0m guardar_dataframes_excel(resultados, best_results_df, base_save_dir, filtro_nombre, funcion_nombre)\n",
      "File \u001b[1;32mc:\\Users\\maria\\OneDrive\\OPENCL\\FILTROS IMAGENES\\ARCHIVOS PYTHON UTILES\\experimento_filtros.py:316\u001b[0m, in \u001b[0;36mexperimento_filtros\u001b[1;34m(lista_paths, filtro, aplicar_filtro_func, kernel_code, kernel_name, device_type, compute_units, processing_elements, filtro_nombre, funcion_nombre, base_save_dir)\u001b[0m\n\u001b[0;32m    314\u001b[0m results_general \u001b[38;5;241m=\u001b[39m filtros_generales(lista_paths, filtro, aplicar_filtro_func, kernel_code, kernel_name, device_type)\n\u001b[0;32m    315\u001b[0m results_optimal \u001b[38;5;241m=\u001b[39m filtros_optimos(lista_paths, filtro, aplicar_filtro_func, kernel_code, kernel_name, device_type, compute_units, processing_elements)\n\u001b[1;32m--> 316\u001b[0m results_combined \u001b[38;5;241m=\u001b[39m \u001b[43mpd\u001b[49m\u001b[38;5;241;43m.\u001b[39;49m\u001b[43mmerge\u001b[49m\u001b[43m(\u001b[49m\u001b[43mresults_general\u001b[49m\u001b[43m,\u001b[49m\u001b[43m \u001b[49m\u001b[43mresults_optimal\u001b[49m\u001b[43m,\u001b[49m\u001b[43m \u001b[49m\u001b[43mon\u001b[49m\u001b[38;5;241;43m=\u001b[39;49m\u001b[38;5;124;43m'\u001b[39;49m\u001b[38;5;124;43mImage Name\u001b[39;49m\u001b[38;5;124;43m'\u001b[39;49m\u001b[43m,\u001b[49m\u001b[43m \u001b[49m\u001b[43mhow\u001b[49m\u001b[38;5;241;43m=\u001b[39;49m\u001b[38;5;124;43m'\u001b[39;49m\u001b[38;5;124;43mouter\u001b[39;49m\u001b[38;5;124;43m'\u001b[39;49m\u001b[43m)\u001b[49m\n\u001b[0;32m    318\u001b[0m best_results_df \u001b[38;5;241m=\u001b[39m mejores_valores(results_combined)\n\u001b[0;32m    320\u001b[0m funcion_dir \u001b[38;5;241m=\u001b[39m os\u001b[38;5;241m.\u001b[39mpath\u001b[38;5;241m.\u001b[39mjoin(base_save_dir, filtro_nombre)\n",
      "File \u001b[1;32m~\\AppData\\Local\\Packages\\PythonSoftwareFoundation.Python.3.12_qbz5n2kfra8p0\\LocalCache\\local-packages\\Python312\\site-packages\\pandas\\core\\reshape\\merge.py:170\u001b[0m, in \u001b[0;36mmerge\u001b[1;34m(left, right, how, on, left_on, right_on, left_index, right_index, sort, suffixes, copy, indicator, validate)\u001b[0m\n\u001b[0;32m    155\u001b[0m     \u001b[38;5;28;01mreturn\u001b[39;00m _cross_merge(\n\u001b[0;32m    156\u001b[0m         left_df,\n\u001b[0;32m    157\u001b[0m         right_df,\n\u001b[1;32m   (...)\u001b[0m\n\u001b[0;32m    167\u001b[0m         copy\u001b[38;5;241m=\u001b[39mcopy,\n\u001b[0;32m    168\u001b[0m     )\n\u001b[0;32m    169\u001b[0m \u001b[38;5;28;01melse\u001b[39;00m:\n\u001b[1;32m--> 170\u001b[0m     op \u001b[38;5;241m=\u001b[39m \u001b[43m_MergeOperation\u001b[49m\u001b[43m(\u001b[49m\n\u001b[0;32m    171\u001b[0m \u001b[43m        \u001b[49m\u001b[43mleft_df\u001b[49m\u001b[43m,\u001b[49m\n\u001b[0;32m    172\u001b[0m \u001b[43m        \u001b[49m\u001b[43mright_df\u001b[49m\u001b[43m,\u001b[49m\n\u001b[0;32m    173\u001b[0m \u001b[43m        \u001b[49m\u001b[43mhow\u001b[49m\u001b[38;5;241;43m=\u001b[39;49m\u001b[43mhow\u001b[49m\u001b[43m,\u001b[49m\n\u001b[0;32m    174\u001b[0m \u001b[43m        \u001b[49m\u001b[43mon\u001b[49m\u001b[38;5;241;43m=\u001b[39;49m\u001b[43mon\u001b[49m\u001b[43m,\u001b[49m\n\u001b[0;32m    175\u001b[0m \u001b[43m        \u001b[49m\u001b[43mleft_on\u001b[49m\u001b[38;5;241;43m=\u001b[39;49m\u001b[43mleft_on\u001b[49m\u001b[43m,\u001b[49m\n\u001b[0;32m    176\u001b[0m \u001b[43m        \u001b[49m\u001b[43mright_on\u001b[49m\u001b[38;5;241;43m=\u001b[39;49m\u001b[43mright_on\u001b[49m\u001b[43m,\u001b[49m\n\u001b[0;32m    177\u001b[0m \u001b[43m        \u001b[49m\u001b[43mleft_index\u001b[49m\u001b[38;5;241;43m=\u001b[39;49m\u001b[43mleft_index\u001b[49m\u001b[43m,\u001b[49m\n\u001b[0;32m    178\u001b[0m \u001b[43m        \u001b[49m\u001b[43mright_index\u001b[49m\u001b[38;5;241;43m=\u001b[39;49m\u001b[43mright_index\u001b[49m\u001b[43m,\u001b[49m\n\u001b[0;32m    179\u001b[0m \u001b[43m        \u001b[49m\u001b[43msort\u001b[49m\u001b[38;5;241;43m=\u001b[39;49m\u001b[43msort\u001b[49m\u001b[43m,\u001b[49m\n\u001b[0;32m    180\u001b[0m \u001b[43m        \u001b[49m\u001b[43msuffixes\u001b[49m\u001b[38;5;241;43m=\u001b[39;49m\u001b[43msuffixes\u001b[49m\u001b[43m,\u001b[49m\n\u001b[0;32m    181\u001b[0m \u001b[43m        \u001b[49m\u001b[43mindicator\u001b[49m\u001b[38;5;241;43m=\u001b[39;49m\u001b[43mindicator\u001b[49m\u001b[43m,\u001b[49m\n\u001b[0;32m    182\u001b[0m \u001b[43m        \u001b[49m\u001b[43mvalidate\u001b[49m\u001b[38;5;241;43m=\u001b[39;49m\u001b[43mvalidate\u001b[49m\u001b[43m,\u001b[49m\n\u001b[0;32m    183\u001b[0m \u001b[43m    \u001b[49m\u001b[43m)\u001b[49m\n\u001b[0;32m    184\u001b[0m     \u001b[38;5;28;01mreturn\u001b[39;00m op\u001b[38;5;241m.\u001b[39mget_result(copy\u001b[38;5;241m=\u001b[39mcopy)\n",
      "File \u001b[1;32m~\\AppData\\Local\\Packages\\PythonSoftwareFoundation.Python.3.12_qbz5n2kfra8p0\\LocalCache\\local-packages\\Python312\\site-packages\\pandas\\core\\reshape\\merge.py:784\u001b[0m, in \u001b[0;36m_MergeOperation.__init__\u001b[1;34m(self, left, right, how, on, left_on, right_on, left_index, right_index, sort, suffixes, indicator, validate)\u001b[0m\n\u001b[0;32m    778\u001b[0m \u001b[38;5;28;01mif\u001b[39;00m _left\u001b[38;5;241m.\u001b[39mcolumns\u001b[38;5;241m.\u001b[39mnlevels \u001b[38;5;241m!=\u001b[39m _right\u001b[38;5;241m.\u001b[39mcolumns\u001b[38;5;241m.\u001b[39mnlevels:\n\u001b[0;32m    779\u001b[0m     msg \u001b[38;5;241m=\u001b[39m (\n\u001b[0;32m    780\u001b[0m         \u001b[38;5;124m\"\u001b[39m\u001b[38;5;124mNot allowed to merge between different levels. \u001b[39m\u001b[38;5;124m\"\u001b[39m\n\u001b[0;32m    781\u001b[0m         \u001b[38;5;124mf\u001b[39m\u001b[38;5;124m\"\u001b[39m\u001b[38;5;124m(\u001b[39m\u001b[38;5;132;01m{\u001b[39;00m_left\u001b[38;5;241m.\u001b[39mcolumns\u001b[38;5;241m.\u001b[39mnlevels\u001b[38;5;132;01m}\u001b[39;00m\u001b[38;5;124m levels on the left, \u001b[39m\u001b[38;5;124m\"\u001b[39m\n\u001b[0;32m    782\u001b[0m         \u001b[38;5;124mf\u001b[39m\u001b[38;5;124m\"\u001b[39m\u001b[38;5;132;01m{\u001b[39;00m_right\u001b[38;5;241m.\u001b[39mcolumns\u001b[38;5;241m.\u001b[39mnlevels\u001b[38;5;132;01m}\u001b[39;00m\u001b[38;5;124m on the right)\u001b[39m\u001b[38;5;124m\"\u001b[39m\n\u001b[0;32m    783\u001b[0m     )\n\u001b[1;32m--> 784\u001b[0m     \u001b[38;5;28;01mraise\u001b[39;00m MergeError(msg)\n\u001b[0;32m    786\u001b[0m \u001b[38;5;28mself\u001b[39m\u001b[38;5;241m.\u001b[39mleft_on, \u001b[38;5;28mself\u001b[39m\u001b[38;5;241m.\u001b[39mright_on \u001b[38;5;241m=\u001b[39m \u001b[38;5;28mself\u001b[39m\u001b[38;5;241m.\u001b[39m_validate_left_right_on(left_on, right_on)\n\u001b[0;32m    788\u001b[0m (\n\u001b[0;32m    789\u001b[0m     \u001b[38;5;28mself\u001b[39m\u001b[38;5;241m.\u001b[39mleft_join_keys,\n\u001b[0;32m    790\u001b[0m     \u001b[38;5;28mself\u001b[39m\u001b[38;5;241m.\u001b[39mright_join_keys,\n\u001b[1;32m   (...)\u001b[0m\n\u001b[0;32m    793\u001b[0m     right_drop,\n\u001b[0;32m    794\u001b[0m ) \u001b[38;5;241m=\u001b[39m \u001b[38;5;28mself\u001b[39m\u001b[38;5;241m.\u001b[39m_get_merge_keys()\n",
      "\u001b[1;31mMergeError\u001b[0m: Not allowed to merge between different levels. (1 levels on the left, 2 on the right)"
     ]
    }
   ],
   "source": [
    "\n",
    "# Datos DEVICE\n",
    "device_type = cl.device_type.GPU \n",
    "\n",
    "# Definir los filtros y sus configuraciones\n",
    "filtros = [\n",
    "    # Filtro Mean\n",
    "    f.filtro_mean,  \n",
    "    # Filtro Gaussian\n",
    "    f.filtro_gaussiani\n",
    "]\n",
    "\n",
    "aplicar_filtro_funcs = [\n",
    "    ff.aplicar_filtro_color_100,  # Para filtro Mean\n",
    "    ff.aplicar_filtro_color_100  # Para filtro Gaussian\n",
    "    ]\n",
    "\n",
    "kernel_codes = [\n",
    "    kernel.kernel_filter_color,  # Kernel para filtro Mean\n",
    "    kernel.kernel_filter_color\n",
    "    ]\n",
    "\n",
    "kernel_names = [\n",
    "    \"kernel_filter_color\",\n",
    "    \"kernel_filter_color\",\n",
    "    ]\n",
    "\n",
    "\n",
    "\n",
    "# Lista de paths de imágenes\n",
    "lista_paths = [\n",
    "       os.path.join(path, \"OPENCL/FILTROS IMAGENES/IMAGENES/imagen64x64.jpg\"),\n",
    "       os.path.join(path, \"OPENCL/FILTROS IMAGENES/IMAGENES/imagen128x128.jpg\"),\n",
    "       os.path.join(path, \"OPENCL/FILTROS IMAGENES/IMAGENES/imagen640x480.jpg\"),\n",
    "       os.path.join(path, \"OPENCL/FILTROS IMAGENES/IMAGENES/imagen800x600.jpg\"),\n",
    "       os.path.join(path, \"OPENCL/FILTROS IMAGENES/IMAGENES/imagen720x1280.jpg\"),\n",
    "       os.path.join(path, \"OPENCL/FILTROS IMAGENES/IMAGENES/imagen1920x1080.jpg\"),\n",
    "       os.path.join(path, \"OPENCL/FILTROS IMAGENES/IMAGENES/imagen2160x3840.jpg\"),\n",
    "       os.path.join(path, \"OPENCL/FILTROS IMAGENES/IMAGENES/imagen8000x6000.jpg\")]\n",
    "\n",
    "\n",
    "    # Directorio base para guardar los gráficos\n",
    "    #base_save_dir = \"C:/Users/Eevee/Documents/OPENCL TFG IMP/FILTROS IMAGENES/EXPERIMENTOS/RESULTADOS/1000VECES/\"\n",
    "base_save_dir = os.path.join(path, \"OPENCL/FILTROS IMAGENES/EXPERIMENTOS/RESULTADOS/1000VECES/\")\n",
    "os.makedirs(base_save_dir, exist_ok=True)\n",
    "nombres=['mean','gaussian']\n",
    "\n",
    "    # Ejecutar los experimentos\n",
    "ex.ejecutar_experimentos(\n",
    "        lista_paths=lista_paths,\n",
    "        filtros=filtros,\n",
    "        filtros_nombres=nombres,\n",
    "        aplicar_filtro_funcs=aplicar_filtro_funcs,\n",
    "        kernel_codes=kernel_codes,\n",
    "        kernel_names=kernel_names,\n",
    "        device_type=device_type,\n",
    "        compute_units=compute_units,\n",
    "        processing_elements=processing_elements,\n",
    "        base_save_dir=base_save_dir\n",
    "    )\n"
   ]
  }
 ],
 "metadata": {
  "kernelspec": {
   "display_name": "Python 3",
   "language": "python",
   "name": "python3"
  },
  "language_info": {
   "codemirror_mode": {
    "name": "ipython",
    "version": 3
   },
   "file_extension": ".py",
   "mimetype": "text/x-python",
   "name": "python",
   "nbconvert_exporter": "python",
   "pygments_lexer": "ipython3",
   "version": "3.12.7"
  }
 },
 "nbformat": 4,
 "nbformat_minor": 2
}
