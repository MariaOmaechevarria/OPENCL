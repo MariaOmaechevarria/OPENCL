{
  "nbformat": 4,
  "nbformat_minor": 0,
  "metadata": {
    "colab": {
      "provenance": [],
      "gpuType": "T4",
      "include_colab_link": true
    },
    "kernelspec": {
      "name": "python3",
      "display_name": "Python 3"
    },
    "language_info": {
      "name": "python"
    },
    "accelerator": "GPU"
  },
  "cells": [
    {
      "cell_type": "markdown",
      "metadata": {
        "id": "view-in-github",
        "colab_type": "text"
      },
      "source": [
        "<a href=\"https://colab.research.google.com/github/MariaOmaechevarria/OPENCL/blob/main/Mult_Mat_Memoria_Coallesced.ipynb\" target=\"_parent\"><img src=\"https://colab.research.google.com/assets/colab-badge.svg\" alt=\"Open In Colab\"/></a>"
      ]
    },
    {
      "cell_type": "markdown",
      "source": [
        "NECESARIO PARA EJECUTAR PYOPENCL EN GOOGLE COLLAB (APROX 5 MINUTOS)"
      ],
      "metadata": {
        "id": "D2M2sl-gRt40"
      }
    },
    {
      "cell_type": "code",
      "execution_count": null,
      "metadata": {
        "collapsed": true,
        "id": "vz8DpUd6NYOM"
      },
      "outputs": [],
      "source": [
        "!sudo apt update\n",
        "!sudo apt purge *nvidia* -y\n",
        "!sudo apt install nvidia-driver-530 -y\n",
        "\n",
        "\n",
        "!pip install pyopencl\n",
        "!apt-get install -y pocl-opencl-icd ocl-icd-libopencl1"
      ]
    },
    {
      "cell_type": "markdown",
      "source": [
        "LIBRERIAS USADAS Y ACCESO GOOGLE DRIVE"
      ],
      "metadata": {
        "id": "a9A_Nc_xRx2O"
      }
    },
    {
      "cell_type": "code",
      "source": [
        "import pyopencl as cl\n",
        "import numpy as np\n",
        "import pandas as pd\n",
        "from google.colab import drive\n",
        "drive.mount('/content/drive')"
      ],
      "metadata": {
        "collapsed": true,
        "id": "b6k1ZMxRNms6"
      },
      "execution_count": null,
      "outputs": []
    },
    {
      "cell_type": "markdown",
      "source": [
        "KERNEL MEMORY COALLESCED"
      ],
      "metadata": {
        "id": "Q_uo7iWjRkVV"
      }
    },
    {
      "cell_type": "code",
      "source": [
        "program_text=\"\"\" __kernel void MatrixMul_kernel_coallesced_row(int dim,__global int *A,__global int *B,__global int *C)\n",
        "{\n",
        "   //Get the index of the work-item\n",
        "    int iCol = get_global_id(0);\n",
        "    int iRow = get_global_id(1);\n",
        "    int localIdx = get_local_id(0);\n",
        "    int localSizex = get_local_size(0);\n",
        "\n",
        "    float result = 0.0f;\n",
        "    int numElements = dim/localSizex;\n",
        "    for(int j=0; j<numElements; j++)\n",
        "    {\n",
        "      result = 0.0f;\n",
        "      for(int i=0;i< dim;++i)\n",
        "      {\n",
        "         result += A[iRow*dim + i]*B[i*dim + j*localSizex + localIdx];\n",
        "       }\n",
        "      C[iRow*dim + j*localSizex + iCol] = result;\n",
        "    }\n",
        "    }\n",
        "\"\"\""
      ],
      "metadata": {
        "id": "YoPQOGlMNqaK"
      },
      "execution_count": null,
      "outputs": []
    },
    {
      "cell_type": "markdown",
      "source": [
        "FUNCION PRINCIPAL QUE REALIZA LA MULTIPLICACIÓN DE DOS MATRICES DE CIERTA DIMENSION EN UN DEVICE CON UN DADO LOCAL_SIZE"
      ],
      "metadata": {
        "id": "bd4hperLR4Iv"
      }
    },
    {
      "cell_type": "code",
      "source": [
        "def mult_mat_memoria_coallesced(dim:int,local_size:tuple,device_type,program_text,A,B):\n",
        "\n",
        "  # Plataforma\n",
        "  platform = cl.get_platforms()[0]\n",
        "\n",
        "  # Dispositivo (GPU)\n",
        "  device = platform.get_devices(device_type=device_type)[0]\n",
        "\n",
        "  # Crear contexto con el dispositivo seleccionado\n",
        "  context = cl.Context([device])\n",
        "\n",
        "  # Crear una cola de comandos\n",
        "  command_queue = cl.CommandQueue(context, device=device, properties=cl.command_queue_properties.PROFILING_ENABLE)\n",
        "\n",
        "  # Crear el programa y compilarlo\n",
        "  program = cl.Program(context, program_text)\n",
        "  try:\n",
        "       program.build()\n",
        "  except Exception as e:\n",
        "    print(\"Build log:\")\n",
        "    print(program.get_build_info(device, cl.program_build_info.LOG))\n",
        "    raise e\n",
        "\n",
        "  # Crear el kernel\n",
        "  mult_kernel = cl.Kernel(program, 'MatrixMul_kernel_coallesced_row')\n",
        "\n",
        "  # Crear matrices\n",
        "  C = np.zeros((dim, dim), dtype=np.int32)\n",
        "\n",
        "  # Crear Buffers\n",
        "  bufA = cl.Buffer(context, cl.mem_flags.READ_ONLY | cl.mem_flags.COPY_HOST_PTR, hostbuf=A)\n",
        "  bufB = cl.Buffer(context, cl.mem_flags.READ_ONLY | cl.mem_flags.COPY_HOST_PTR, hostbuf=B)\n",
        "  bufC = cl.Buffer(context, cl.mem_flags.WRITE_ONLY, C.nbytes)  # C solo necesita espacio de escritura\n",
        "\n",
        "  # Argumentos del kernel\n",
        "  mult_kernel.set_arg(0, np.int32(dim))  # Dimensión como int32\n",
        "  mult_kernel.set_arg(1, bufA)            # Buffer A\n",
        "  mult_kernel.set_arg(2, bufB)            # Buffer B\n",
        "  mult_kernel.set_arg(3, bufC)            # Buffer C\n",
        "\n",
        "  # Ejecutar el kernel y registrar el evento\n",
        "  global_size = (dim, dim)  # Tamaño global\n",
        "  event = cl.enqueue_nd_range_kernel(command_queue, mult_kernel, global_size, local_size)\n",
        "\n",
        "  # Esperar a que se complete el evento\n",
        "  event.wait()\n",
        "\n",
        "  # Obtener el tiempo de ejecución en nanosegundos\n",
        "  exec_time = 1e-9 * (event.profile.end - event.profile.start)\n",
        "\n",
        "  # Leer el buffer C\n",
        "  cl.enqueue_copy(command_queue, C, bufC).wait()  # Asegúrate de que la operación se complete\n",
        "\n",
        "\n",
        "  return exec_time,C\n"
      ],
      "metadata": {
        "id": "wbz4okHqOoMs"
      },
      "execution_count": null,
      "outputs": []
    },
    {
      "cell_type": "markdown",
      "source": [
        "FUNCION MAIN QUE REALIZA LA MULT DE MATRICES PARA VARIAS DIMENSIONES Y DISTINTOS LOCAL SIZE(Nº WORK ITEMS EN CADA WORK_GROUP)"
      ],
      "metadata": {
        "id": "wc6nqXn_SEyU"
      }
    },
    {
      "cell_type": "code",
      "source": [
        "def main():\n",
        "\n",
        "  device_type=cl.device_type.GPU\n",
        "  index = [(f\"({2 ** i}/{2 ** i})\" if i != 0 else \"(1/1)\") for i in range(0, 5)]\n",
        "  columns = [2 ** i for i in range(1, 14)]  # 2^1 a 2^13 (de 2 a 8192)\n",
        "  results_df = pd.DataFrame(index=index, columns=columns)\n",
        "\n",
        "  i=1\n",
        "  while i<=16:\n",
        "\n",
        "    local_size=(i,i)\n",
        "    dim=i\n",
        "\n",
        "    while dim<=2048:\n",
        "\n",
        "       A = np.random.randint(0, 10, size=(dim, dim)).astype(np.int32)\n",
        "       B = np.random.randint(0, 10, size=(dim, dim)).astype(np.int32)\n",
        "\n",
        "       exec_time,C=mult_mat_memoria_coallesced(dim,local_size,device_type,program_text,A,B)\n",
        "\n",
        "       results_df.loc[f\"({i}/{i})\", dim] = exec_time if exec_time is not None else \"NP\"\n",
        "\n",
        "       dim*=2\n",
        "\n",
        "       del A,B\n",
        "\n",
        "    i*=2\n",
        "\n",
        "  #Guardar los resultados\n",
        "  results_df.to_csv('/content/drive/My Drive/Colab Notebooks/TFG_OPENCL/MULTIPLICACION DE MATRICES/Mult_Mat_Memoria_Coallesced_CPU.csv',index=True)\n",
        "\n",
        "  return results_df\n",
        "\n",
        "\n",
        "results_df=main()\n"
      ],
      "metadata": {
        "id": "PltlbJGtOt7B",
        "colab": {
          "base_uri": "https://localhost:8080/",
          "height": 339
        },
        "outputId": "6a331822-b31c-4a29-e28a-858888e43a8f"
      },
      "execution_count": null,
      "outputs": [
        {
          "output_type": "error",
          "ename": "LogicError",
          "evalue": "Context failed: <unknown error -9999>",
          "traceback": [
            "\u001b[0;31m---------------------------------------------------------------------------\u001b[0m",
            "\u001b[0;31mLogicError\u001b[0m                                Traceback (most recent call last)",
            "\u001b[0;32m<ipython-input-7-1f81a13035b3>\u001b[0m in \u001b[0;36m<cell line: 35>\u001b[0;34m()\u001b[0m\n\u001b[1;32m     33\u001b[0m \u001b[0;34m\u001b[0m\u001b[0m\n\u001b[1;32m     34\u001b[0m \u001b[0;34m\u001b[0m\u001b[0m\n\u001b[0;32m---> 35\u001b[0;31m \u001b[0mresults_df\u001b[0m\u001b[0;34m=\u001b[0m\u001b[0mmain\u001b[0m\u001b[0;34m(\u001b[0m\u001b[0;34m)\u001b[0m\u001b[0;34m\u001b[0m\u001b[0;34m\u001b[0m\u001b[0m\n\u001b[0m",
            "\u001b[0;32m<ipython-input-7-1f81a13035b3>\u001b[0m in \u001b[0;36mmain\u001b[0;34m()\u001b[0m\n\u001b[1;32m     17\u001b[0m        \u001b[0mB\u001b[0m \u001b[0;34m=\u001b[0m \u001b[0mnp\u001b[0m\u001b[0;34m.\u001b[0m\u001b[0mrandom\u001b[0m\u001b[0;34m.\u001b[0m\u001b[0mrandint\u001b[0m\u001b[0;34m(\u001b[0m\u001b[0;36m0\u001b[0m\u001b[0;34m,\u001b[0m \u001b[0;36m10\u001b[0m\u001b[0;34m,\u001b[0m \u001b[0msize\u001b[0m\u001b[0;34m=\u001b[0m\u001b[0;34m(\u001b[0m\u001b[0mdim\u001b[0m\u001b[0;34m,\u001b[0m \u001b[0mdim\u001b[0m\u001b[0;34m)\u001b[0m\u001b[0;34m)\u001b[0m\u001b[0;34m.\u001b[0m\u001b[0mastype\u001b[0m\u001b[0;34m(\u001b[0m\u001b[0mnp\u001b[0m\u001b[0;34m.\u001b[0m\u001b[0mint32\u001b[0m\u001b[0;34m)\u001b[0m\u001b[0;34m\u001b[0m\u001b[0;34m\u001b[0m\u001b[0m\n\u001b[1;32m     18\u001b[0m \u001b[0;34m\u001b[0m\u001b[0m\n\u001b[0;32m---> 19\u001b[0;31m        \u001b[0mexec_time\u001b[0m\u001b[0;34m,\u001b[0m\u001b[0mC\u001b[0m\u001b[0;34m=\u001b[0m\u001b[0mmult_mat_memoria_coallesced\u001b[0m\u001b[0;34m(\u001b[0m\u001b[0mdim\u001b[0m\u001b[0;34m,\u001b[0m\u001b[0mlocal_size\u001b[0m\u001b[0;34m,\u001b[0m\u001b[0mdevice_type\u001b[0m\u001b[0;34m,\u001b[0m\u001b[0mprogram_text\u001b[0m\u001b[0;34m,\u001b[0m\u001b[0mA\u001b[0m\u001b[0;34m,\u001b[0m\u001b[0mB\u001b[0m\u001b[0;34m)\u001b[0m\u001b[0;34m\u001b[0m\u001b[0;34m\u001b[0m\u001b[0m\n\u001b[0m\u001b[1;32m     20\u001b[0m \u001b[0;34m\u001b[0m\u001b[0m\n\u001b[1;32m     21\u001b[0m        \u001b[0mresults_df\u001b[0m\u001b[0;34m.\u001b[0m\u001b[0mloc\u001b[0m\u001b[0;34m[\u001b[0m\u001b[0;34mf\"({i}/{i})\"\u001b[0m\u001b[0;34m,\u001b[0m \u001b[0mdim\u001b[0m\u001b[0;34m]\u001b[0m \u001b[0;34m=\u001b[0m \u001b[0mexec_time\u001b[0m \u001b[0;32mif\u001b[0m \u001b[0mexec_time\u001b[0m \u001b[0;32mis\u001b[0m \u001b[0;32mnot\u001b[0m \u001b[0;32mNone\u001b[0m \u001b[0;32melse\u001b[0m \u001b[0;34m\"NP\"\u001b[0m\u001b[0;34m\u001b[0m\u001b[0;34m\u001b[0m\u001b[0m\n",
            "\u001b[0;32m<ipython-input-4-5154e1f48379>\u001b[0m in \u001b[0;36mmult_mat_memoria_coallesced\u001b[0;34m(dim, local_size, device_type, program_text, A, B)\u001b[0m\n\u001b[1;32m      8\u001b[0m \u001b[0;34m\u001b[0m\u001b[0m\n\u001b[1;32m      9\u001b[0m   \u001b[0;31m# Crear contexto con el dispositivo seleccionado\u001b[0m\u001b[0;34m\u001b[0m\u001b[0;34m\u001b[0m\u001b[0m\n\u001b[0;32m---> 10\u001b[0;31m   \u001b[0mcontext\u001b[0m \u001b[0;34m=\u001b[0m \u001b[0mcl\u001b[0m\u001b[0;34m.\u001b[0m\u001b[0mContext\u001b[0m\u001b[0;34m(\u001b[0m\u001b[0;34m[\u001b[0m\u001b[0mdevice\u001b[0m\u001b[0;34m]\u001b[0m\u001b[0;34m)\u001b[0m\u001b[0;34m\u001b[0m\u001b[0;34m\u001b[0m\u001b[0m\n\u001b[0m\u001b[1;32m     11\u001b[0m \u001b[0;34m\u001b[0m\u001b[0m\n\u001b[1;32m     12\u001b[0m   \u001b[0;31m# Crear una cola de comandos\u001b[0m\u001b[0;34m\u001b[0m\u001b[0;34m\u001b[0m\u001b[0m\n",
            "\u001b[0;31mLogicError\u001b[0m: Context failed: <unknown error -9999>"
          ]
        }
      ]
    }
  ]
}