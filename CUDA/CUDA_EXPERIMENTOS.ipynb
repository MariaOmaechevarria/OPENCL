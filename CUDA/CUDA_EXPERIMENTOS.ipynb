{
 "cells": [
  {
   "cell_type": "markdown",
   "metadata": {},
   "source": [
    "INSTALAR PYCUDA"
   ]
  },
  {
   "cell_type": "code",
   "execution_count": 1,
   "metadata": {},
   "outputs": [
    {
     "name": "stdout",
     "output_type": "stream",
     "text": [
      "Defaulting to user installation because normal site-packages is not writeable\n",
      "Requirement already satisfied: pycuda in c:\\users\\eevee\\appdata\\roaming\\python\\python311\\site-packages (2024.1.2)\n",
      "Requirement already satisfied: pytools>=2011.2 in c:\\users\\eevee\\appdata\\roaming\\python\\python311\\site-packages (from pycuda) (2024.1.14)\n",
      "Requirement already satisfied: platformdirs>=2.2.0 in c:\\users\\eevee\\appdata\\roaming\\python\\python311\\site-packages (from pycuda) (4.3.6)\n",
      "Requirement already satisfied: mako in c:\\users\\eevee\\appdata\\roaming\\python\\python311\\site-packages (from pycuda) (1.3.6)\n",
      "Requirement already satisfied: typing-extensions>=4 in c:\\users\\eevee\\appdata\\roaming\\python\\python311\\site-packages (from pytools>=2011.2->pycuda) (4.12.2)\n",
      "Requirement already satisfied: MarkupSafe>=0.9.2 in c:\\users\\eevee\\appdata\\roaming\\python\\python311\\site-packages (from mako->pycuda) (3.0.1)\n"
     ]
    }
   ],
   "source": [
    "!pip install pycuda"
   ]
  },
  {
   "cell_type": "markdown",
   "metadata": {},
   "source": [
    "LIBRERIAS Y ARCHIVOS PARA USAR"
   ]
  },
  {
   "cell_type": "code",
   "execution_count": 2,
   "metadata": {},
   "outputs": [],
   "source": [
    "import pycuda.driver as cuda\n",
    "import pycuda.compiler as SourceModule\n",
    "import numpy as np\n",
    "import time\n",
    "import numpy as np\n",
    "import pandas as pd\n",
    "import os\n",
    "import matplotlib.pyplot as plt\n",
    "from collections import defaultdict\n",
    "import pyopencl as cl\n",
    "import mult_matrices_basico_cuda as cuda\n",
    "import matplotlib.ticker as ticker\n",
    "import mult_matrices_basica_opencl as opencl\n",
    "import experimentos_cuda as ex"
   ]
  },
  {
   "cell_type": "markdown",
   "metadata": {},
   "source": [
    "VALOR PARA MODIFICAR SEGUN EL ORDENADOR"
   ]
  },
  {
   "cell_type": "code",
   "execution_count": 3,
   "metadata": {},
   "outputs": [],
   "source": [
    "path=\"C:/Users/Eevee/OPENCL-6/\""
   ]
  },
  {
   "cell_type": "markdown",
   "metadata": {},
   "source": [
    "EXPERIMENTO DE COMPARAR CUDA VS OPENCL MULTIPLICANDO MATRICES"
   ]
  },
  {
   "cell_type": "code",
   "execution_count": null,
   "metadata": {},
   "outputs": [],
   "source": [
    "# Crear directorio para guardar los gráficos\n",
    "save_path = os.path.join(path, 'CUDA/RESULTADOS')\n",
    "os.makedirs(save_path, exist_ok=True)\n",
    "\n",
    "#EJECUTAR LA COMPARACION DE OPENCL VS CUDA\n",
    "ex.comparar(save_path)\n"
   ]
  },
  {
   "cell_type": "markdown",
   "metadata": {},
   "source": [
    "EXPERIMENTO CUDA MULT MATRICES CON DISTINTOS LOCAL SIZES Y DIMENSIONES MATRICES"
   ]
  },
  {
   "cell_type": "code",
   "execution_count": null,
   "metadata": {},
   "outputs": [],
   "source": [
    "\n",
    "#EJECUTAR EL KERNEL DE CUDA CON MUCHOS EJEMPLOS:\n",
    "ex.experimento_matrices(save_path,funcion_nombre='kernel_cuda')"
   ]
  }
 ],
 "metadata": {
  "kernelspec": {
   "display_name": "Python 3",
   "language": "python",
   "name": "python3"
  },
  "language_info": {
   "codemirror_mode": {
    "name": "ipython",
    "version": 3
   },
   "file_extension": ".py",
   "mimetype": "text/x-python",
   "name": "python",
   "nbconvert_exporter": "python",
   "pygments_lexer": "ipython3",
   "version": "3.11.0"
  }
 },
 "nbformat": 4,
 "nbformat_minor": 2
}
