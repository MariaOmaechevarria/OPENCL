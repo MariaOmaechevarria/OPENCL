{
 "cells": [
  {
   "cell_type": "code",
   "execution_count": null,
   "metadata": {},
   "outputs": [],
   "source": [
    "'''\n",
    "ARCHIVO PARA EJECUTAR LOS EXPERIMENTOS:\n",
    " - CUDA VS OPENCL \n",
    " - EJECUCIÓN DE CUDA INDIVIDUAL\n",
    "'''\n",
    "\n",
    "#Libreria a importar\n",
    "import os\n",
    "\n",
    "#Archivo con las funciones y los experimentos\n",
    "import funciones_experimentos_cuda as ex\n",
    "\n",
    "#Directorio para almacenar los resultados\n",
    "path = os.getcwd()\n",
    "\n",
    "#Rutas de archivos para añadir para poder ejecutar CUDA\n",
    "os.environ[\"PATH\"] += os.pathsep + r\"C:\\Program Files\\NVIDIA GPU Computing Toolkit\\CUDA\\v12.6\\bin\"\n",
    "os.environ[\"PATH\"] += os.pathsep + r\"C:\\Program Files (x86)\\Microsoft Visual Studio\\2022\\BuildTools\\VC\\Tools\\MSVC\\14.41.34120\\bin\\Hostx64\\x64\"\n",
    "\n",
    "# Crear directorio para guardar los gráficos\n",
    "save_path = os.path.join(path, 'RESULTADOS')\n",
    "os.makedirs(save_path, exist_ok=True)\n",
    "\n",
    "#EJECUTAR LA COMPARACION DE OPENCL VS CUDA\n",
    "ex.comparar(save_path)\n",
    "\n",
    "#EJECUTAR EL KERNEL DE CUDA CON MUCHOS EJEMPLOS:\n",
    "ex.experimento_matrices(save_path,funcion_nombre='kernel_cuda')"
   ]
  }
 ],
 "metadata": {
  "kernelspec": {
   "display_name": "base",
   "language": "python",
   "name": "python3"
  },
  "language_info": {
   "codemirror_mode": {
    "name": "ipython",
    "version": 3
   },
   "file_extension": ".py",
   "mimetype": "text/x-python",
   "name": "python",
   "nbconvert_exporter": "python",
   "pygments_lexer": "ipython3",
   "version": "3.12.4"
  }
 },
 "nbformat": 4,
 "nbformat_minor": 2
}
